{
 "cells": [
  {
   "cell_type": "markdown",
   "id": "d4dda9e0",
   "metadata": {},
   "source": [
    "## 1. \n",
    "\n",
    "#### What is the average monthly revenue, expenses, and profit?"
   ]
  },
  {
   "cell_type": "code",
   "execution_count": 1,
   "id": "5901c49c",
   "metadata": {},
   "outputs": [
    {
     "data": {
      "text/html": [
       "<div>\n",
       "<style scoped>\n",
       "    .dataframe tbody tr th:only-of-type {\n",
       "        vertical-align: middle;\n",
       "    }\n",
       "\n",
       "    .dataframe tbody tr th {\n",
       "        vertical-align: top;\n",
       "    }\n",
       "\n",
       "    .dataframe thead th {\n",
       "        text-align: right;\n",
       "    }\n",
       "</style>\n",
       "<table border=\"1\" class=\"dataframe\">\n",
       "  <thead>\n",
       "    <tr style=\"text-align: right;\">\n",
       "      <th></th>\n",
       "      <th>Date</th>\n",
       "      <th>Revenue</th>\n",
       "      <th>Expenses</th>\n",
       "      <th>Profit</th>\n",
       "    </tr>\n",
       "  </thead>\n",
       "  <tbody>\n",
       "    <tr>\n",
       "      <th>0</th>\n",
       "      <td>31 01 2022</td>\n",
       "      <td>19000</td>\n",
       "      <td>5000</td>\n",
       "      <td>14000</td>\n",
       "    </tr>\n",
       "    <tr>\n",
       "      <th>1</th>\n",
       "      <td>28 02 2022</td>\n",
       "      <td>16000</td>\n",
       "      <td>5500</td>\n",
       "      <td>10500</td>\n",
       "    </tr>\n",
       "    <tr>\n",
       "      <th>2</th>\n",
       "      <td>31 03 2022</td>\n",
       "      <td>10000</td>\n",
       "      <td>7000</td>\n",
       "      <td>3000</td>\n",
       "    </tr>\n",
       "    <tr>\n",
       "      <th>3</th>\n",
       "      <td>30 04 2022</td>\n",
       "      <td>18000</td>\n",
       "      <td>8000</td>\n",
       "      <td>10000</td>\n",
       "    </tr>\n",
       "    <tr>\n",
       "      <th>4</th>\n",
       "      <td>31 05 2022</td>\n",
       "      <td>25000</td>\n",
       "      <td>9000</td>\n",
       "      <td>16000</td>\n",
       "    </tr>\n",
       "  </tbody>\n",
       "</table>\n",
       "</div>"
      ],
      "text/plain": [
       "         Date  Revenue  Expenses  Profit\n",
       "0  31 01 2022    19000      5000   14000\n",
       "1  28 02 2022    16000      5500   10500\n",
       "2  31 03 2022    10000      7000    3000\n",
       "3  30 04 2022    18000      8000   10000\n",
       "4  31 05 2022    25000      9000   16000"
      ]
     },
     "execution_count": 1,
     "metadata": {},
     "output_type": "execute_result"
    }
   ],
   "source": [
    "import pandas as pd\n",
    "\n",
    "\n",
    "df = pd.read_csv(\"financial_data.csv\")\n",
    "df.head()"
   ]
  },
  {
   "cell_type": "code",
   "execution_count": 2,
   "id": "3b9ca7df",
   "metadata": {},
   "outputs": [
    {
     "name": "stdout",
     "output_type": "stream",
     "text": [
      "Average monthly revenue: 35200.00\n",
      "Average monthly expenses: 15425.00\n",
      "Average monthly profit: 19775.00\n"
     ]
    }
   ],
   "source": [
    "# calculate the average monthly revenue, expenses, and profit\n",
    "avg_revenue = df['Revenue'].mean()\n",
    "avg_expenses = df['Expenses'].mean()\n",
    "avg_profit = df['Profit'].mean()\n",
    "\n",
    "print(f\"Average monthly revenue: {avg_revenue:.2f}\")\n",
    "print(f\"Average monthly expenses: {avg_expenses:.2f}\")\n",
    "print(f\"Average monthly profit: {avg_profit:.2f}\")"
   ]
  },
  {
   "cell_type": "markdown",
   "id": "51e725ae",
   "metadata": {},
   "source": [
    "## 2. \n",
    "\n",
    "#### How does the profit margin vary over time? Plot a line plot of the changes in profit margin."
   ]
  },
  {
   "cell_type": "code",
   "execution_count": 3,
   "id": "5dfbd75b",
   "metadata": {},
   "outputs": [],
   "source": [
    "# calculate the profit margin\n",
    "df['Profit Margin'] = (df['Profit'] / df['Revenue']) * 100\n",
    "\n",
    "# Converting date to datetime format\n",
    "df[\"Date\"] = pd.to_datetime(df[\"Date\"], dayfirst=True)"
   ]
  },
  {
   "cell_type": "code",
   "execution_count": 4,
   "id": "c0b486ac",
   "metadata": {},
   "outputs": [
    {
     "data": {
      "image/png": "[encoded data removed]",
      "text/plain": [
       "<Figure size 720x576 with 1 Axes>"
      ]
     },
     "metadata": {
      "needs_background": "light"
     },
     "output_type": "display_data"
    }
   ],
   "source": [
    "import matplotlib.pyplot as plt\n",
    "\n",
    "# plot the profit margin over time\n",
    "plt.figure(figsize=(10, 8))\n",
    "plt.plot(df[\"Date\"], df['Profit Margin'])\n",
    "plt.xlabel('Date')\n",
    "plt.ylabel('Profit Margin (%)')\n",
    "plt.title('Profit Margin Over Time', fontsize = 20)\n",
    "plt.show()"
   ]
  },
  {
   "cell_type": "markdown",
   "id": "9697d606",
   "metadata": {},
   "source": [
    "## 3.\n",
    "\n",
    "#### What is the difference between the revenue of the highest month and and that of the lowest months? Which month has the highest revenue and which month has the lowest revenue?"
   ]
  },
  {
   "cell_type": "code",
   "execution_count": 5,
   "id": "41801bec",
   "metadata": {},
   "outputs": [
    {
     "name": "stdout",
     "output_type": "stream",
     "text": [
      "The difference in Revenue is 48000\n"
     ]
    }
   ],
   "source": [
    "highest_revenue = df.loc[df['Revenue'] == df['Revenue'].max(), 'Revenue'].values[0]\n",
    "lowest_revenue = df.loc[df['Revenue'] == df['Revenue'].min(), 'Revenue'].values[0]\n",
    "\n",
    "difference = highest_revenue - lowest_revenue\n",
    "print(f'The difference in Revenue is {difference}')"
   ]
  },
  {
   "cell_type": "code",
   "execution_count": 6,
   "id": "f198a611",
   "metadata": {},
   "outputs": [
    {
     "name": "stdout",
     "output_type": "stream",
     "text": [
      "The month with highest revenue is: August\n",
      "The month with highest revenue is: March\n"
     ]
    }
   ],
   "source": [
    "# Extract month from Date\n",
    "df[\"Month\"] = df[\"Date\"].dt.month_name()\n",
    "\n",
    "highest_month = df.loc[df['Revenue'] == df['Revenue'].max(), 'Month'].values[0]\n",
    "lowest_month = df.loc[df['Revenue'] == df['Revenue'].min(), 'Month'].values[0]\n",
    "print( f'The month with highest revenue is: {highest_month}')\n",
    "print(f'The month with highest revenue is: {lowest_month}')"
   ]
  },
  {
   "cell_type": "markdown",
   "id": "657e209b",
   "metadata": {},
   "source": [
    "## 4. \n",
    "\n",
    "#### Which months had expenses above $10,000?"
   ]
  },
  {
   "cell_type": "code",
   "execution_count": 7,
   "id": "b701a78f",
   "metadata": {},
   "outputs": [
    {
     "data": {
      "text/plain": [
       "6          July\n",
       "7        August\n",
       "8     September\n",
       "9       October\n",
       "10     November\n",
       "11     December\n",
       "12      January\n",
       "13     February\n",
       "14        March\n",
       "15        April\n",
       "16          May\n",
       "17         June\n",
       "18         July\n",
       "19       August\n",
       "Name: Month, dtype: object"
      ]
     },
     "execution_count": 7,
     "metadata": {},
     "output_type": "execute_result"
    }
   ],
   "source": [
    "month_expenses_above_10 = df.loc[df['Expenses'] > 10000, 'Month']\n",
    "month_expenses_above_10"
   ]
  },
  {
   "cell_type": "markdown",
   "id": "4794df37",
   "metadata": {},
   "source": [
    "## 5.\n",
    "\n",
    "#### How much profit was made in the last quarter of 2022?"
   ]
  },
  {
   "cell_type": "code",
   "execution_count": 8,
   "id": "650e1624",
   "metadata": {},
   "outputs": [
    {
     "data": {
      "text/plain": [
       "Date\n",
       "2022Q1     45000\n",
       "2022Q2     65000\n",
       "2022Q3     97000\n",
       "2022Q4    112000\n",
       "2023Q1    126000\n",
       "2023Q2    150000\n",
       "2023Q3    109000\n",
       "Freq: Q-DEC, Name: Revenue, dtype: int64"
      ]
     },
     "execution_count": 8,
     "metadata": {},
     "output_type": "execute_result"
    }
   ],
   "source": [
    "# group the data by quarters\n",
    "df2 = df.groupby(df[\"Date\"].dt.to_period('Q'))[\"Revenue\"].sum()\n",
    "df2"
   ]
  },
  {
   "cell_type": "code",
   "execution_count": 9,
   "id": "a983f459",
   "metadata": {},
   "outputs": [
    {
     "name": "stdout",
     "output_type": "stream",
     "text": [
      "Revenue in the last quarter of 2022 is 112000\n"
     ]
    }
   ],
   "source": [
    "print(f'Revenue in the last quarter of 2022 is {df2.loc[\"2022Q4\"]}')"
   ]
  },
  {
   "cell_type": "markdown",
   "id": "4648f505",
   "metadata": {},
   "source": [
    "## 6.\n",
    "\n",
    "#### What was the percentage change in revenue from quarter to quarter?"
   ]
  },
  {
   "cell_type": "code",
   "execution_count": 10,
   "id": "b0fbd9fe",
   "metadata": {},
   "outputs": [
    {
     "name": "stdout",
     "output_type": "stream",
     "text": [
      "Percentage change in revenue from quarter to quarter:\n",
      "Date\n",
      "2022Q1         NaN\n",
      "2022Q2    0.444444\n",
      "2022Q3    0.492308\n",
      "2022Q4    0.154639\n",
      "2023Q1    0.125000\n",
      "2023Q2    0.190476\n",
      "2023Q3   -0.273333\n",
      "Freq: Q-DEC, Name: Revenue, dtype: float64\n"
     ]
    }
   ],
   "source": [
    "# calculate the percentage change in revenue from quarter to quarter\n",
    "quarterly_revenue_change = df2.pct_change()\n",
    "\n",
    "print(\"Percentage change in revenue from quarter to quarter:\")\n",
    "print(f'{quarterly_revenue_change:}')"
   ]
  },
  {
   "cell_type": "code",
   "execution_count": null,
   "id": "16919fde",
   "metadata": {},
   "outputs": [],
   "source": []
  }
 ],
 "metadata": {
  "kernelspec": {
   "display_name": "Python 3 (ipykernel)",
   "language": "python",
   "name": "python3"
  },
  "language_info": {
   "codemirror_mode": {
    "name": "ipython",
    "version": 3
   },
   "file_extension": ".py",
   "mimetype": "text/x-python",
   "name": "python",
   "nbconvert_exporter": "python",
   "pygments_lexer": "ipython3",
   "version": "3.10.5"
  }
 },
 "nbformat": 4,
 "nbformat_minor": 5
}
