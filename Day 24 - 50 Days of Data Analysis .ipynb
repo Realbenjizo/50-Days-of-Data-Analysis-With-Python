{
 "cells": [
  {
   "cell_type": "markdown",
   "id": "bb215d09",
   "metadata": {},
   "source": [
    "## 1. \n",
    "\n",
    "#### Using pandas import the Excel file above. Write a code to view the first 5 rows of your DataFrame."
   ]
  },
  {
   "cell_type": "code",
   "execution_count": 1,
   "id": "da98e530",
   "metadata": {},
   "outputs": [
    {
     "data": {
      "text/html": [
       "<div>\n",
       "<style scoped>\n",
       "    .dataframe tbody tr th:only-of-type {\n",
       "        vertical-align: middle;\n",
       "    }\n",
       "\n",
       "    .dataframe tbody tr th {\n",
       "        vertical-align: top;\n",
       "    }\n",
       "\n",
       "    .dataframe thead th {\n",
       "        text-align: right;\n",
       "    }\n",
       "</style>\n",
       "<table border=\"1\" class=\"dataframe\">\n",
       "  <thead>\n",
       "    <tr style=\"text-align: right;\">\n",
       "      <th></th>\n",
       "      <th>date</th>\n",
       "      <th>products</th>\n",
       "      <th>sales</th>\n",
       "    </tr>\n",
       "  </thead>\n",
       "  <tbody>\n",
       "    <tr>\n",
       "      <th>0</th>\n",
       "      <td>11-20-2021</td>\n",
       "      <td>cars</td>\n",
       "      <td>19234</td>\n",
       "    </tr>\n",
       "    <tr>\n",
       "      <th>1</th>\n",
       "      <td>12-12-2021</td>\n",
       "      <td>boats</td>\n",
       "      <td>87598</td>\n",
       "    </tr>\n",
       "    <tr>\n",
       "      <th>2</th>\n",
       "      <td>11-07-2021</td>\n",
       "      <td>cars</td>\n",
       "      <td>15900</td>\n",
       "    </tr>\n",
       "    <tr>\n",
       "      <th>3</th>\n",
       "      <td>12-06-2021</td>\n",
       "      <td>boats</td>\n",
       "      <td>12087</td>\n",
       "    </tr>\n",
       "    <tr>\n",
       "      <th>4</th>\n",
       "      <td>12-09-2021</td>\n",
       "      <td>cars</td>\n",
       "      <td>56897</td>\n",
       "    </tr>\n",
       "  </tbody>\n",
       "</table>\n",
       "</div>"
      ],
      "text/plain": [
       "         date products  sales\n",
       "0  11-20-2021     cars  19234\n",
       "1  12-12-2021    boats  87598\n",
       "2  11-07-2021     cars  15900\n",
       "3  12-06-2021    boats  12087\n",
       "4  12-09-2021     cars  56897"
      ]
     },
     "execution_count": 1,
     "metadata": {},
     "output_type": "execute_result"
    }
   ],
   "source": [
    "import pandas as pd\n",
    "\n",
    "df = pd.read_excel(\"Asset_sales_data.xlsx\")\n",
    "df.head()"
   ]
  },
  {
   "cell_type": "markdown",
   "id": "72f74913",
   "metadata": {},
   "source": [
    "## 2.\n",
    "\n",
    "#### Write another code that will return the data types of all the columns in the DataFrame."
   ]
  },
  {
   "cell_type": "code",
   "execution_count": 2,
   "id": "10746c99",
   "metadata": {},
   "outputs": [
    {
     "name": "stdout",
     "output_type": "stream",
     "text": [
      "date        object\n",
      "products    object\n",
      "sales        int64\n",
      "dtype: object\n"
     ]
    }
   ],
   "source": [
    "print(df.dtypes)"
   ]
  },
  {
   "cell_type": "markdown",
   "id": "7e56c44b",
   "metadata": {},
   "source": [
    "## 3. \n",
    "\n",
    "#### Using pandas, what month had the highest value of sales?"
   ]
  },
  {
   "cell_type": "code",
   "execution_count": 3,
   "id": "85ecb89b",
   "metadata": {},
   "outputs": [
    {
     "data": {
      "text/html": [
       "<div>\n",
       "<style scoped>\n",
       "    .dataframe tbody tr th:only-of-type {\n",
       "        vertical-align: middle;\n",
       "    }\n",
       "\n",
       "    .dataframe tbody tr th {\n",
       "        vertical-align: top;\n",
       "    }\n",
       "\n",
       "    .dataframe thead th {\n",
       "        text-align: right;\n",
       "    }\n",
       "</style>\n",
       "<table border=\"1\" class=\"dataframe\">\n",
       "  <thead>\n",
       "    <tr style=\"text-align: right;\">\n",
       "      <th></th>\n",
       "      <th>date</th>\n",
       "      <th>products</th>\n",
       "      <th>sales</th>\n",
       "      <th>month</th>\n",
       "    </tr>\n",
       "  </thead>\n",
       "  <tbody>\n",
       "    <tr>\n",
       "      <th>0</th>\n",
       "      <td>11-20-2021</td>\n",
       "      <td>cars</td>\n",
       "      <td>19234</td>\n",
       "      <td>11</td>\n",
       "    </tr>\n",
       "    <tr>\n",
       "      <th>1</th>\n",
       "      <td>12-12-2021</td>\n",
       "      <td>boats</td>\n",
       "      <td>87598</td>\n",
       "      <td>12</td>\n",
       "    </tr>\n",
       "    <tr>\n",
       "      <th>2</th>\n",
       "      <td>11-07-2021</td>\n",
       "      <td>cars</td>\n",
       "      <td>15900</td>\n",
       "      <td>11</td>\n",
       "    </tr>\n",
       "    <tr>\n",
       "      <th>3</th>\n",
       "      <td>12-06-2021</td>\n",
       "      <td>boats</td>\n",
       "      <td>12087</td>\n",
       "      <td>12</td>\n",
       "    </tr>\n",
       "    <tr>\n",
       "      <th>4</th>\n",
       "      <td>12-09-2021</td>\n",
       "      <td>cars</td>\n",
       "      <td>56897</td>\n",
       "      <td>12</td>\n",
       "    </tr>\n",
       "  </tbody>\n",
       "</table>\n",
       "</div>"
      ],
      "text/plain": [
       "         date products  sales  month\n",
       "0  11-20-2021     cars  19234     11\n",
       "1  12-12-2021    boats  87598     12\n",
       "2  11-07-2021     cars  15900     11\n",
       "3  12-06-2021    boats  12087     12\n",
       "4  12-09-2021     cars  56897     12"
      ]
     },
     "execution_count": 3,
     "metadata": {},
     "output_type": "execute_result"
    }
   ],
   "source": [
    "# Convert date to pandas datetime object.\n",
    "df[\"month\"] = pd.to_datetime(df['date']).dt.month\n",
    "df.head()"
   ]
  },
  {
   "cell_type": "code",
   "execution_count": 4,
   "id": "c4882984",
   "metadata": {},
   "outputs": [
    {
     "data": {
      "text/plain": [
       "sales    12\n",
       "dtype: int32"
      ]
     },
     "execution_count": 4,
     "metadata": {},
     "output_type": "execute_result"
    }
   ],
   "source": [
    "# Use  groupy and idxmax to find month with max sales\n",
    "max_sales_month = df.groupby(df['month']).sum(numeric_only=True).idxmax()\n",
    "max_sales_month"
   ]
  },
  {
   "cell_type": "code",
   "execution_count": 5,
   "id": "61cbe0c3",
   "metadata": {},
   "outputs": [
    {
     "data": {
      "text/html": [
       "<div>\n",
       "<style scoped>\n",
       "    .dataframe tbody tr th:only-of-type {\n",
       "        vertical-align: middle;\n",
       "    }\n",
       "\n",
       "    .dataframe tbody tr th {\n",
       "        vertical-align: top;\n",
       "    }\n",
       "\n",
       "    .dataframe thead th {\n",
       "        text-align: right;\n",
       "    }\n",
       "</style>\n",
       "<table border=\"1\" class=\"dataframe\">\n",
       "  <thead>\n",
       "    <tr style=\"text-align: right;\">\n",
       "      <th></th>\n",
       "      <th>sales</th>\n",
       "    </tr>\n",
       "    <tr>\n",
       "      <th>month</th>\n",
       "      <th></th>\n",
       "    </tr>\n",
       "  </thead>\n",
       "  <tbody>\n",
       "    <tr>\n",
       "      <th>11</th>\n",
       "      <td>111736</td>\n",
       "    </tr>\n",
       "    <tr>\n",
       "      <th>12</th>\n",
       "      <td>565688</td>\n",
       "    </tr>\n",
       "  </tbody>\n",
       "</table>\n",
       "</div>"
      ],
      "text/plain": [
       "        sales\n",
       "month        \n",
       "11     111736\n",
       "12     565688"
      ]
     },
     "execution_count": 5,
     "metadata": {},
     "output_type": "execute_result"
    }
   ],
   "source": [
    "# Use  groupy and idxmax to find column with max sales\n",
    "sales_per_month = df.groupby(df['month']).sum(numeric_only=True)\n",
    "sales_per_month"
   ]
  },
  {
   "cell_type": "markdown",
   "id": "bc31349c",
   "metadata": {},
   "source": [
    "## 4.\n",
    "#### Write a code to return the value of sales between 11-20-2021 to 12-06-2021. Create a Dataframe and return the total sales value for this period."
   ]
  },
  {
   "cell_type": "code",
   "execution_count": 6,
   "id": "31f53774",
   "metadata": {},
   "outputs": [
    {
     "name": "stdout",
     "output_type": "stream",
     "text": [
      "          date products  sales  month\n",
      "0   11-20-2021     cars  19234     11\n",
      "3   12-06-2021    boats  12087     12\n",
      "5   12-06-2021   houses  19345     12\n",
      "6   11-20-2021     cars  19234     11\n",
      "8   12-06-2021   houses  20989     12\n",
      "10  12-06-2021    boats  12087     12\n",
      "12  11-25-2021     cars  22234     11\n",
      "14  12-06-2021    boats  14987     12\n",
      "16  11-20-2021     cars  19234     11\n"
     ]
    }
   ],
   "source": [
    "# Using loc to fiter DataFrame by Date\n",
    "df2 = df.loc[(df['date'] >= '11-20-2021') & (df['date'] <= '12-06-2021')]\n",
    "print(df2)"
   ]
  },
  {
   "cell_type": "code",
   "execution_count": 7,
   "id": "e547a11b",
   "metadata": {},
   "outputs": [
    {
     "data": {
      "text/plain": [
       "159431"
      ]
     },
     "execution_count": 7,
     "metadata": {},
     "output_type": "execute_result"
    }
   ],
   "source": [
    "df2[\"sales\"].sum()"
   ]
  },
  {
   "cell_type": "markdown",
   "id": "707974bd",
   "metadata": {},
   "source": [
    "## 5. \n",
    "\n",
    "#### Using Matplotlib, create a pie chart of the products and their sales values as percentages. Your chart should have labels and a title."
   ]
  },
  {
   "cell_type": "code",
   "execution_count": 8,
   "id": "3f30d47d",
   "metadata": {},
   "outputs": [
    {
     "data": {
      "image/png": "[encoded data removed]",
      "text/plain": [
       "<Figure size 864x576 with 1 Axes>"
      ]
     },
     "metadata": {},
     "output_type": "display_data"
    }
   ],
   "source": [
    "import matplotlib.pyplot as plt\n",
    "\n",
    "prod_sales = df.groupby(['products'])['sales'].sum()\n",
    "\n",
    "explode = (0, 0.1, 0)  \n",
    "\n",
    "plt.figure(figsize=(12, 8))\n",
    "plt.pie(prod_sales, \n",
    "        explode=explode, \n",
    "        labels=prod_sales.index, \n",
    "        autopct='%1.1f%%', \n",
    "        shadow=True)\n",
    "\n",
    "plt.title(\"Sales Pie Chart\", \n",
    "          fontsize=20)\n",
    "plt.show()"
   ]
  },
  {
   "cell_type": "markdown",
   "id": "0aa119c7",
   "metadata": {},
   "source": [
    "## 6.\n",
    "#### Use pandas to create a pivot table and calculate the sum of sales column grouped by the products column. Use pandas and Matplotlib to plot this on a bar plot. Your plot size must be width = 12, height =10. Your plot title will be \"Total Sales Per Product\". "
   ]
  },
  {
   "cell_type": "code",
   "execution_count": 9,
   "id": "22518d42",
   "metadata": {},
   "outputs": [
    {
     "data": {
      "text/html": [
       "<div>\n",
       "<style scoped>\n",
       "    .dataframe tbody tr th:only-of-type {\n",
       "        vertical-align: middle;\n",
       "    }\n",
       "\n",
       "    .dataframe tbody tr th {\n",
       "        vertical-align: top;\n",
       "    }\n",
       "\n",
       "    .dataframe thead th {\n",
       "        text-align: right;\n",
       "    }\n",
       "</style>\n",
       "<table border=\"1\" class=\"dataframe\">\n",
       "  <thead>\n",
       "    <tr style=\"text-align: right;\">\n",
       "      <th></th>\n",
       "      <th>sales</th>\n",
       "    </tr>\n",
       "    <tr>\n",
       "      <th>products</th>\n",
       "      <th></th>\n",
       "    </tr>\n",
       "  </thead>\n",
       "  <tbody>\n",
       "    <tr>\n",
       "      <th>boats</th>\n",
       "      <td>301955</td>\n",
       "    </tr>\n",
       "    <tr>\n",
       "      <th>cars</th>\n",
       "      <td>290427</td>\n",
       "    </tr>\n",
       "    <tr>\n",
       "      <th>houses</th>\n",
       "      <td>85042</td>\n",
       "    </tr>\n",
       "  </tbody>\n",
       "</table>\n",
       "</div>"
      ],
      "text/plain": [
       "           sales\n",
       "products        \n",
       "boats     301955\n",
       "cars      290427\n",
       "houses     85042"
      ]
     },
     "execution_count": 9,
     "metadata": {},
     "output_type": "execute_result"
    }
   ],
   "source": [
    "sales_per_product = df.pivot_table(values='sales', \n",
    "                                   index='products', \n",
    "                                   aggfunc='sum')\n",
    "sales_per_product"
   ]
  },
  {
   "cell_type": "code",
   "execution_count": 10,
   "id": "e217b986",
   "metadata": {},
   "outputs": [
    {
     "data": {
      "image/png": "[encoded data removed]",
      "text/plain": [
       "<Figure size 864x576 with 1 Axes>"
      ]
     },
     "metadata": {
      "needs_background": "light"
     },
     "output_type": "display_data"
    }
   ],
   "source": [
    "sales_per_product.plot(kind=\"bar\", figsize=(12, 8))\n",
    "plt.title(\"Total Sales Per Product\", fontsize = 20)\n",
    "plt.xticks(rotation = 0)\n",
    "plt.ylabel(\"sales\")\n",
    "plt.show()"
   ]
  },
  {
   "cell_type": "code",
   "execution_count": null,
   "id": "dc9d79ba",
   "metadata": {},
   "outputs": [],
   "source": []
  }
 ],
 "metadata": {
  "kernelspec": {
   "display_name": "Python 3 (ipykernel)",
   "language": "python",
   "name": "python3"
  },
  "language_info": {
   "codemirror_mode": {
    "name": "ipython",
    "version": 3
   },
   "file_extension": ".py",
   "mimetype": "text/x-python",
   "name": "python",
   "nbconvert_exporter": "python",
   "pygments_lexer": "ipython3",
   "version": "3.10.5"
  }
 },
 "nbformat": 4,
 "nbformat_minor": 5
}
