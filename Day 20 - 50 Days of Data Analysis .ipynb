{
 "cells": [
  {
   "cell_type": "markdown",
   "id": "d2479608",
   "metadata": {},
   "source": [
    "## 1. \n",
    "\n",
    "#### Create a pandas DataFrame from the lists above. Using Matplotlib, create a bar graph to visualize product profitability and find the most profitable product."
   ]
  },
  {
   "cell_type": "code",
   "execution_count": 1,
   "id": "60b545fc",
   "metadata": {},
   "outputs": [
    {
     "data": {
      "text/html": [
       "<div>\n",
       "<style scoped>\n",
       "    .dataframe tbody tr th:only-of-type {\n",
       "        vertical-align: middle;\n",
       "    }\n",
       "\n",
       "    .dataframe tbody tr th {\n",
       "        vertical-align: top;\n",
       "    }\n",
       "\n",
       "    .dataframe thead th {\n",
       "        text-align: right;\n",
       "    }\n",
       "</style>\n",
       "<table border=\"1\" class=\"dataframe\">\n",
       "  <thead>\n",
       "    <tr style=\"text-align: right;\">\n",
       "      <th></th>\n",
       "      <th>products</th>\n",
       "      <th>costs</th>\n",
       "      <th>sales</th>\n",
       "    </tr>\n",
       "  </thead>\n",
       "  <tbody>\n",
       "    <tr>\n",
       "      <th>0</th>\n",
       "      <td>sugar</td>\n",
       "      <td>2450</td>\n",
       "      <td>27908</td>\n",
       "    </tr>\n",
       "    <tr>\n",
       "      <th>1</th>\n",
       "      <td>Salt</td>\n",
       "      <td>1989</td>\n",
       "      <td>4508</td>\n",
       "    </tr>\n",
       "    <tr>\n",
       "      <th>2</th>\n",
       "      <td>oil</td>\n",
       "      <td>6745</td>\n",
       "      <td>6734</td>\n",
       "    </tr>\n",
       "    <tr>\n",
       "      <th>3</th>\n",
       "      <td>diapers</td>\n",
       "      <td>9807</td>\n",
       "      <td>9976</td>\n",
       "    </tr>\n",
       "    <tr>\n",
       "      <th>4</th>\n",
       "      <td>rice</td>\n",
       "      <td>8743</td>\n",
       "      <td>9000</td>\n",
       "    </tr>\n",
       "  </tbody>\n",
       "</table>\n",
       "</div>"
      ],
      "text/plain": [
       "  products  costs  sales\n",
       "0    sugar   2450  27908\n",
       "1     Salt   1989   4508\n",
       "2      oil   6745   6734\n",
       "3  diapers   9807   9976\n",
       "4     rice   8743   9000"
      ]
     },
     "execution_count": 1,
     "metadata": {},
     "output_type": "execute_result"
    }
   ],
   "source": [
    "import pandas as pd\n",
    "\n",
    "products = [\"sugar\", \"Salt\", \"oil\", \"diapers\", \"rice\"]\n",
    "costs = [2450,1989, 6745, 9807, 8743]\n",
    "sales = [27908, 4508, 6734, 9976, 9000]\n",
    "\n",
    "df = pd.DataFrame({\"products\":products, \"costs\":costs,\"sales\":sales})\n",
    "df"
   ]
  },
  {
   "cell_type": "code",
   "execution_count": 2,
   "id": "e45761bf",
   "metadata": {},
   "outputs": [
    {
     "name": "stdout",
     "output_type": "stream",
     "text": [
      "The most profitable product is sugar\n"
     ]
    }
   ],
   "source": [
    "# calculate the profit for each product\n",
    "df[\"profit\"] = df[\"sales\"] - df[\"costs\"]\n",
    "\n",
    "# find the index of the most profitable product\n",
    "most_profitable_index = df[\"profit\"].idxmax()\n",
    "\n",
    "# use the index to find the corresponding product\n",
    "most_profitable_product = df.loc[most_profitable_index, \"products\"]\n",
    "print(f'The most profitable product is {most_profitable_product}')"
   ]
  },
  {
   "cell_type": "code",
   "execution_count": 3,
   "id": "512e98f9",
   "metadata": {},
   "outputs": [
    {
     "data": {
      "image/png": "[encoded data removed]",
      "text/plain": [
       "<Figure size 864x576 with 1 Axes>"
      ]
     },
     "metadata": {
      "needs_background": "light"
     },
     "output_type": "display_data"
    }
   ],
   "source": [
    "import matplotlib.pyplot as plt\n",
    "\n",
    "plt.figure(figsize=(12,8))\n",
    "plt.bar(df['products'], df['profit'])\n",
    "plt.xlabel(\"products\")\n",
    "plt.ylabel(\"Profit\")\n",
    "plt.title(\"Products Profit\", fontsize=20)\n",
    "plt.show()"
   ]
  },
  {
   "cell_type": "markdown",
   "id": "21e46111",
   "metadata": {},
   "source": [
    "## 2. \n",
    "\n",
    "#### Using just pandas, find the least profitable product."
   ]
  },
  {
   "cell_type": "code",
   "execution_count": 4,
   "id": "f6691045",
   "metadata": {},
   "outputs": [
    {
     "name": "stdout",
     "output_type": "stream",
     "text": [
      "The least profitable product is oil\n"
     ]
    }
   ],
   "source": [
    "# find the index of the least profitable product\n",
    "least_profit_index = df[\"profit\"].idxmin()\n",
    "\n",
    "# use the index to find the corresponding product\n",
    "least_profit_product = df.loc[least_profit_index, \"products\"]\n",
    "print(f'The least profitable product is {least_profit_product}')"
   ]
  },
  {
   "cell_type": "markdown",
   "id": "acf159e9",
   "metadata": {},
   "source": [
    "## 3. \n",
    "\n",
    "#### What is the difference in profit between the most profitable item and the least profitable item?"
   ]
  },
  {
   "cell_type": "code",
   "execution_count": 5,
   "id": "470d250d",
   "metadata": {},
   "outputs": [
    {
     "name": "stdout",
     "output_type": "stream",
     "text": [
      "The profit difference is 25469\n"
     ]
    }
   ],
   "source": [
    "# calculate most profitable in profit\n",
    "most_profitable = df.loc[most_profitable_index,\"profit\"] \n",
    "\n",
    "# calculating the least profitable in profit\n",
    "least_profitable = df.loc[least_profit_index,\"profit\"]\n",
    "\n",
    "# Difference between most profitable and least profitable\n",
    "difference = most_profitable - least_profitable\n",
    "print(f'The profit difference is {difference}')"
   ]
  },
  {
   "cell_type": "markdown",
   "id": "6a4aa348",
   "metadata": {},
   "source": [
    "## 4.\n",
    "#### Using pandas and Matplotlib, create a line graph of the costs and the profit of the products."
   ]
  },
  {
   "cell_type": "code",
   "execution_count": 6,
   "id": "30041cdb",
   "metadata": {},
   "outputs": [
    {
     "data": {
      "image/png": "[encoded data removed]",
      "text/plain": [
       "<Figure size 864x576 with 1 Axes>"
      ]
     },
     "metadata": {
      "needs_background": "light"
     },
     "output_type": "display_data"
    }
   ],
   "source": [
    "df.plot(x=\"products\", y=[\"costs\", \"profit\"], \n",
    "        kind=\"line\", \n",
    "        figsize=(12, 8))\n",
    "\n",
    "plt.xlabel(\"Products\")\n",
    "plt.ylabel(\"Cost and Profit\")\n",
    "plt.title(\"Cost and Profit Analysis\",fontsize = 20)\n",
    "plt.show()"
   ]
  },
  {
   "cell_type": "markdown",
   "id": "04aaa71e",
   "metadata": {},
   "source": [
    "## 5. \n",
    "\n",
    "#### Using pandas, calculate the average cost per product."
   ]
  },
  {
   "cell_type": "code",
   "execution_count": 7,
   "id": "fbaaeb9a",
   "metadata": {},
   "outputs": [
    {
     "name": "stdout",
     "output_type": "stream",
     "text": [
      "The average costs is 5946.8\n"
     ]
    }
   ],
   "source": [
    "average_cost = df[\"costs\"].mean()\n",
    "print('The average costs is', average_cost)"
   ]
  },
  {
   "cell_type": "markdown",
   "id": "0755b832",
   "metadata": {},
   "source": [
    "## 6. \n",
    "\n",
    "#### Using pandas calculate the average profit per product."
   ]
  },
  {
   "cell_type": "code",
   "execution_count": 8,
   "id": "780e34c5",
   "metadata": {},
   "outputs": [
    {
     "name": "stdout",
     "output_type": "stream",
     "text": [
      "The average_profit per product is 5678.4\n"
     ]
    }
   ],
   "source": [
    "average_profit = df[\"profit\"].mean()\n",
    "print('The average_profit per product is', average_profit)"
   ]
  },
  {
   "cell_type": "code",
   "execution_count": null,
   "id": "56842250",
   "metadata": {},
   "outputs": [],
   "source": []
  }
 ],
 "metadata": {
  "kernelspec": {
   "display_name": "Python 3 (ipykernel)",
   "language": "python",
   "name": "python3"
  },
  "language_info": {
   "codemirror_mode": {
    "name": "ipython",
    "version": 3
   },
   "file_extension": ".py",
   "mimetype": "text/x-python",
   "name": "python",
   "nbconvert_exporter": "python",
   "pygments_lexer": "ipython3",
   "version": "3.10.5"
  }
 },
 "nbformat": 4,
 "nbformat_minor": 5
}
