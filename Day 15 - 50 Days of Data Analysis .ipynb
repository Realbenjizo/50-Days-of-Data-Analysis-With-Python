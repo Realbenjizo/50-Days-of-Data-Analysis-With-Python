{
 "cells": [
  {
   "cell_type": "markdown",
   "id": "cd1c431e",
   "metadata": {},
   "source": [
    "## 1.\t\n",
    "\n",
    "#### You task is to import the CSV file using this NumPy’s genfromtxt() function."
   ]
  },
  {
   "cell_type": "code",
   "execution_count": 1,
   "id": "b8ec5eec",
   "metadata": {},
   "outputs": [
    {
     "data": {
      "text/plain": [
       "array([['Name', 'Sex', 'Age'],\n",
       "       ['Grace', 'Male', '18'],\n",
       "       ['Charlie', 'Female', '60'],\n",
       "       ['Olivia', 'Female', '27'],\n",
       "       ['Frank', 'Male', '55']], dtype='<U7')"
      ]
     },
     "execution_count": 1,
     "metadata": {},
     "output_type": "execute_result"
    }
   ],
   "source": [
    "import numpy as np\n",
    "\n",
    "arr = np.genfromtxt(\"names_age_sex_data.csv\", delimiter=\",\", dtype ='U7')\n",
    "arr[:5]"
   ]
  },
  {
   "cell_type": "markdown",
   "id": "9b27d836",
   "metadata": {},
   "source": [
    "## a.\t\n",
    "\n",
    "#### Transpose the array."
   ]
  },
  {
   "cell_type": "code",
   "execution_count": 2,
   "id": "d58da58b",
   "metadata": {},
   "outputs": [
    {
     "data": {
      "text/plain": [
       "array([['Name', 'Grace', 'Charlie', 'Olivia', 'Frank', 'Charlie',\n",
       "        'Olivia', 'Mia', 'Jos', 'Peter', 'Olivia', 'Charlie', 'David',\n",
       "        'Kate', 'Thomas', 'Alice', 'Rob', 'Piper', 'Kate', 'Liam',\n",
       "        'Quinn', 'Charlie', 'David', 'Ryan', 'Kate', 'John', 'kelly'],\n",
       "       ['Sex', 'Male', 'Female', 'Female', 'Male', 'Male', 'Male',\n",
       "        'Female', 'Male', 'Male', 'Female', 'Female', 'Female', 'Female',\n",
       "        'Female', 'Female', 'Male', 'Female', 'Female', 'Female',\n",
       "        'Female', 'Male', 'Male', 'Female', 'Male', 'Male', 'Female'],\n",
       "       ['Age', '18', '60', '27', '55', '53', '39', '60', '56', '44',\n",
       "        '57', '41', '39', '49', '37', '63', '56', '96', '41', '19', '34',\n",
       "        '54', '18', '49', '19', '21', '21']], dtype='<U7')"
      ]
     },
     "execution_count": 2,
     "metadata": {},
     "output_type": "execute_result"
    }
   ],
   "source": [
    "transposed_arr = arr.transpose()\n",
    "transposed_arr"
   ]
  },
  {
   "cell_type": "markdown",
   "id": "de6e6c0c",
   "metadata": {},
   "source": [
    "## b.\n",
    "#### Using slicing, create three arrays: an array of all the names column, an array of the age column, and an array of the gender (sex) column from the array."
   ]
  },
  {
   "cell_type": "code",
   "execution_count": 3,
   "id": "bb873fdf",
   "metadata": {},
   "outputs": [
    {
     "data": {
      "text/plain": [
       "array([['Grace', 'Charlie', 'Olivia', 'Frank', 'Charlie', 'Olivia',\n",
       "        'Mia', 'Jos', 'Peter', 'Olivia', 'Charlie', 'David', 'Kate',\n",
       "        'Thomas', 'Alice', 'Rob', 'Piper', 'Kate', 'Liam', 'Quinn',\n",
       "        'Charlie', 'David', 'Ryan', 'Kate', 'John', 'kelly']], dtype='<U7')"
      ]
     },
     "execution_count": 3,
     "metadata": {},
     "output_type": "execute_result"
    }
   ],
   "source": [
    "# Slicing names\n",
    "names = transposed_arr[0:1,1:]\n",
    "names"
   ]
  },
  {
   "cell_type": "code",
   "execution_count": 4,
   "id": "b82e1847",
   "metadata": {},
   "outputs": [
    {
     "data": {
      "text/plain": [
       "array([['18', '60', '27', '55', '53', '39', '60', '56', '44', '57', '41',\n",
       "        '39', '49', '37', '63', '56', '96', '41', '19', '34', '54', '18',\n",
       "        '49', '19', '21', '21']], dtype='<U7')"
      ]
     },
     "execution_count": 4,
     "metadata": {},
     "output_type": "execute_result"
    }
   ],
   "source": [
    "# Slicing age\n",
    "age = transposed_arr[2:3,1:]\n",
    "age"
   ]
  },
  {
   "cell_type": "code",
   "execution_count": 5,
   "id": "6c34d4b0",
   "metadata": {},
   "outputs": [
    {
     "data": {
      "text/plain": [
       "array([['Male', 'Female', 'Female', 'Male', 'Male', 'Male', 'Female',\n",
       "        'Male', 'Male', 'Female', 'Female', 'Female', 'Female', 'Female',\n",
       "        'Female', 'Male', 'Female', 'Female', 'Female', 'Female', 'Male',\n",
       "        'Male', 'Female', 'Male', 'Male', 'Female']], dtype='<U7')"
      ]
     },
     "execution_count": 5,
     "metadata": {},
     "output_type": "execute_result"
    }
   ],
   "source": [
    "# Slicing sex\n",
    "gender = transposed_arr[1:2,1:]\n",
    "gender"
   ]
  },
  {
   "cell_type": "markdown",
   "id": "77dda31f",
   "metadata": {},
   "source": [
    "## 2.\n",
    "\n",
    "#### Using NumPy, write a code that returns all names of people age 56.¶"
   ]
  },
  {
   "cell_type": "code",
   "execution_count": 6,
   "id": "9c5b6113",
   "metadata": {},
   "outputs": [
    {
     "name": "stdout",
     "output_type": "stream",
     "text": [
      "['Jos' 'Rob']\n"
     ]
    }
   ],
   "source": [
    "# Using Boolean slicing to access names\n",
    "aged_56 = names[age =='56']\n",
    "print(aged_56)"
   ]
  },
  {
   "cell_type": "markdown",
   "id": "102f8342",
   "metadata": {},
   "source": [
    "## 3. \n",
    "#### How many people are age 44 or under?¶"
   ]
  },
  {
   "cell_type": "code",
   "execution_count": 7,
   "id": "d279b484",
   "metadata": {},
   "outputs": [
    {
     "name": "stdout",
     "output_type": "stream",
     "text": [
      "The number of people aged 44 and under is 14\n"
     ]
    }
   ],
   "source": [
    "# Using Boolean slicing to access names\n",
    "aged_44_under = names[age <= '44']\n",
    "\n",
    "# Using the shape attribute to find people under 44\n",
    "aged_44_under_num = np.shape(aged_44_under)\n",
    "print(\"The number of people aged 44 and under is\", aged_44_under_num[0])"
   ]
  },
  {
   "cell_type": "markdown",
   "id": "93a91be9",
   "metadata": {},
   "source": [
    "## 4. \n",
    "#### Write another code to return an array of all the males in the table. How many males are in the table?"
   ]
  },
  {
   "cell_type": "code",
   "execution_count": 8,
   "id": "60937b6a",
   "metadata": {},
   "outputs": [
    {
     "name": "stdout",
     "output_type": "stream",
     "text": [
      "['Grace' 'Frank' 'Charlie' 'Olivia' 'Jos' 'Peter' 'Rob' 'Charlie' 'David'\n",
      " 'Kate' 'John']\n",
      "The number of males is: 11\n"
     ]
    }
   ],
   "source": [
    "# Names of males in the array\n",
    "males = names[gender =='Male']\n",
    "\n",
    "# Number of males in the array\n",
    "males_number_in_array = np.shape(males)\n",
    "print(males)\n",
    "print(\"The number of males is:\", males_number_in_array[0])"
   ]
  },
  {
   "cell_type": "markdown",
   "id": "fc40fb16",
   "metadata": {},
   "source": [
    "## 5. \n",
    "\n",
    "#### Calculate the average age of all the females in the table.¶"
   ]
  },
  {
   "cell_type": "code",
   "execution_count": 9,
   "id": "bc55b5f5",
   "metadata": {},
   "outputs": [
    {
     "name": "stdout",
     "output_type": "stream",
     "text": [
      "The average females age is  46.2\n"
     ]
    }
   ],
   "source": [
    "# Converting age data into int data type\n",
    "age = age.astype(int)\n",
    "\n",
    "# Calculating the average age of females\n",
    "average_age = age[gender == 'Female'].mean()\n",
    "\n",
    "print(\"The average females age is \", average_age)"
   ]
  },
  {
   "cell_type": "markdown",
   "id": "5db27512",
   "metadata": {},
   "source": [
    "## 6. \n",
    "\n",
    "#### Calculate the average age of the persons named Olivia and kate"
   ]
  },
  {
   "cell_type": "code",
   "execution_count": 10,
   "id": "69a2bc6d",
   "metadata": {},
   "outputs": [
    {
     "name": "stdout",
     "output_type": "stream",
     "text": [
      "Average age of persons named Olivia and Kate is: 38.67\n"
     ]
    }
   ],
   "source": [
    "# Filter the names array and calculating mean\n",
    "olivia_age = age[names == 'Olivia']\n",
    "kate_age =  age[names == 'Kate']\n",
    "\n",
    "# Create array and calculate the average age \n",
    "average = np.array([olivia_age, kate_age]).mean()\n",
    "print(f'Average age of persons named Olivia and Kate is: {average:.2f}')"
   ]
  }
 ],
 "metadata": {
  "kernelspec": {
   "display_name": "Python 3 (ipykernel)",
   "language": "python",
   "name": "python3"
  },
  "language_info": {
   "codemirror_mode": {
    "name": "ipython",
    "version": 3
   },
   "file_extension": ".py",
   "mimetype": "text/x-python",
   "name": "python",
   "nbconvert_exporter": "python",
   "pygments_lexer": "ipython3",
   "version": "3.10.5"
  }
 },
 "nbformat": 4,
 "nbformat_minor": 5
}
