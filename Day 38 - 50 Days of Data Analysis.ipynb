{
 "cells": [
  {
   "cell_type": "markdown",
   "id": "76d48d41",
   "metadata": {},
   "source": [
    "## 1.\t\n",
    "\n",
    "#### Write a code to check how many rows are in the dataset. Check the sum of duplicates in the \"City\" column."
   ]
  },
  {
   "cell_type": "code",
   "execution_count": 1,
   "id": "e4d65e52",
   "metadata": {},
   "outputs": [
    {
     "data": {
      "text/html": [
       "<div>\n",
       "<style scoped>\n",
       "    .dataframe tbody tr th:only-of-type {\n",
       "        vertical-align: middle;\n",
       "    }\n",
       "\n",
       "    .dataframe tbody tr th {\n",
       "        vertical-align: top;\n",
       "    }\n",
       "\n",
       "    .dataframe thead th {\n",
       "        text-align: right;\n",
       "    }\n",
       "</style>\n",
       "<table border=\"1\" class=\"dataframe\">\n",
       "  <thead>\n",
       "    <tr style=\"text-align: right;\">\n",
       "      <th></th>\n",
       "      <th>Date</th>\n",
       "      <th>City</th>\n",
       "      <th>Car Type</th>\n",
       "      <th>Rental Price</th>\n",
       "      <th>Discount</th>\n",
       "      <th>Final Price</th>\n",
       "    </tr>\n",
       "  </thead>\n",
       "  <tbody>\n",
       "    <tr>\n",
       "      <th>95</th>\n",
       "      <td>10 01 2022</td>\n",
       "      <td>Philadelphia</td>\n",
       "      <td>Sports</td>\n",
       "      <td>145.0</td>\n",
       "      <td>0.0</td>\n",
       "      <td>145.000000</td>\n",
       "    </tr>\n",
       "    <tr>\n",
       "      <th>96</th>\n",
       "      <td>10 01 2022</td>\n",
       "      <td>San Antonio</td>\n",
       "      <td>Sports</td>\n",
       "      <td>NaN</td>\n",
       "      <td>NaN</td>\n",
       "      <td>190.000000</td>\n",
       "    </tr>\n",
       "    <tr>\n",
       "      <th>97</th>\n",
       "      <td>10 01 2022</td>\n",
       "      <td>San Diego</td>\n",
       "      <td>Sedan</td>\n",
       "      <td>64.0</td>\n",
       "      <td>0.0</td>\n",
       "      <td>64.000000</td>\n",
       "    </tr>\n",
       "    <tr>\n",
       "      <th>98</th>\n",
       "      <td>10 01 2022</td>\n",
       "      <td>Dallas</td>\n",
       "      <td>Truck</td>\n",
       "      <td>NaN</td>\n",
       "      <td>0.0</td>\n",
       "      <td>112.000000</td>\n",
       "    </tr>\n",
       "    <tr>\n",
       "      <th>99</th>\n",
       "      <td>10 01 2022</td>\n",
       "      <td>San Jose</td>\n",
       "      <td>Van</td>\n",
       "      <td>172.0</td>\n",
       "      <td>NaN</td>\n",
       "      <td>98.393954</td>\n",
       "    </tr>\n",
       "  </tbody>\n",
       "</table>\n",
       "</div>"
      ],
      "text/plain": [
       "          Date          City Car Type  Rental Price  Discount  Final Price\n",
       "95  10 01 2022  Philadelphia   Sports         145.0       0.0   145.000000\n",
       "96  10 01 2022   San Antonio   Sports           NaN       NaN   190.000000\n",
       "97  10 01 2022     San Diego    Sedan          64.0       0.0    64.000000\n",
       "98  10 01 2022        Dallas    Truck           NaN       0.0   112.000000\n",
       "99  10 01 2022      San Jose      Van         172.0       NaN    98.393954"
      ]
     },
     "execution_count": 1,
     "metadata": {},
     "output_type": "execute_result"
    }
   ],
   "source": [
    "import pandas as pd\n",
    "\n",
    "df = pd.read_csv(\"rental_car_analysis.csv\")\n",
    "df.tail()"
   ]
  },
  {
   "cell_type": "code",
   "execution_count": 2,
   "id": "ef179457",
   "metadata": {},
   "outputs": [
    {
     "name": "stdout",
     "output_type": "stream",
     "text": [
      "100\n"
     ]
    }
   ],
   "source": [
    "# Printing number of rows in the dataset.\n",
    "print(df.shape[0])"
   ]
  },
  {
   "cell_type": "code",
   "execution_count": 3,
   "id": "da24b520",
   "metadata": {},
   "outputs": [
    {
     "data": {
      "text/plain": [
       "90"
      ]
     },
     "execution_count": 3,
     "metadata": {},
     "output_type": "execute_result"
    }
   ],
   "source": [
    "df.duplicated(subset=[\"City\"]).sum()"
   ]
  },
  {
   "cell_type": "markdown",
   "id": "ab6812d9",
   "metadata": {},
   "source": [
    "## 2.\t\n",
    "\n",
    "#### Write a code to find missing data in the generated DataFrame. Which rows have missing data?"
   ]
  },
  {
   "cell_type": "code",
   "execution_count": 4,
   "id": "5807f886",
   "metadata": {},
   "outputs": [
    {
     "name": "stdout",
     "output_type": "stream",
     "text": [
      "Date             0\n",
      "City             0\n",
      "Car Type         0\n",
      "Rental Price    50\n",
      "Discount        34\n",
      "Final Price      0\n",
      "dtype: int64\n"
     ]
    }
   ],
   "source": [
    "print(df.isnull().sum())"
   ]
  },
  {
   "cell_type": "markdown",
   "id": "94601355",
   "metadata": {},
   "source": [
    "## 3.\t\n",
    "\n",
    "#### Using pandas, fill the missing values using the column median (numeric columns only)."
   ]
  },
  {
   "cell_type": "code",
   "execution_count": 5,
   "id": "3d3a2c5b",
   "metadata": {},
   "outputs": [
    {
     "data": {
      "text/plain": [
       "Date            0\n",
       "City            0\n",
       "Car Type        0\n",
       "Rental Price    0\n",
       "Discount        0\n",
       "Final Price     0\n",
       "dtype: int64"
      ]
     },
     "execution_count": 5,
     "metadata": {},
     "output_type": "execute_result"
    }
   ],
   "source": [
    "# Filling missing values with the median of the column\n",
    "df2 = df.fillna(df[[\"Rental Price\", \"Discount\"]].median())\n",
    "\n",
    "# Checking for missing values\n",
    "df2.isnull().sum()"
   ]
  },
  {
   "cell_type": "markdown",
   "id": "2d652f6a",
   "metadata": {},
   "source": [
    "## 4.\t\n",
    "\n",
    "#### Which city brought it the most revenue?"
   ]
  },
  {
   "cell_type": "code",
   "execution_count": 6,
   "id": "9a6ef4b2",
   "metadata": {},
   "outputs": [
    {
     "name": "stdout",
     "output_type": "stream",
     "text": [
      "The City with most revenue:  Phoenix\n"
     ]
    }
   ],
   "source": [
    "city_most_revenue = df2.groupby('City')['Final Price'].sum().idxmax()\n",
    "print(\"The City with most revenue: \",city_most_revenue)"
   ]
  },
  {
   "cell_type": "markdown",
   "id": "17cf44c1",
   "metadata": {},
   "source": [
    "## 5.\t\n",
    "\n",
    "#### Which car type brought in the most money?"
   ]
  },
  {
   "cell_type": "code",
   "execution_count": 7,
   "id": "4f27bd2b",
   "metadata": {},
   "outputs": [
    {
     "name": "stdout",
     "output_type": "stream",
     "text": [
      "Car Type with most revenue:  Van\n"
     ]
    }
   ],
   "source": [
    "most_revenue_car = df2.groupby('Car Type')['Final Price'].sum().idxmax()\n",
    "print(\"Car Type with most revenue: \",most_revenue_car)"
   ]
  },
  {
   "cell_type": "markdown",
   "id": "8e1d583f",
   "metadata": {},
   "source": [
    "## 6.\t\n",
    "\n",
    "#### Which car type is the most expensive to rent?"
   ]
  },
  {
   "cell_type": "code",
   "execution_count": 8,
   "id": "13dce427",
   "metadata": {},
   "outputs": [
    {
     "name": "stdout",
     "output_type": "stream",
     "text": [
      "The most expensive car type to rent:  Van\n"
     ]
    }
   ],
   "source": [
    "most_expensive_car = df2.groupby('Car Type')['Rental Price'].mean().idxmax()\n",
    "print(\"The most expensive car type to rent: \",most_expensive_car)"
   ]
  },
  {
   "cell_type": "markdown",
   "id": "47c924e2",
   "metadata": {},
   "source": [
    "## 7.\t\n",
    "\n",
    "#### Which two cities brought in the least amount of revenue? "
   ]
  },
  {
   "cell_type": "code",
   "execution_count": 9,
   "id": "6092ab09",
   "metadata": {},
   "outputs": [
    {
     "data": {
      "text/plain": [
       "City\n",
       "Houston        951.338397\n",
       "San Antonio    870.153279\n",
       "Name: Final Price, dtype: float64"
      ]
     },
     "execution_count": 9,
     "metadata": {},
     "output_type": "execute_result"
    }
   ],
   "source": [
    "# Group by city and sum the revenue\n",
    "group_by_city = df2.groupby('City')['Final Price'].sum()\n",
    "\n",
    "# Sorting the list in descending order return the two least profitable cities\n",
    "least_profitable_car = group_by_city.sort_values(ascending=False).tail(2)\n",
    "least_profitable_car"
   ]
  },
  {
   "cell_type": "markdown",
   "id": "a49aab8f",
   "metadata": {},
   "source": [
    "## 8.\t\n",
    "\n",
    "#### Using pandas plot function, and Matplotlib, plot a bar plot of all the revenue brought in by each type of car."
   ]
  },
  {
   "cell_type": "code",
   "execution_count": 10,
   "id": "4e4f040f",
   "metadata": {},
   "outputs": [
    {
     "data": {
      "image/png": "[encoded data removed]",
      "text/plain": [
       "<Figure size 720x576 with 1 Axes>"
      ]
     },
     "metadata": {
      "needs_background": "light"
     },
     "output_type": "display_data"
    }
   ],
   "source": [
    "import matplotlib.pyplot as plt\n",
    "\n",
    "# Group the data by car type and sum the revenue\n",
    "car_revenue = df2.groupby('Car Type')['Final Price'].sum()\n",
    "\n",
    "# Plot the revenue of each car type\n",
    "plt.figure(figsize=(10, 8))\n",
    "car_revenue.plot(kind='bar', x='car_type',\n",
    "                 y='car_revenue')\n",
    "\n",
    "\n",
    "plt.title(\"Revenue by Car Type\", fontsize = 20)\n",
    "plt.ylabel(ylabel= \"Revenue\")\n",
    "plt.show()"
   ]
  },
  {
   "cell_type": "markdown",
   "id": "b4c7c8ac",
   "metadata": {},
   "source": [
    "## 9.\t\n",
    "\n",
    "#### What is the total revenue of the business of this car rental business? "
   ]
  },
  {
   "cell_type": "code",
   "execution_count": 11,
   "id": "af6992db",
   "metadata": {},
   "outputs": [
    {
     "name": "stdout",
     "output_type": "stream",
     "text": [
      "The total_revenue is 10926.06\n"
     ]
    }
   ],
   "source": [
    "total_revenue = df2['Final Price'].sum()\n",
    "print(f'The total_revenue is {total_revenue:.2f}')"
   ]
  },
  {
   "cell_type": "markdown",
   "id": "7015aa6b",
   "metadata": {},
   "source": [
    "## 10.\t\n",
    "\n",
    "#### What would be the total revenue if no discount was given?"
   ]
  },
  {
   "cell_type": "code",
   "execution_count": 12,
   "id": "551286f3",
   "metadata": {},
   "outputs": [
    {
     "name": "stdout",
     "output_type": "stream",
     "text": [
      "The total revenue before discount is 12542.00\n"
     ]
    }
   ],
   "source": [
    "# Using the rental price column to find total before discount\n",
    "no_discount_revenue = df2['Rental Price'].sum() \n",
    "print(f'The total revenue before discount is {no_discount_revenue:.2f}')"
   ]
  },
  {
   "cell_type": "code",
   "execution_count": null,
   "id": "e49d08bc",
   "metadata": {},
   "outputs": [],
   "source": []
  }
 ],
 "metadata": {
  "kernelspec": {
   "display_name": "Python 3 (ipykernel)",
   "language": "python",
   "name": "python3"
  },
  "language_info": {
   "codemirror_mode": {
    "name": "ipython",
    "version": 3
   },
   "file_extension": ".py",
   "mimetype": "text/x-python",
   "name": "python",
   "nbconvert_exporter": "python",
   "pygments_lexer": "ipython3",
   "version": "3.10.5"
  }
 },
 "nbformat": 4,
 "nbformat_minor": 5
}
