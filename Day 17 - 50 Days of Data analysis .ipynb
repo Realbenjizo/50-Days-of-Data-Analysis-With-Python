{
 "cells": [
  {
   "cell_type": "markdown",
   "id": "9b67f493",
   "metadata": {},
   "source": [
    "## 1. \n",
    "\n",
    "#### Create a DataFrame from the list above with three columns [A, B, C]."
   ]
  },
  {
   "cell_type": "code",
   "execution_count": 1,
   "id": "a3345159",
   "metadata": {},
   "outputs": [
    {
     "data": {
      "text/html": [
       "<div>\n",
       "<style scoped>\n",
       "    .dataframe tbody tr th:only-of-type {\n",
       "        vertical-align: middle;\n",
       "    }\n",
       "\n",
       "    .dataframe tbody tr th {\n",
       "        vertical-align: top;\n",
       "    }\n",
       "\n",
       "    .dataframe thead th {\n",
       "        text-align: right;\n",
       "    }\n",
       "</style>\n",
       "<table border=\"1\" class=\"dataframe\">\n",
       "  <thead>\n",
       "    <tr style=\"text-align: right;\">\n",
       "      <th></th>\n",
       "      <th>A</th>\n",
       "      <th>B</th>\n",
       "      <th>C</th>\n",
       "    </tr>\n",
       "  </thead>\n",
       "  <tbody>\n",
       "    <tr>\n",
       "      <th>0</th>\n",
       "      <td>1</td>\n",
       "      <td>2</td>\n",
       "      <td>3</td>\n",
       "    </tr>\n",
       "    <tr>\n",
       "      <th>1</th>\n",
       "      <td>4</td>\n",
       "      <td>5</td>\n",
       "      <td>6</td>\n",
       "    </tr>\n",
       "    <tr>\n",
       "      <th>2</th>\n",
       "      <td>7</td>\n",
       "      <td>8</td>\n",
       "      <td>9</td>\n",
       "    </tr>\n",
       "  </tbody>\n",
       "</table>\n",
       "</div>"
      ],
      "text/plain": [
       "   A  B  C\n",
       "0  1  2  3\n",
       "1  4  5  6\n",
       "2  7  8  9"
      ]
     },
     "execution_count": 1,
     "metadata": {},
     "output_type": "execute_result"
    }
   ],
   "source": [
    "import pandas as pd\n",
    "\n",
    "\n",
    "list1 = [[1, 2, 3], [4, 5, 6], [7, 8, 9]]\n",
    "# Creating a DataFrame from lists\n",
    "df = pd.DataFrame(lst, columns=[\"A\", \"B\", \"C\"])\n",
    "df"
   ]
  },
  {
   "cell_type": "markdown",
   "id": "41f19731",
   "metadata": {},
   "source": [
    "## 2.\t\n",
    "\n",
    "#### Using the pandas \"at\" command access the number 9 from your DataFrame."
   ]
  },
  {
   "cell_type": "code",
   "execution_count": 2,
   "id": "cb6d3b29",
   "metadata": {},
   "outputs": [
    {
     "data": {
      "text/plain": [
       "9"
      ]
     },
     "execution_count": 2,
     "metadata": {},
     "output_type": "execute_result"
    }
   ],
   "source": [
    "df.at[2, \"C\"]"
   ]
  },
  {
   "cell_type": "markdown",
   "id": "66d55f42",
   "metadata": {},
   "source": [
    "## 3. \n",
    "\n",
    "#### Write another code using \"at\" command to change the number 9 to 10."
   ]
  },
  {
   "cell_type": "code",
   "execution_count": 3,
   "id": "22fbbbb5",
   "metadata": {},
   "outputs": [
    {
     "data": {
      "text/html": [
       "<div>\n",
       "<style scoped>\n",
       "    .dataframe tbody tr th:only-of-type {\n",
       "        vertical-align: middle;\n",
       "    }\n",
       "\n",
       "    .dataframe tbody tr th {\n",
       "        vertical-align: top;\n",
       "    }\n",
       "\n",
       "    .dataframe thead th {\n",
       "        text-align: right;\n",
       "    }\n",
       "</style>\n",
       "<table border=\"1\" class=\"dataframe\">\n",
       "  <thead>\n",
       "    <tr style=\"text-align: right;\">\n",
       "      <th></th>\n",
       "      <th>A</th>\n",
       "      <th>B</th>\n",
       "      <th>C</th>\n",
       "    </tr>\n",
       "  </thead>\n",
       "  <tbody>\n",
       "    <tr>\n",
       "      <th>0</th>\n",
       "      <td>1</td>\n",
       "      <td>2</td>\n",
       "      <td>3</td>\n",
       "    </tr>\n",
       "    <tr>\n",
       "      <th>1</th>\n",
       "      <td>4</td>\n",
       "      <td>5</td>\n",
       "      <td>6</td>\n",
       "    </tr>\n",
       "    <tr>\n",
       "      <th>2</th>\n",
       "      <td>7</td>\n",
       "      <td>8</td>\n",
       "      <td>10</td>\n",
       "    </tr>\n",
       "  </tbody>\n",
       "</table>\n",
       "</div>"
      ],
      "text/plain": [
       "   A  B   C\n",
       "0  1  2   3\n",
       "1  4  5   6\n",
       "2  7  8  10"
      ]
     },
     "execution_count": 3,
     "metadata": {},
     "output_type": "execute_result"
    }
   ],
   "source": [
    "# Modifying the DataFrame\n",
    "df.at[2, \"C\"] = 10\n",
    "df"
   ]
  },
  {
   "cell_type": "markdown",
   "id": "6d9220c6",
   "metadata": {},
   "source": [
    "## 4. \n",
    "\n",
    "#### Create a DataFrame using the below:"
   ]
  },
  {
   "cell_type": "markdown",
   "id": "d6ac54c4",
   "metadata": {},
   "source": [
    "#### Using the loc[] method, access the age of John from the DataFrame."
   ]
  },
  {
   "cell_type": "code",
   "execution_count": 4,
   "id": "378d8ef1",
   "metadata": {},
   "outputs": [
    {
     "name": "stdout",
     "output_type": "stream",
     "text": [
      "John's age is: 27\n"
     ]
    }
   ],
   "source": [
    "names = [\"John\", \"Mary\", \"Peter\"]\n",
    "age  = [27, 34, 47]\n",
    "sex = [ \"male\", \"female\", \"female\"]\n",
    "\n",
    "# Creating a DataFrame from lists\n",
    "df = pd.DataFrame({\"name\": names, \"age\": age, \"sex\": sex})\n",
    "\n",
    "# Locating John's age using loc\n",
    "john_age = df.loc[df[\"name\"] == \"John\", \"age\"]\n",
    "\n",
    "print(f\"John's age is: {john_age[0]}\")"
   ]
  },
  {
   "cell_type": "markdown",
   "id": "a83b6eef",
   "metadata": {},
   "source": [
    "## 5. \n",
    "\n",
    "#### Using the loc[] change the sex of Peter from \"female\" to \"male\"."
   ]
  },
  {
   "cell_type": "code",
   "execution_count": 5,
   "id": "fc2c0a25",
   "metadata": {},
   "outputs": [
    {
     "data": {
      "text/html": [
       "<div>\n",
       "<style scoped>\n",
       "    .dataframe tbody tr th:only-of-type {\n",
       "        vertical-align: middle;\n",
       "    }\n",
       "\n",
       "    .dataframe tbody tr th {\n",
       "        vertical-align: top;\n",
       "    }\n",
       "\n",
       "    .dataframe thead th {\n",
       "        text-align: right;\n",
       "    }\n",
       "</style>\n",
       "<table border=\"1\" class=\"dataframe\">\n",
       "  <thead>\n",
       "    <tr style=\"text-align: right;\">\n",
       "      <th></th>\n",
       "      <th>name</th>\n",
       "      <th>age</th>\n",
       "      <th>sex</th>\n",
       "    </tr>\n",
       "  </thead>\n",
       "  <tbody>\n",
       "    <tr>\n",
       "      <th>0</th>\n",
       "      <td>John</td>\n",
       "      <td>27</td>\n",
       "      <td>male</td>\n",
       "    </tr>\n",
       "    <tr>\n",
       "      <th>1</th>\n",
       "      <td>Mary</td>\n",
       "      <td>34</td>\n",
       "      <td>female</td>\n",
       "    </tr>\n",
       "    <tr>\n",
       "      <th>2</th>\n",
       "      <td>Peter</td>\n",
       "      <td>47</td>\n",
       "      <td>male</td>\n",
       "    </tr>\n",
       "  </tbody>\n",
       "</table>\n",
       "</div>"
      ],
      "text/plain": [
       "    name  age     sex\n",
       "0   John   27    male\n",
       "1   Mary   34  female\n",
       "2  Peter   47    male"
      ]
     },
     "execution_count": 5,
     "metadata": {},
     "output_type": "execute_result"
    }
   ],
   "source": [
    "# Changing Peter's gender using loc\n",
    "df.loc[df[\"name\"] == \"Peter\", \"sex\"] = \"male\"\n",
    "df"
   ]
  },
  {
   "cell_type": "markdown",
   "id": "adab94c9",
   "metadata": {},
   "source": [
    "## 6.\t\n",
    "\n",
    "#### Write code to return a subset DataFrame of only males from the DataFrame you created in question 5. Write a code to return the name and age of the oldest male."
   ]
  },
  {
   "cell_type": "code",
   "execution_count": 6,
   "id": "a1bc6547",
   "metadata": {},
   "outputs": [
    {
     "data": {
      "text/html": [
       "<div>\n",
       "<style scoped>\n",
       "    .dataframe tbody tr th:only-of-type {\n",
       "        vertical-align: middle;\n",
       "    }\n",
       "\n",
       "    .dataframe tbody tr th {\n",
       "        vertical-align: top;\n",
       "    }\n",
       "\n",
       "    .dataframe thead th {\n",
       "        text-align: right;\n",
       "    }\n",
       "</style>\n",
       "<table border=\"1\" class=\"dataframe\">\n",
       "  <thead>\n",
       "    <tr style=\"text-align: right;\">\n",
       "      <th></th>\n",
       "      <th>name</th>\n",
       "      <th>age</th>\n",
       "      <th>sex</th>\n",
       "    </tr>\n",
       "  </thead>\n",
       "  <tbody>\n",
       "    <tr>\n",
       "      <th>0</th>\n",
       "      <td>John</td>\n",
       "      <td>27</td>\n",
       "      <td>male</td>\n",
       "    </tr>\n",
       "    <tr>\n",
       "      <th>2</th>\n",
       "      <td>Peter</td>\n",
       "      <td>47</td>\n",
       "      <td>male</td>\n",
       "    </tr>\n",
       "  </tbody>\n",
       "</table>\n",
       "</div>"
      ],
      "text/plain": [
       "    name  age   sex\n",
       "0   John   27  male\n",
       "2  Peter   47  male"
      ]
     },
     "execution_count": 6,
     "metadata": {},
     "output_type": "execute_result"
    }
   ],
   "source": [
    "# using query method to filter the DataFrame\n",
    "male = \"male\"\n",
    "males = df.query('sex == @male')\n",
    "males"
   ]
  },
  {
   "cell_type": "code",
   "execution_count": 7,
   "id": "690d76f9",
   "metadata": {},
   "outputs": [
    {
     "name": "stdout",
     "output_type": "stream",
     "text": [
      "The oldest person is Peter and he is 47 yrs old.\n"
     ]
    }
   ],
   "source": [
    "# Sorting the DataFrame and returning the oldest male\n",
    "oldest = males.sort_values('age', axis=0, ascending=False).max()\n",
    "\n",
    "print(f'The oldest person is {oldest[\"name\"]} and he is {oldest.age} yrs old.')"
   ]
  },
  {
   "cell_type": "code",
   "execution_count": null,
   "id": "e5e43b6d",
   "metadata": {},
   "outputs": [],
   "source": []
  }
 ],
 "metadata": {
  "kernelspec": {
   "display_name": "Python 3 (ipykernel)",
   "language": "python",
   "name": "python3"
  },
  "language_info": {
   "codemirror_mode": {
    "name": "ipython",
    "version": 3
   },
   "file_extension": ".py",
   "mimetype": "text/x-python",
   "name": "python",
   "nbconvert_exporter": "python",
   "pygments_lexer": "ipython3",
   "version": "3.10.5"
  }
 },
 "nbformat": 4,
 "nbformat_minor": 5
}
