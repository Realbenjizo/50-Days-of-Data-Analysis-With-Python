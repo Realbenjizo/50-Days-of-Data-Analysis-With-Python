{
 "cells": [
  {
   "cell_type": "code",
   "execution_count": 1,
   "id": "4336508d",
   "metadata": {},
   "outputs": [
    {
     "data": {
      "text/plain": [
       "array([['Kelly', 'Ben', 'Jack', 'Muhammad', 'Jose', 'Liz'],\n",
       "       ['45', '65', '75', '35', '85', '40'],\n",
       "       ['a', 'c', 'e', 'g', 'e', 'f']], dtype='<U11')"
      ]
     },
     "execution_count": 1,
     "metadata": {},
     "output_type": "execute_result"
    }
   ],
   "source": [
    "import numpy as np\n",
    "\n",
    "names = [\"Kelly\", \"Ben\", \"Jack\", \"Muhammad\", \"Jose\", \"Liz\"]\n",
    "grades = [ 45, 65, 75, 35, 85, 40]\n",
    "classes = [\"a\", \"c\", \"e\", \"g\", \"e\", \"f\"]\n",
    "\n",
    "student_array = np.array([names, grades, classes])\n",
    "student_array"
   ]
  },
  {
   "cell_type": "markdown",
   "id": "bf9b2b24",
   "metadata": {},
   "source": [
    "## 1.\t\n",
    "\n",
    "#### Using NumPy, write a code that returns all the names and number of  students from class \"e\" who got over 50 marks."
   ]
  },
  {
   "cell_type": "code",
   "execution_count": 2,
   "id": "f9994041",
   "metadata": {},
   "outputs": [
    {
     "name": "stdout",
     "output_type": "stream",
     "text": [
      "Students from class 'e' with over 50 are: ['Jack' 'Jose']\n",
      "Number Students who got over 50 marks in class 'e'are: 2\n"
     ]
    }
   ],
   "source": [
    "# Slicing names from array\n",
    "names = student_array[0:1,0:]\n",
    "\n",
    "# Slicing grades from array and converting array to int\n",
    "grades = student_array[1:2,0:].astype(int)\n",
    "\n",
    "# Slicing classes from array\n",
    "classes = student_array[2:3, 0:]\n",
    "\n",
    "# find the index of students in class 'e' who got over 50\n",
    "indices = np.where((classes == \"e\") & (grades > 50))\n",
    "\n",
    "# Use the indices to get the number of the students\n",
    "over_50_names = len(names[indices])\n",
    "\n",
    "# Use the indices to get the names of the students\n",
    "class_e_students_over_50 = names[indices]\n",
    "\n",
    "print(\"Students from class 'e' with over 50 are:\", class_e_students_over_50)\n",
    "print(f\"Number Students who got over 50 marks in class 'e'are: {over_50_names}\")"
   ]
  },
  {
   "cell_type": "code",
   "execution_count": 3,
   "id": "a156d773",
   "metadata": {},
   "outputs": [
    {
     "data": {
      "text/plain": [
       "array([['Kelly', 'Ben', 'Jack', 'Muhammad', 'Jose', 'Liz']], dtype='<U11')"
      ]
     },
     "execution_count": 3,
     "metadata": {},
     "output_type": "execute_result"
    }
   ],
   "source": [
    "names"
   ]
  },
  {
   "cell_type": "markdown",
   "id": "450b6f55",
   "metadata": {},
   "source": [
    "## 2.\t\n",
    "\n",
    "#### Your next task is to write a code that returns all the students who got less than 75 marks."
   ]
  },
  {
   "cell_type": "code",
   "execution_count": 4,
   "id": "f2a82b74",
   "metadata": {},
   "outputs": [
    {
     "name": "stdout",
     "output_type": "stream",
     "text": [
      "['Kelly' 'Ben' 'Muhammad' 'Liz']\n"
     ]
    }
   ],
   "source": [
    "# Find the indices of students who got less than 75 marks\n",
    "indices = np.where(grades < 75)\n",
    "\n",
    "# Use the indices to get the names of the students\n",
    "less_75_marks = names[indices]\n",
    "print(less_75_marks)"
   ]
  },
  {
   "cell_type": "markdown",
   "id": "e25d5cd5",
   "metadata": {},
   "source": [
    "Another way"
   ]
  },
  {
   "cell_type": "code",
   "execution_count": 5,
   "id": "58ce255c",
   "metadata": {},
   "outputs": [
    {
     "name": "stdout",
     "output_type": "stream",
     "text": [
      "['Kelly', 'Ben', 'Muhammad', 'Liz']\n"
     ]
    }
   ],
   "source": [
    "# Get names over 75 marks\n",
    "names_75 = names[grades < 75]\n",
    "\n",
    "# Use the list function to return a list of names\n",
    "print(list(names_75))"
   ]
  },
  {
   "cell_type": "markdown",
   "id": "100a4a70",
   "metadata": {},
   "source": [
    "## 3. \n",
    "\n",
    "#### Write a code that returns how many marks a student named Liz got."
   ]
  },
  {
   "cell_type": "code",
   "execution_count": 6,
   "id": "7e32fa17",
   "metadata": {},
   "outputs": [
    {
     "name": "stdout",
     "output_type": "stream",
     "text": [
      "Liz got 40 marks\n"
     ]
    }
   ],
   "source": [
    "# Find the index of the student named \"Liz\"\n",
    "index = np.where(names == \"Liz\")\n",
    "\n",
    "# Use the index to get the student's marks\n",
    "liz_marks = int(grades[index])\n",
    "print(f\"Liz got {liz_marks} marks\")"
   ]
  },
  {
   "cell_type": "markdown",
   "id": "c0652a38",
   "metadata": {},
   "source": [
    "## 4. \n",
    "\n",
    "#### Which student got the highest marks?"
   ]
  },
  {
   "cell_type": "code",
   "execution_count": 7,
   "id": "c39c74b2",
   "metadata": {},
   "outputs": [
    {
     "name": "stdout",
     "output_type": "stream",
     "text": [
      "The student who got the highest marks is, Jose\n"
     ]
    }
   ],
   "source": [
    "# Find the index of the highest grade\n",
    "highest_index = np.argmax(grades)\n",
    "\n",
    "# Use the index to find the corresponding name\n",
    "name = names[:,highest_index]\n",
    "print(f'The student who got the highest marks is, {\"\".join(name)}')"
   ]
  },
  {
   "cell_type": "markdown",
   "id": "3d141849",
   "metadata": {},
   "source": [
    "Another way"
   ]
  },
  {
   "cell_type": "code",
   "execution_count": 8,
   "id": "63654118",
   "metadata": {},
   "outputs": [
    {
     "name": "stdout",
     "output_type": "stream",
     "text": [
      "The student who got the highest marks is, Jose\n"
     ]
    }
   ],
   "source": [
    "# Getting the name of the student\n",
    "name = names[grades == np.max(grades)]\n",
    "\n",
    "print(f'The student who got the highest marks is, {name[0]}')"
   ]
  },
  {
   "cell_type": "markdown",
   "id": "e60e3920",
   "metadata": {},
   "source": [
    "## 5.\t\n",
    "\n",
    "#### What is the longest name in the array and what is its index? \n"
   ]
  },
  {
   "cell_type": "code",
   "execution_count": 9,
   "id": "3107b54b",
   "metadata": {},
   "outputs": [
    {
     "name": "stdout",
     "output_type": "stream",
     "text": [
      "The longest name is sitting at index: 3\n",
      "The longest name is: Muhammad\n"
     ]
    }
   ],
   "source": [
    "# find length of each word in the array\n",
    "longest_word = np.char.str_len(student_array[0:1,0:])\n",
    "\n",
    "# find the index of the longest word\n",
    "index_of_longest_word = np.argmax(longest_word)\n",
    "\n",
    "# find the longest name\n",
    "longest_word = student_array[:,index_of_longest_word]\n",
    "\n",
    "print(f'The longest name is sitting at index: {index_of_longest_word}')\n",
    "print(f'The longest name is: {longest_word[0]}')"
   ]
  },
  {
   "cell_type": "code",
   "execution_count": 10,
   "id": "d363a97c",
   "metadata": {},
   "outputs": [
    {
     "name": "stdout",
     "output_type": "stream",
     "text": [
      "The longest name is sitting at index: 3\n",
      "The longest name is: Muhammad\n"
     ]
    }
   ],
   "source": [
    "# find length of each word in names array\n",
    "longest_word = np.char.str_len(names)\n",
    "\n",
    "# find the index of the longest word\n",
    "index_of_longest_word = np.argmax(longest_word)\n",
    "\n",
    "# find the longest name\n",
    "longest_word = names[:,index_of_longest_word]\n",
    "\n",
    "print(f'The longest name is sitting at index: {index_of_longest_word}')\n",
    "print(f'The longest name is: {longest_word[0]}')"
   ]
  }
 ],
 "metadata": {
  "kernelspec": {
   "display_name": "Python 3 (ipykernel)",
   "language": "python",
   "name": "python3"
  },
  "language_info": {
   "codemirror_mode": {
    "name": "ipython",
    "version": 3
   },
   "file_extension": ".py",
   "mimetype": "text/x-python",
   "name": "python",
   "nbconvert_exporter": "python",
   "pygments_lexer": "ipython3",
   "version": "3.10.5"
  }
 },
 "nbformat": 4,
 "nbformat_minor": 5
}
