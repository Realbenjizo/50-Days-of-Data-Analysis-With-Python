{
 "cells": [
  {
   "cell_type": "markdown",
   "id": "24c765be",
   "metadata": {},
   "source": [
    "## 1.\t\n",
    "\n",
    "#### Create an array using the list above. Write a code to sort the array in ascending order; first sort by columns, then by rows. Create a new variable for each of the sorted arrays."
   ]
  },
  {
   "cell_type": "code",
   "execution_count": 1,
   "id": "831dfa7d",
   "metadata": {},
   "outputs": [
    {
     "data": {
      "text/plain": [
       "array([[ 6,  5,  8],\n",
       "       [12, 13, 10],\n",
       "       [12, 34, 56]])"
      ]
     },
     "execution_count": 1,
     "metadata": {},
     "output_type": "execute_result"
    }
   ],
   "source": [
    "import numpy as np\n",
    "\n",
    "list1 = [[12, 34, 56], [12, 13, 8], [6, 5, 10]]\n",
    "\n",
    "# Creating array from list\n",
    "array1 = np.array(list1)\n",
    "\n",
    "# Sort the array in ascending order by columns\n",
    "sorted_array_column = np.sort(array1, axis = 0)\n",
    "sorted_array_column"
   ]
  },
  {
   "cell_type": "markdown",
   "id": "2405f80d",
   "metadata": {},
   "source": [
    "Sorting by rows"
   ]
  },
  {
   "cell_type": "code",
   "execution_count": 2,
   "id": "052f90c5",
   "metadata": {},
   "outputs": [
    {
     "data": {
      "text/plain": [
       "array([[12, 34, 56],\n",
       "       [ 8, 12, 13],\n",
       "       [ 5,  6, 10]])"
      ]
     },
     "execution_count": 2,
     "metadata": {},
     "output_type": "execute_result"
    }
   ],
   "source": [
    "list1 = [[12, 34, 56], [12, 13, 8], [6, 5, 10]]\n",
    "\n",
    "# Creating array from list\n",
    "array1 = np.array(list1)\n",
    "\n",
    "# Sort array in ascending order by rows\n",
    "sorted_array_row = np.sort(array1, axis=1)\n",
    "sorted_array_row"
   ]
  },
  {
   "cell_type": "markdown",
   "id": "db61c8f1",
   "metadata": {},
   "source": [
    "## 2.\t\n",
    "\n",
    "#### Using NumPy slicing, write a code that slices these numbers in this order [8, 12, 56] from the array sorted by columns (question 1 ). Create a new variable. "
   ]
  },
  {
   "cell_type": "code",
   "execution_count": 3,
   "id": "0a541aa9",
   "metadata": {},
   "outputs": [
    {
     "data": {
      "text/plain": [
       "array([ 8, 12, 56])"
      ]
     },
     "execution_count": 3,
     "metadata": {},
     "output_type": "execute_result"
    }
   ],
   "source": [
    "# using slicing to create a new array\n",
    "new_array = np.array([sorted_array_column[0][2], \n",
    "                      sorted_array_column[1][0], \n",
    "                      sorted_array_column[2][2]]\n",
    "                    )\n",
    "new_array"
   ]
  },
  {
   "cell_type": "markdown",
   "id": "b2de1319",
   "metadata": {},
   "source": [
    "## 3. \n",
    "\n",
    "#### Create a 2-dimensional array of random integers between 100 and -100 of shape (3, 3). Use numpy.where() function to replace all negative values in the array with 0. Use seed to save the random numbers generated."
   ]
  },
  {
   "cell_type": "code",
   "execution_count": 4,
   "id": "2619f927",
   "metadata": {},
   "outputs": [
    {
     "data": {
      "text/plain": [
       "array([[-83,  54,  30],\n",
       "       [-13, -14,  71],\n",
       "       [-83,  39, -60]], dtype=int64)"
      ]
     },
     "execution_count": 4,
     "metadata": {},
     "output_type": "execute_result"
    }
   ],
   "source": [
    "# Generating data\n",
    "rng = np.random.default_rng(seed = 42)\n",
    "array2 = rng.integers(low = -100, high = 100, size=(3, 3))\n",
    "array2"
   ]
  },
  {
   "cell_type": "code",
   "execution_count": 5,
   "id": "20f9ab5b",
   "metadata": {},
   "outputs": [
    {
     "data": {
      "text/plain": [
       "array([[ 0, 54, 30],\n",
       "       [ 0,  0, 71],\n",
       "       [ 0, 39,  0]], dtype=int64)"
      ]
     },
     "execution_count": 5,
     "metadata": {},
     "output_type": "execute_result"
    }
   ],
   "source": [
    "array2 = np.where(array2 < 0, 0, array2)\n",
    "array2"
   ]
  },
  {
   "cell_type": "markdown",
   "id": "f7266190",
   "metadata": {},
   "source": [
    "## 4.\t\n",
    "\n",
    "#### Here is a list below:\n",
    "\n",
    "#### list1 = [[12, 23, 34, 34], [13, 13, 20, 21]]\n",
    "\n",
    "#### Create an array from the list above.\n",
    "\n",
    "#### Using np.unique() function, return the unique elements in a the array and return the counts of each unique element (how many times each element appears in the list).\n"
   ]
  },
  {
   "cell_type": "code",
   "execution_count": 6,
   "id": "da5a0827",
   "metadata": {},
   "outputs": [
    {
     "name": "stdout",
     "output_type": "stream",
     "text": [
      "Unique Elements: [12 13 20 21 23 34 35]\n",
      "Elements count: [1 3 1 1 1 2 1]\n"
     ]
    }
   ],
   "source": [
    "list1 = [[12, 23, 34, 34, 35], [13, 13, 13, 20, 21]]\n",
    "\n",
    "# Creating an array\n",
    "array3 = np.array(list1)\n",
    "\n",
    "# use np.unique to find the unique elements in the array \n",
    "unique_elements, elements_count = np.unique(array3, return_counts=True)\n",
    "\n",
    "print(\"Unique Elements:\", unique_elements)\n",
    "print(\"Elements count:\", elements_count)"
   ]
  },
  {
   "cell_type": "markdown",
   "id": "36924c42",
   "metadata": {},
   "source": [
    "## 5.\t\n",
    "\n",
    "#### Using the np.flatten() function to flatten the nested array you created in question 4."
   ]
  },
  {
   "cell_type": "code",
   "execution_count": 7,
   "id": "9e5e1bd3",
   "metadata": {},
   "outputs": [
    {
     "data": {
      "text/plain": [
       "array([12, 23, 34, 34, 35, 13, 13, 13, 20, 21])"
      ]
     },
     "execution_count": 7,
     "metadata": {},
     "output_type": "execute_result"
    }
   ],
   "source": [
    "# Using flatten method to flatten a nested array\n",
    "array4 = array3.flatten()\n",
    "array4"
   ]
  }
 ],
 "metadata": {
  "kernelspec": {
   "display_name": "Python 3 (ipykernel)",
   "language": "python",
   "name": "python3"
  },
  "language_info": {
   "codemirror_mode": {
    "name": "ipython",
    "version": 3
   },
   "file_extension": ".py",
   "mimetype": "text/x-python",
   "name": "python",
   "nbconvert_exporter": "python",
   "pygments_lexer": "ipython3",
   "version": "3.10.5"
  }
 },
 "nbformat": 4,
 "nbformat_minor": 5
}
