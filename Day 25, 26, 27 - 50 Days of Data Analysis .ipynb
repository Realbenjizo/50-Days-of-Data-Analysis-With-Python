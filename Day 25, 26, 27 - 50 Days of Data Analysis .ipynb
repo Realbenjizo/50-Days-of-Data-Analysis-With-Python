{
 "cells": [
  {
   "cell_type": "markdown",
   "id": "f30a7406",
   "metadata": {},
   "source": [
    "## 1. \n",
    "\n",
    "#### Import the retail_shop_data file and view the first 5 rows. Write another code to check how many rows and columns are in the Data Frame. Are there any duplicates."
   ]
  },
  {
   "cell_type": "code",
   "execution_count": 1,
   "id": "174596ac",
   "metadata": {},
   "outputs": [
    {
     "data": {
      "text/html": [
       "<div>\n",
       "<style scoped>\n",
       "    .dataframe tbody tr th:only-of-type {\n",
       "        vertical-align: middle;\n",
       "    }\n",
       "\n",
       "    .dataframe tbody tr th {\n",
       "        vertical-align: top;\n",
       "    }\n",
       "\n",
       "    .dataframe thead th {\n",
       "        text-align: right;\n",
       "    }\n",
       "</style>\n",
       "<table border=\"1\" class=\"dataframe\">\n",
       "  <thead>\n",
       "    <tr style=\"text-align: right;\">\n",
       "      <th></th>\n",
       "      <th>Date</th>\n",
       "      <th>Customer ID</th>\n",
       "      <th>Product ID</th>\n",
       "      <th>Product Name</th>\n",
       "      <th>Cost</th>\n",
       "      <th>Price</th>\n",
       "      <th>Quantity</th>\n",
       "      <th>Total</th>\n",
       "    </tr>\n",
       "  </thead>\n",
       "  <tbody>\n",
       "    <tr>\n",
       "      <th>0</th>\n",
       "      <td>1 01 2023</td>\n",
       "      <td>1001</td>\n",
       "      <td>101</td>\n",
       "      <td>T-Shirt</td>\n",
       "      <td>18</td>\n",
       "      <td>20</td>\n",
       "      <td>2</td>\n",
       "      <td>40</td>\n",
       "    </tr>\n",
       "    <tr>\n",
       "      <th>1</th>\n",
       "      <td>1 01 2023</td>\n",
       "      <td>1002</td>\n",
       "      <td>102</td>\n",
       "      <td>Jeans</td>\n",
       "      <td>35</td>\n",
       "      <td>50</td>\n",
       "      <td>1</td>\n",
       "      <td>50</td>\n",
       "    </tr>\n",
       "    <tr>\n",
       "      <th>2</th>\n",
       "      <td>2 01 2023</td>\n",
       "      <td>1003</td>\n",
       "      <td>103</td>\n",
       "      <td>Hoodie</td>\n",
       "      <td>25</td>\n",
       "      <td>30</td>\n",
       "      <td>3</td>\n",
       "      <td>90</td>\n",
       "    </tr>\n",
       "    <tr>\n",
       "      <th>3</th>\n",
       "      <td>3 01 2023</td>\n",
       "      <td>1004</td>\n",
       "      <td>104</td>\n",
       "      <td>Sneakers</td>\n",
       "      <td>55</td>\n",
       "      <td>70</td>\n",
       "      <td>2</td>\n",
       "      <td>140</td>\n",
       "    </tr>\n",
       "    <tr>\n",
       "      <th>4</th>\n",
       "      <td>3 01 2023</td>\n",
       "      <td>1005</td>\n",
       "      <td>105</td>\n",
       "      <td>Sunglasses</td>\n",
       "      <td>17</td>\n",
       "      <td>25</td>\n",
       "      <td>1</td>\n",
       "      <td>25</td>\n",
       "    </tr>\n",
       "  </tbody>\n",
       "</table>\n",
       "</div>"
      ],
      "text/plain": [
       "        Date  Customer ID  Product ID Product Name  Cost  Price  Quantity   \n",
       "0  1 01 2023         1001         101      T-Shirt    18     20         2  \\\n",
       "1  1 01 2023         1002         102        Jeans    35     50         1   \n",
       "2  2 01 2023         1003         103       Hoodie    25     30         3   \n",
       "3  3 01 2023         1004         104     Sneakers    55     70         2   \n",
       "4  3 01 2023         1005         105   Sunglasses    17     25         1   \n",
       "\n",
       "   Total  \n",
       "0     40  \n",
       "1     50  \n",
       "2     90  \n",
       "3    140  \n",
       "4     25  "
      ]
     },
     "execution_count": 1,
     "metadata": {},
     "output_type": "execute_result"
    }
   ],
   "source": [
    "import pandas as pd\n",
    "\n",
    "df = pd.read_csv(\"retail_shop_data.csv\")\n",
    "df.head()"
   ]
  },
  {
   "cell_type": "code",
   "execution_count": 2,
   "id": "7a0cc7f3",
   "metadata": {},
   "outputs": [
    {
     "data": {
      "text/plain": [
       "21"
      ]
     },
     "execution_count": 2,
     "metadata": {},
     "output_type": "execute_result"
    }
   ],
   "source": [
    "# Checking the number of rows in the dataset\n",
    "df.shape[0]"
   ]
  },
  {
   "cell_type": "code",
   "execution_count": 3,
   "id": "fde1cf30",
   "metadata": {},
   "outputs": [
    {
     "data": {
      "text/plain": [
       "8"
      ]
     },
     "execution_count": 3,
     "metadata": {},
     "output_type": "execute_result"
    }
   ],
   "source": [
    "# Checking number of columns:\n",
    "df.shape[1]"
   ]
  },
  {
   "cell_type": "code",
   "execution_count": 4,
   "id": "ab262317",
   "metadata": {},
   "outputs": [
    {
     "data": {
      "text/plain": [
       "1"
      ]
     },
     "execution_count": 4,
     "metadata": {},
     "output_type": "execute_result"
    }
   ],
   "source": [
    "# Checking for duplicates\n",
    "df.duplicated('Product Name').sum()"
   ]
  },
  {
   "cell_type": "markdown",
   "id": "15cd0247",
   "metadata": {},
   "source": [
    "## 2.\n",
    "\n",
    "#### Write another code to rename columns: \"Total\" to \"Total Revenue\", \"Price\" to \"Price Per Product\" and \"Cost\" to \"Cost Per Product\"."
   ]
  },
  {
   "cell_type": "code",
   "execution_count": 5,
   "id": "b14c06d8",
   "metadata": {},
   "outputs": [
    {
     "data": {
      "text/html": [
       "<div>\n",
       "<style scoped>\n",
       "    .dataframe tbody tr th:only-of-type {\n",
       "        vertical-align: middle;\n",
       "    }\n",
       "\n",
       "    .dataframe tbody tr th {\n",
       "        vertical-align: top;\n",
       "    }\n",
       "\n",
       "    .dataframe thead th {\n",
       "        text-align: right;\n",
       "    }\n",
       "</style>\n",
       "<table border=\"1\" class=\"dataframe\">\n",
       "  <thead>\n",
       "    <tr style=\"text-align: right;\">\n",
       "      <th></th>\n",
       "      <th>Date</th>\n",
       "      <th>Customer ID</th>\n",
       "      <th>Product ID</th>\n",
       "      <th>Product Name</th>\n",
       "      <th>Cost Per Product</th>\n",
       "      <th>Price Per Product</th>\n",
       "      <th>Quantity</th>\n",
       "      <th>Revenue</th>\n",
       "    </tr>\n",
       "  </thead>\n",
       "  <tbody>\n",
       "    <tr>\n",
       "      <th>0</th>\n",
       "      <td>1 01 2023</td>\n",
       "      <td>1001</td>\n",
       "      <td>101</td>\n",
       "      <td>T-Shirt</td>\n",
       "      <td>18</td>\n",
       "      <td>20</td>\n",
       "      <td>2</td>\n",
       "      <td>40</td>\n",
       "    </tr>\n",
       "    <tr>\n",
       "      <th>1</th>\n",
       "      <td>1 01 2023</td>\n",
       "      <td>1002</td>\n",
       "      <td>102</td>\n",
       "      <td>Jeans</td>\n",
       "      <td>35</td>\n",
       "      <td>50</td>\n",
       "      <td>1</td>\n",
       "      <td>50</td>\n",
       "    </tr>\n",
       "    <tr>\n",
       "      <th>2</th>\n",
       "      <td>2 01 2023</td>\n",
       "      <td>1003</td>\n",
       "      <td>103</td>\n",
       "      <td>Hoodie</td>\n",
       "      <td>25</td>\n",
       "      <td>30</td>\n",
       "      <td>3</td>\n",
       "      <td>90</td>\n",
       "    </tr>\n",
       "    <tr>\n",
       "      <th>3</th>\n",
       "      <td>3 01 2023</td>\n",
       "      <td>1004</td>\n",
       "      <td>104</td>\n",
       "      <td>Sneakers</td>\n",
       "      <td>55</td>\n",
       "      <td>70</td>\n",
       "      <td>2</td>\n",
       "      <td>140</td>\n",
       "    </tr>\n",
       "    <tr>\n",
       "      <th>4</th>\n",
       "      <td>3 01 2023</td>\n",
       "      <td>1005</td>\n",
       "      <td>105</td>\n",
       "      <td>Sunglasses</td>\n",
       "      <td>17</td>\n",
       "      <td>25</td>\n",
       "      <td>1</td>\n",
       "      <td>25</td>\n",
       "    </tr>\n",
       "  </tbody>\n",
       "</table>\n",
       "</div>"
      ],
      "text/plain": [
       "        Date  Customer ID  Product ID Product Name  Cost Per Product   \n",
       "0  1 01 2023         1001         101      T-Shirt                18  \\\n",
       "1  1 01 2023         1002         102        Jeans                35   \n",
       "2  2 01 2023         1003         103       Hoodie                25   \n",
       "3  3 01 2023         1004         104     Sneakers                55   \n",
       "4  3 01 2023         1005         105   Sunglasses                17   \n",
       "\n",
       "   Price Per Product  Quantity  Revenue  \n",
       "0                 20         2       40  \n",
       "1                 50         1       50  \n",
       "2                 30         3       90  \n",
       "3                 70         2      140  \n",
       "4                 25         1       25  "
      ]
     },
     "execution_count": 5,
     "metadata": {},
     "output_type": "execute_result"
    }
   ],
   "source": [
    "df.rename(columns={'Total':'Revenue','Cost': 'Cost Per Product', \n",
    "                   'Price': 'Price Per Product'}, inplace=True)\n",
    "df.head()"
   ]
  },
  {
   "cell_type": "markdown",
   "id": "29722d54",
   "metadata": {},
   "source": [
    "## 3\n",
    "\n",
    "#### Calculate the total cost per product and add this as a column to the DataFrame. Name this column: Total Costs. Calculate the difference between Revenue and Expenses. Name this column, Profit."
   ]
  },
  {
   "cell_type": "code",
   "execution_count": 6,
   "id": "536d552f",
   "metadata": {},
   "outputs": [
    {
     "data": {
      "text/html": [
       "<div>\n",
       "<style scoped>\n",
       "    .dataframe tbody tr th:only-of-type {\n",
       "        vertical-align: middle;\n",
       "    }\n",
       "\n",
       "    .dataframe tbody tr th {\n",
       "        vertical-align: top;\n",
       "    }\n",
       "\n",
       "    .dataframe thead th {\n",
       "        text-align: right;\n",
       "    }\n",
       "</style>\n",
       "<table border=\"1\" class=\"dataframe\">\n",
       "  <thead>\n",
       "    <tr style=\"text-align: right;\">\n",
       "      <th></th>\n",
       "      <th>Date</th>\n",
       "      <th>Customer ID</th>\n",
       "      <th>Product ID</th>\n",
       "      <th>Product Name</th>\n",
       "      <th>Cost Per Product</th>\n",
       "      <th>Price Per Product</th>\n",
       "      <th>Quantity</th>\n",
       "      <th>Revenue</th>\n",
       "      <th>Costs</th>\n",
       "      <th>Profit</th>\n",
       "    </tr>\n",
       "  </thead>\n",
       "  <tbody>\n",
       "    <tr>\n",
       "      <th>0</th>\n",
       "      <td>1 01 2023</td>\n",
       "      <td>1001</td>\n",
       "      <td>101</td>\n",
       "      <td>T-Shirt</td>\n",
       "      <td>18</td>\n",
       "      <td>20</td>\n",
       "      <td>2</td>\n",
       "      <td>40</td>\n",
       "      <td>36</td>\n",
       "      <td>4</td>\n",
       "    </tr>\n",
       "    <tr>\n",
       "      <th>1</th>\n",
       "      <td>1 01 2023</td>\n",
       "      <td>1002</td>\n",
       "      <td>102</td>\n",
       "      <td>Jeans</td>\n",
       "      <td>35</td>\n",
       "      <td>50</td>\n",
       "      <td>1</td>\n",
       "      <td>50</td>\n",
       "      <td>35</td>\n",
       "      <td>15</td>\n",
       "    </tr>\n",
       "    <tr>\n",
       "      <th>2</th>\n",
       "      <td>2 01 2023</td>\n",
       "      <td>1003</td>\n",
       "      <td>103</td>\n",
       "      <td>Hoodie</td>\n",
       "      <td>25</td>\n",
       "      <td>30</td>\n",
       "      <td>3</td>\n",
       "      <td>90</td>\n",
       "      <td>75</td>\n",
       "      <td>15</td>\n",
       "    </tr>\n",
       "    <tr>\n",
       "      <th>3</th>\n",
       "      <td>3 01 2023</td>\n",
       "      <td>1004</td>\n",
       "      <td>104</td>\n",
       "      <td>Sneakers</td>\n",
       "      <td>55</td>\n",
       "      <td>70</td>\n",
       "      <td>2</td>\n",
       "      <td>140</td>\n",
       "      <td>110</td>\n",
       "      <td>30</td>\n",
       "    </tr>\n",
       "    <tr>\n",
       "      <th>4</th>\n",
       "      <td>3 01 2023</td>\n",
       "      <td>1005</td>\n",
       "      <td>105</td>\n",
       "      <td>Sunglasses</td>\n",
       "      <td>17</td>\n",
       "      <td>25</td>\n",
       "      <td>1</td>\n",
       "      <td>25</td>\n",
       "      <td>17</td>\n",
       "      <td>8</td>\n",
       "    </tr>\n",
       "  </tbody>\n",
       "</table>\n",
       "</div>"
      ],
      "text/plain": [
       "        Date  Customer ID  Product ID Product Name  Cost Per Product   \n",
       "0  1 01 2023         1001         101      T-Shirt                18  \\\n",
       "1  1 01 2023         1002         102        Jeans                35   \n",
       "2  2 01 2023         1003         103       Hoodie                25   \n",
       "3  3 01 2023         1004         104     Sneakers                55   \n",
       "4  3 01 2023         1005         105   Sunglasses                17   \n",
       "\n",
       "   Price Per Product  Quantity  Revenue  Costs  Profit  \n",
       "0                 20         2       40     36       4  \n",
       "1                 50         1       50     35      15  \n",
       "2                 30         3       90     75      15  \n",
       "3                 70         2      140    110      30  \n",
       "4                 25         1       25     17       8  "
      ]
     },
     "execution_count": 6,
     "metadata": {},
     "output_type": "execute_result"
    }
   ],
   "source": [
    "# Adding the total costs column to the DataFrame\n",
    "df[\"Costs\"] = df[\"Cost Per Product\"] * df[\"Quantity\"]\n",
    "\n",
    "# Adding the profit column\n",
    "df['Profit'] = df['Revenue'] - df['Costs']\n",
    "df.head()"
   ]
  },
  {
   "cell_type": "markdown",
   "id": "3afeb37b",
   "metadata": {},
   "source": [
    "## 4. \n",
    "\n",
    "#### Add another column called Filter, this column should check for products that have profit margin of $15 and above. If a product has profit over 15 it should return True, otherwise False."
   ]
  },
  {
   "cell_type": "code",
   "execution_count": 7,
   "id": "d7beff8a",
   "metadata": {},
   "outputs": [
    {
     "data": {
      "text/html": [
       "<div>\n",
       "<style scoped>\n",
       "    .dataframe tbody tr th:only-of-type {\n",
       "        vertical-align: middle;\n",
       "    }\n",
       "\n",
       "    .dataframe tbody tr th {\n",
       "        vertical-align: top;\n",
       "    }\n",
       "\n",
       "    .dataframe thead th {\n",
       "        text-align: right;\n",
       "    }\n",
       "</style>\n",
       "<table border=\"1\" class=\"dataframe\">\n",
       "  <thead>\n",
       "    <tr style=\"text-align: right;\">\n",
       "      <th></th>\n",
       "      <th>Date</th>\n",
       "      <th>Customer ID</th>\n",
       "      <th>Product ID</th>\n",
       "      <th>Product Name</th>\n",
       "      <th>Cost Per Product</th>\n",
       "      <th>Price Per Product</th>\n",
       "      <th>Quantity</th>\n",
       "      <th>Revenue</th>\n",
       "      <th>Costs</th>\n",
       "      <th>Profit</th>\n",
       "      <th>Filter</th>\n",
       "    </tr>\n",
       "  </thead>\n",
       "  <tbody>\n",
       "    <tr>\n",
       "      <th>0</th>\n",
       "      <td>1 01 2023</td>\n",
       "      <td>1001</td>\n",
       "      <td>101</td>\n",
       "      <td>T-Shirt</td>\n",
       "      <td>18</td>\n",
       "      <td>20</td>\n",
       "      <td>2</td>\n",
       "      <td>40</td>\n",
       "      <td>36</td>\n",
       "      <td>4</td>\n",
       "      <td>False</td>\n",
       "    </tr>\n",
       "    <tr>\n",
       "      <th>1</th>\n",
       "      <td>1 01 2023</td>\n",
       "      <td>1002</td>\n",
       "      <td>102</td>\n",
       "      <td>Jeans</td>\n",
       "      <td>35</td>\n",
       "      <td>50</td>\n",
       "      <td>1</td>\n",
       "      <td>50</td>\n",
       "      <td>35</td>\n",
       "      <td>15</td>\n",
       "      <td>False</td>\n",
       "    </tr>\n",
       "    <tr>\n",
       "      <th>2</th>\n",
       "      <td>2 01 2023</td>\n",
       "      <td>1003</td>\n",
       "      <td>103</td>\n",
       "      <td>Hoodie</td>\n",
       "      <td>25</td>\n",
       "      <td>30</td>\n",
       "      <td>3</td>\n",
       "      <td>90</td>\n",
       "      <td>75</td>\n",
       "      <td>15</td>\n",
       "      <td>False</td>\n",
       "    </tr>\n",
       "    <tr>\n",
       "      <th>3</th>\n",
       "      <td>3 01 2023</td>\n",
       "      <td>1004</td>\n",
       "      <td>104</td>\n",
       "      <td>Sneakers</td>\n",
       "      <td>55</td>\n",
       "      <td>70</td>\n",
       "      <td>2</td>\n",
       "      <td>140</td>\n",
       "      <td>110</td>\n",
       "      <td>30</td>\n",
       "      <td>True</td>\n",
       "    </tr>\n",
       "    <tr>\n",
       "      <th>4</th>\n",
       "      <td>3 01 2023</td>\n",
       "      <td>1005</td>\n",
       "      <td>105</td>\n",
       "      <td>Sunglasses</td>\n",
       "      <td>17</td>\n",
       "      <td>25</td>\n",
       "      <td>1</td>\n",
       "      <td>25</td>\n",
       "      <td>17</td>\n",
       "      <td>8</td>\n",
       "      <td>False</td>\n",
       "    </tr>\n",
       "  </tbody>\n",
       "</table>\n",
       "</div>"
      ],
      "text/plain": [
       "        Date  Customer ID  Product ID Product Name  Cost Per Product   \n",
       "0  1 01 2023         1001         101      T-Shirt                18  \\\n",
       "1  1 01 2023         1002         102        Jeans                35   \n",
       "2  2 01 2023         1003         103       Hoodie                25   \n",
       "3  3 01 2023         1004         104     Sneakers                55   \n",
       "4  3 01 2023         1005         105   Sunglasses                17   \n",
       "\n",
       "   Price Per Product  Quantity  Revenue  Costs  Profit  Filter  \n",
       "0                 20         2       40     36       4   False  \n",
       "1                 50         1       50     35      15   False  \n",
       "2                 30         3       90     75      15   False  \n",
       "3                 70         2      140    110      30    True  \n",
       "4                 25         1       25     17       8   False  "
      ]
     },
     "execution_count": 7,
     "metadata": {},
     "output_type": "execute_result"
    }
   ],
   "source": [
    "df['Filter'] = df[\"Profit\"] > 15\n",
    "df.head()"
   ]
  },
  {
   "cell_type": "markdown",
   "id": "6fdc95b1",
   "metadata": {},
   "source": [
    "## 5. \n",
    "\n",
    "#### Which products have profit margin of over $15? Use pandas."
   ]
  },
  {
   "cell_type": "code",
   "execution_count": 8,
   "id": "91af0e3e",
   "metadata": {},
   "outputs": [
    {
     "data": {
      "text/html": [
       "<div>\n",
       "<style scoped>\n",
       "    .dataframe tbody tr th:only-of-type {\n",
       "        vertical-align: middle;\n",
       "    }\n",
       "\n",
       "    .dataframe tbody tr th {\n",
       "        vertical-align: top;\n",
       "    }\n",
       "\n",
       "    .dataframe thead th {\n",
       "        text-align: right;\n",
       "    }\n",
       "</style>\n",
       "<table border=\"1\" class=\"dataframe\">\n",
       "  <thead>\n",
       "    <tr style=\"text-align: right;\">\n",
       "      <th></th>\n",
       "      <th>Date</th>\n",
       "      <th>Customer ID</th>\n",
       "      <th>Product ID</th>\n",
       "      <th>Product Name</th>\n",
       "      <th>Cost Per Product</th>\n",
       "      <th>Price Per Product</th>\n",
       "      <th>Quantity</th>\n",
       "      <th>Revenue</th>\n",
       "      <th>Costs</th>\n",
       "      <th>Profit</th>\n",
       "      <th>Filter</th>\n",
       "    </tr>\n",
       "  </thead>\n",
       "  <tbody>\n",
       "    <tr>\n",
       "      <th>3</th>\n",
       "      <td>3 01 2023</td>\n",
       "      <td>1004</td>\n",
       "      <td>104</td>\n",
       "      <td>Sneakers</td>\n",
       "      <td>55</td>\n",
       "      <td>70</td>\n",
       "      <td>2</td>\n",
       "      <td>140</td>\n",
       "      <td>110</td>\n",
       "      <td>30</td>\n",
       "      <td>True</td>\n",
       "    </tr>\n",
       "    <tr>\n",
       "      <th>7</th>\n",
       "      <td>6 01 2023</td>\n",
       "      <td>1008</td>\n",
       "      <td>108</td>\n",
       "      <td>Jacket</td>\n",
       "      <td>63</td>\n",
       "      <td>80</td>\n",
       "      <td>1</td>\n",
       "      <td>80</td>\n",
       "      <td>63</td>\n",
       "      <td>17</td>\n",
       "      <td>True</td>\n",
       "    </tr>\n",
       "    <tr>\n",
       "      <th>13</th>\n",
       "      <td>9 01 2023</td>\n",
       "      <td>1008</td>\n",
       "      <td>108</td>\n",
       "      <td>Jacket</td>\n",
       "      <td>63</td>\n",
       "      <td>80</td>\n",
       "      <td>2</td>\n",
       "      <td>160</td>\n",
       "      <td>126</td>\n",
       "      <td>34</td>\n",
       "      <td>True</td>\n",
       "    </tr>\n",
       "  </tbody>\n",
       "</table>\n",
       "</div>"
      ],
      "text/plain": [
       "         Date  Customer ID  Product ID Product Name  Cost Per Product   \n",
       "3   3 01 2023         1004         104     Sneakers                55  \\\n",
       "7   6 01 2023         1008         108       Jacket                63   \n",
       "13  9 01 2023         1008         108       Jacket                63   \n",
       "\n",
       "    Price Per Product  Quantity  Revenue  Costs  Profit  Filter  \n",
       "3                  70         2      140    110      30    True  \n",
       "7                  80         1       80     63      17    True  \n",
       "13                 80         2      160    126      34    True  "
      ]
     },
     "execution_count": 8,
     "metadata": {},
     "output_type": "execute_result"
    }
   ],
   "source": [
    "# Using filter to filter True values from DataFrame\n",
    "df.query(\"Filter == True\")"
   ]
  },
  {
   "cell_type": "markdown",
   "id": "88895bb4",
   "metadata": {},
   "source": [
    "Another method"
   ]
  },
  {
   "cell_type": "code",
   "execution_count": 9,
   "id": "d880869d",
   "metadata": {},
   "outputs": [
    {
     "name": "stdout",
     "output_type": "stream",
     "text": [
      "3     Sneakers\n",
      "7       Jacket\n",
      "13      Jacket\n",
      "Name: Product Name, dtype: object\n"
     ]
    }
   ],
   "source": [
    "print(df[df['Filter'] == True]['Product Name'])"
   ]
  },
  {
   "cell_type": "markdown",
   "id": "3316310f",
   "metadata": {},
   "source": [
    "# DAY 26"
   ]
  },
  {
   "cell_type": "markdown",
   "id": "11845665",
   "metadata": {},
   "source": [
    "## 1. \n",
    "\n",
    "#### Using pandas, write a code to check the difference in profit between Jackets and Sneakers."
   ]
  },
  {
   "cell_type": "code",
   "execution_count": 10,
   "id": "dab698ab",
   "metadata": {},
   "outputs": [
    {
     "name": "stdout",
     "output_type": "stream",
     "text": [
      "The profit difference between Jackets and Sneakers 21\n"
     ]
    }
   ],
   "source": [
    "# Group data by products and sum profit\n",
    "df_data = df.groupby(\"Product Name\")[\"Profit\"].sum()\n",
    "\n",
    "jackets_sneakers_profit = abs(df_data.loc[\"Jacket\"] - df_data.loc[\"Sneakers\"])\n",
    "print(f'The profit difference between Jackets and Sneakers {jackets_sneakers_profit}')"
   ]
  },
  {
   "cell_type": "markdown",
   "id": "4ab75234",
   "metadata": {},
   "source": [
    "## 2. \n",
    "#### Using pandas, what is the difference in costs between the most profitable product and the least profitable product."
   ]
  },
  {
   "cell_type": "code",
   "execution_count": 11,
   "id": "8daf044d",
   "metadata": {},
   "outputs": [
    {
     "name": "stdout",
     "output_type": "stream",
     "text": [
      "The difference in costs between the most profitable product and least profitable is 98\n"
     ]
    }
   ],
   "source": [
    "# Sort DataFrame by profit\n",
    "df.sort_values(\"Profit\", inplace=True)\n",
    "cost_diff = df.iloc[-1][\"Costs\"] - df.iloc[0][\"Costs\"]\n",
    "\n",
    "print('The difference in costs between the most profitable', \n",
    "      'product and least profitable is', cost_diff)"
   ]
  },
  {
   "cell_type": "markdown",
   "id": "32ff8a57",
   "metadata": {},
   "source": [
    "## 3. \n",
    "\n",
    "#### Write a code to access the total costs of jackets (using loc method)."
   ]
  },
  {
   "cell_type": "code",
   "execution_count": 12,
   "id": "4b58e2ef",
   "metadata": {},
   "outputs": [
    {
     "name": "stdout",
     "output_type": "stream",
     "text": [
      "The costs of Jackets is 189\n"
     ]
    }
   ],
   "source": [
    "# Group data by Product Name and sum costs\n",
    "df_data = df.groupby(\"Product Name\")[\"Costs\"].sum()\n",
    "\n",
    "# Use loc to find the product costs\n",
    "df_costs_of_jeans = df_data.loc[\"Jacket\"]\n",
    "\n",
    "print(\"The costs of Jackets is\", df_costs_of_jeans)"
   ]
  },
  {
   "cell_type": "markdown",
   "id": "7d9de0fa",
   "metadata": {},
   "source": [
    "## 4. \n",
    "#### Using Matplotlib, create a bar stack graph of the sales, costs and profits of the 5 least profitable products."
   ]
  },
  {
   "cell_type": "code",
   "execution_count": 13,
   "id": "7de6ce71",
   "metadata": {},
   "outputs": [
    {
     "data": {
      "image/png": "[encoded data removed]",
      "text/plain": [
       "<Figure size 864x576 with 1 Axes>"
      ]
     },
     "metadata": {
      "needs_background": "light"
     },
     "output_type": "display_data"
    }
   ],
   "source": [
    "import matplotlib.pyplot as plt\n",
    "\n",
    "df_least_5_products = df.sort_values(by = \"Profit\", ascending=True)[0:6]\n",
    "\n",
    "# Create data\n",
    "products = df_least_5_products[\"Product Name\"]\n",
    "sales = df_least_5_products[\"Revenue\"]\n",
    "costs = df_least_5_products[\"Costs\"]\n",
    "profit = df_least_5_products[\"Profit\"]\n",
    "\n",
    "# Create figure and axes\n",
    "fig, ax = plt.subplots(figsize=(12, 8))\n",
    "\n",
    "# Plotting the data\n",
    "ax.bar(products, sales,  label=\"Sales\")\n",
    "ax.bar(products, costs,  label=\"Costs\", bottom = sales)\n",
    "ax.bar(products, profit, label=\"Profit\", bottom = sales + costs)\n",
    "\n",
    "ax.set_ylabel(\"Revenue\", fontsize = 15)\n",
    "ax.set_xlabel(\"Products\", fontsize = 15)\n",
    "plt.xticks(rotation = 0)\n",
    "ax.legend()\n",
    "plt.title(\"6 Least Profitable Products\", fontsize = 20)\n",
    "plt.show()"
   ]
  },
  {
   "cell_type": "markdown",
   "id": "ef0fe650",
   "metadata": {},
   "source": [
    "# Day 27"
   ]
  },
  {
   "cell_type": "markdown",
   "id": "ef5ef2ac",
   "metadata": {},
   "source": [
    "## 1. \n",
    "\n",
    "#### Using loc method , calculate the profit of the sunglasses."
   ]
  },
  {
   "cell_type": "code",
   "execution_count": 14,
   "id": "74485b80",
   "metadata": {},
   "outputs": [
    {
     "name": "stdout",
     "output_type": "stream",
     "text": [
      "Profit on Sunglasses is 8 dollars\n"
     ]
    }
   ],
   "source": [
    "# Find the batteries sales value\n",
    "sales_sunglasses = df.loc[df[\"Product Name\"]==\"Sunglasses\",\"Revenue\"]\n",
    "# Find the batteries costs values\n",
    "costs_sunglasses = df.loc[df[\"Product Name\"]==\"Sunglasses\",\"Costs\"]\n",
    "\n",
    "# Calculate the difference to find profit.\n",
    "profit_of_sunglasses =  sales_sunglasses - costs_sunglasses\n",
    "print(f\"Profit on Sunglasses is {profit_of_sunglasses.iloc[0]} dollars\")"
   ]
  },
  {
   "cell_type": "markdown",
   "id": "ac115679",
   "metadata": {},
   "source": [
    "## 2. \n",
    "\n",
    "#### Use loc to return the profit of hoodies."
   ]
  },
  {
   "cell_type": "code",
   "execution_count": 15,
   "id": "bbc09ebb",
   "metadata": {},
   "outputs": [
    {
     "name": "stdout",
     "output_type": "stream",
     "text": [
      "The profit of hoodies is: 15\n"
     ]
    }
   ],
   "source": [
    "# Locating the profit of hoodies\n",
    "profit_hoodies = df.loc[df[\"Product Name\"] == \"Hoodie\", \"Profit\"]\n",
    "print(\"The profit of hoodies is:\", profit_hoodies.iloc[0])"
   ]
  },
  {
   "cell_type": "markdown",
   "id": "22b0eb41",
   "metadata": {},
   "source": [
    "## 3.\n",
    "\n",
    "#### Using iloc return the names of the two least profitable products."
   ]
  },
  {
   "cell_type": "code",
   "execution_count": 16,
   "id": "531fafe3",
   "metadata": {},
   "outputs": [
    {
     "data": {
      "text/plain": [
       "16    Wallet\n",
       "12    Beanie\n",
       "Name: Product Name, dtype: object"
      ]
     },
     "execution_count": 16,
     "metadata": {},
     "output_type": "execute_result"
    }
   ],
   "source": [
    "# Sort products by profit in ascending order\n",
    "df.sort_values(\"Profit\", inplace=True)\n",
    "\n",
    "# Use iloc to find 2 least profitable products.\n",
    "least_profitable_products = df.iloc[:2,3]\n",
    "least_profitable_products"
   ]
  },
  {
   "cell_type": "markdown",
   "id": "53118c52",
   "metadata": {},
   "source": [
    "## 4. \n",
    "#### Using loc return the name of most profitable product."
   ]
  },
  {
   "cell_type": "code",
   "execution_count": 17,
   "id": "9e9c7c26",
   "metadata": {},
   "outputs": [
    {
     "data": {
      "text/html": [
       "<div>\n",
       "<style scoped>\n",
       "    .dataframe tbody tr th:only-of-type {\n",
       "        vertical-align: middle;\n",
       "    }\n",
       "\n",
       "    .dataframe tbody tr th {\n",
       "        vertical-align: top;\n",
       "    }\n",
       "\n",
       "    .dataframe thead th {\n",
       "        text-align: right;\n",
       "    }\n",
       "</style>\n",
       "<table border=\"1\" class=\"dataframe\">\n",
       "  <thead>\n",
       "    <tr style=\"text-align: right;\">\n",
       "      <th></th>\n",
       "      <th>Date</th>\n",
       "      <th>Customer ID</th>\n",
       "      <th>Product ID</th>\n",
       "      <th>Product Name</th>\n",
       "      <th>Cost Per Product</th>\n",
       "      <th>Price Per Product</th>\n",
       "      <th>Quantity</th>\n",
       "      <th>Revenue</th>\n",
       "      <th>Costs</th>\n",
       "      <th>Profit</th>\n",
       "      <th>Filter</th>\n",
       "    </tr>\n",
       "  </thead>\n",
       "  <tbody>\n",
       "    <tr>\n",
       "      <th>13</th>\n",
       "      <td>9 01 2023</td>\n",
       "      <td>1008</td>\n",
       "      <td>108</td>\n",
       "      <td>Jacket</td>\n",
       "      <td>63</td>\n",
       "      <td>80</td>\n",
       "      <td>2</td>\n",
       "      <td>160</td>\n",
       "      <td>126</td>\n",
       "      <td>34</td>\n",
       "      <td>True</td>\n",
       "    </tr>\n",
       "  </tbody>\n",
       "</table>\n",
       "</div>"
      ],
      "text/plain": [
       "         Date  Customer ID  Product ID Product Name  Cost Per Product   \n",
       "13  9 01 2023         1008         108       Jacket                63  \\\n",
       "\n",
       "    Price Per Product  Quantity  Revenue  Costs  Profit  Filter  \n",
       "13                 80         2      160    126      34    True  "
      ]
     },
     "execution_count": 17,
     "metadata": {},
     "output_type": "execute_result"
    }
   ],
   "source": [
    "df_most_profit = df.loc[df[\"Profit\"]==max(df[\"Profit\"])]\n",
    "df_most_profit"
   ]
  },
  {
   "cell_type": "markdown",
   "id": "1c5bbc57",
   "metadata": {},
   "source": [
    "## 5. \n",
    "#### Using seaborn, create a scatter plot to visualize the relationship between the sales and costs for each product. Is there any noticeable correlation?"
   ]
  },
  {
   "cell_type": "code",
   "execution_count": 18,
   "id": "e85d4349",
   "metadata": {},
   "outputs": [
    {
     "data": {
      "image/png": "[encoded data removed]",
      "text/plain": [
       "<Figure size 864x576 with 1 Axes>"
      ]
     },
     "metadata": {
      "needs_background": "light"
     },
     "output_type": "display_data"
    }
   ],
   "source": [
    "import seaborn as sns\n",
    "\n",
    "fig, ax = plt.subplots(figsize=(12, 8))\n",
    "sns.scatterplot(x=df[\"Revenue\"], y=df[\"Costs\"], data=df)\n",
    "plt.title('Costs versus Profit', fontsize=20)\n",
    "plt.show()"
   ]
  },
  {
   "cell_type": "code",
   "execution_count": 21,
   "id": "c29319e6",
   "metadata": {},
   "outputs": [
    {
     "name": "stdout",
     "output_type": "stream",
     "text": [
      "CSV dataset generated successfully.\n"
     ]
    }
   ],
   "source": [
    "import csv\n",
    "import random\n",
    "\n",
    "# List of names\n",
    "names = [\"Alice\", \"Bob\", \"Charlie\", \"David\", \"Eve\", \"Frank\", \"Grace\", \"Henry\", \"Ivy\", \"Jack\",\n",
    "         \"Kate\", \"Liam\", \"Mia\", \"Noah\", \"Olivia\", \"Peter\", \"Quinn\", \"Rachel\", \"Samuel\", \"Tara\",\n",
    "         \"Uma\", \"Victor\", \"Wendy\", \"Xander\", \"Yara\", \"Zara\", \"Alex\", \"Beth\", \"Chris\", \"Diana\"]\n",
    "\n",
    "\n",
    "# Generate random data for distance run and time run\n",
    "data = []\n",
    "for _ in range(30):\n",
    "    name = random.choice(names)\n",
    "    distance = round(random.uniform(1, 10), 2)  # Random distance between 1 and 10\n",
    "    time = round(random.uniform(1, 5), 2)      # Random time between 1 and 5 hours\n",
    "    data.append([name, distance, time])\n",
    "\n",
    "# Write the data to a CSV file\n",
    "with open('running_data.csv', mode='w', newline='') as file:\n",
    "    writer = csv.writer(file)\n",
    "    writer.writerow([\"Name\", \"Distance (km)\", \"Time (hours)\"])  # Write header\n",
    "    writer.writerows(data)  # Write data rows\n",
    "\n",
    "print(\"CSV dataset generated successfully.\")"
   ]
  },
  {
   "cell_type": "code",
   "execution_count": 22,
   "id": "59de66a9",
   "metadata": {},
   "outputs": [
    {
     "data": {
      "text/html": [
       "<div>\n",
       "<style scoped>\n",
       "    .dataframe tbody tr th:only-of-type {\n",
       "        vertical-align: middle;\n",
       "    }\n",
       "\n",
       "    .dataframe tbody tr th {\n",
       "        vertical-align: top;\n",
       "    }\n",
       "\n",
       "    .dataframe thead th {\n",
       "        text-align: right;\n",
       "    }\n",
       "</style>\n",
       "<table border=\"1\" class=\"dataframe\">\n",
       "  <thead>\n",
       "    <tr style=\"text-align: right;\">\n",
       "      <th></th>\n",
       "      <th>Name</th>\n",
       "      <th>Distance (km)</th>\n",
       "      <th>Time (hours)</th>\n",
       "    </tr>\n",
       "  </thead>\n",
       "  <tbody>\n",
       "    <tr>\n",
       "      <th>0</th>\n",
       "      <td>Wendy</td>\n",
       "      <td>3.10</td>\n",
       "      <td>4.24</td>\n",
       "    </tr>\n",
       "    <tr>\n",
       "      <th>1</th>\n",
       "      <td>Yara</td>\n",
       "      <td>8.61</td>\n",
       "      <td>4.16</td>\n",
       "    </tr>\n",
       "    <tr>\n",
       "      <th>2</th>\n",
       "      <td>Grace</td>\n",
       "      <td>7.17</td>\n",
       "      <td>2.94</td>\n",
       "    </tr>\n",
       "    <tr>\n",
       "      <th>3</th>\n",
       "      <td>Grace</td>\n",
       "      <td>1.36</td>\n",
       "      <td>2.78</td>\n",
       "    </tr>\n",
       "    <tr>\n",
       "      <th>4</th>\n",
       "      <td>David</td>\n",
       "      <td>3.96</td>\n",
       "      <td>3.46</td>\n",
       "    </tr>\n",
       "    <tr>\n",
       "      <th>5</th>\n",
       "      <td>Noah</td>\n",
       "      <td>4.95</td>\n",
       "      <td>3.51</td>\n",
       "    </tr>\n",
       "    <tr>\n",
       "      <th>6</th>\n",
       "      <td>Quinn</td>\n",
       "      <td>3.35</td>\n",
       "      <td>4.29</td>\n",
       "    </tr>\n",
       "    <tr>\n",
       "      <th>7</th>\n",
       "      <td>Uma</td>\n",
       "      <td>4.12</td>\n",
       "      <td>3.15</td>\n",
       "    </tr>\n",
       "    <tr>\n",
       "      <th>8</th>\n",
       "      <td>Wendy</td>\n",
       "      <td>2.74</td>\n",
       "      <td>4.08</td>\n",
       "    </tr>\n",
       "    <tr>\n",
       "      <th>9</th>\n",
       "      <td>Xander</td>\n",
       "      <td>9.36</td>\n",
       "      <td>2.71</td>\n",
       "    </tr>\n",
       "    <tr>\n",
       "      <th>10</th>\n",
       "      <td>Yara</td>\n",
       "      <td>5.46</td>\n",
       "      <td>3.27</td>\n",
       "    </tr>\n",
       "    <tr>\n",
       "      <th>11</th>\n",
       "      <td>Bob</td>\n",
       "      <td>7.55</td>\n",
       "      <td>3.51</td>\n",
       "    </tr>\n",
       "    <tr>\n",
       "      <th>12</th>\n",
       "      <td>Diana</td>\n",
       "      <td>3.46</td>\n",
       "      <td>2.05</td>\n",
       "    </tr>\n",
       "    <tr>\n",
       "      <th>13</th>\n",
       "      <td>Kate</td>\n",
       "      <td>5.66</td>\n",
       "      <td>4.39</td>\n",
       "    </tr>\n",
       "    <tr>\n",
       "      <th>14</th>\n",
       "      <td>Jack</td>\n",
       "      <td>2.80</td>\n",
       "      <td>2.61</td>\n",
       "    </tr>\n",
       "    <tr>\n",
       "      <th>15</th>\n",
       "      <td>Uma</td>\n",
       "      <td>3.38</td>\n",
       "      <td>4.27</td>\n",
       "    </tr>\n",
       "    <tr>\n",
       "      <th>16</th>\n",
       "      <td>Yara</td>\n",
       "      <td>5.60</td>\n",
       "      <td>3.70</td>\n",
       "    </tr>\n",
       "    <tr>\n",
       "      <th>17</th>\n",
       "      <td>Alice</td>\n",
       "      <td>5.41</td>\n",
       "      <td>4.49</td>\n",
       "    </tr>\n",
       "    <tr>\n",
       "      <th>18</th>\n",
       "      <td>Frank</td>\n",
       "      <td>6.25</td>\n",
       "      <td>1.11</td>\n",
       "    </tr>\n",
       "    <tr>\n",
       "      <th>19</th>\n",
       "      <td>Bob</td>\n",
       "      <td>5.33</td>\n",
       "      <td>4.95</td>\n",
       "    </tr>\n",
       "    <tr>\n",
       "      <th>20</th>\n",
       "      <td>Samuel</td>\n",
       "      <td>2.59</td>\n",
       "      <td>1.24</td>\n",
       "    </tr>\n",
       "    <tr>\n",
       "      <th>21</th>\n",
       "      <td>Olivia</td>\n",
       "      <td>8.63</td>\n",
       "      <td>2.37</td>\n",
       "    </tr>\n",
       "    <tr>\n",
       "      <th>22</th>\n",
       "      <td>Jack</td>\n",
       "      <td>2.32</td>\n",
       "      <td>2.50</td>\n",
       "    </tr>\n",
       "    <tr>\n",
       "      <th>23</th>\n",
       "      <td>Eve</td>\n",
       "      <td>2.84</td>\n",
       "      <td>1.60</td>\n",
       "    </tr>\n",
       "    <tr>\n",
       "      <th>24</th>\n",
       "      <td>Alex</td>\n",
       "      <td>1.47</td>\n",
       "      <td>1.83</td>\n",
       "    </tr>\n",
       "    <tr>\n",
       "      <th>25</th>\n",
       "      <td>Uma</td>\n",
       "      <td>3.17</td>\n",
       "      <td>2.64</td>\n",
       "    </tr>\n",
       "    <tr>\n",
       "      <th>26</th>\n",
       "      <td>Eve</td>\n",
       "      <td>6.51</td>\n",
       "      <td>1.35</td>\n",
       "    </tr>\n",
       "    <tr>\n",
       "      <th>27</th>\n",
       "      <td>Victor</td>\n",
       "      <td>3.89</td>\n",
       "      <td>1.20</td>\n",
       "    </tr>\n",
       "    <tr>\n",
       "      <th>28</th>\n",
       "      <td>Grace</td>\n",
       "      <td>3.04</td>\n",
       "      <td>3.18</td>\n",
       "    </tr>\n",
       "    <tr>\n",
       "      <th>29</th>\n",
       "      <td>Jack</td>\n",
       "      <td>4.54</td>\n",
       "      <td>2.77</td>\n",
       "    </tr>\n",
       "  </tbody>\n",
       "</table>\n",
       "</div>"
      ],
      "text/plain": [
       "      Name  Distance (km)  Time (hours)\n",
       "0    Wendy           3.10          4.24\n",
       "1     Yara           8.61          4.16\n",
       "2    Grace           7.17          2.94\n",
       "3    Grace           1.36          2.78\n",
       "4    David           3.96          3.46\n",
       "5     Noah           4.95          3.51\n",
       "6    Quinn           3.35          4.29\n",
       "7      Uma           4.12          3.15\n",
       "8    Wendy           2.74          4.08\n",
       "9   Xander           9.36          2.71\n",
       "10    Yara           5.46          3.27\n",
       "11     Bob           7.55          3.51\n",
       "12   Diana           3.46          2.05\n",
       "13    Kate           5.66          4.39\n",
       "14    Jack           2.80          2.61\n",
       "15     Uma           3.38          4.27\n",
       "16    Yara           5.60          3.70\n",
       "17   Alice           5.41          4.49\n",
       "18   Frank           6.25          1.11\n",
       "19     Bob           5.33          4.95\n",
       "20  Samuel           2.59          1.24\n",
       "21  Olivia           8.63          2.37\n",
       "22    Jack           2.32          2.50\n",
       "23     Eve           2.84          1.60\n",
       "24    Alex           1.47          1.83\n",
       "25     Uma           3.17          2.64\n",
       "26     Eve           6.51          1.35\n",
       "27  Victor           3.89          1.20\n",
       "28   Grace           3.04          3.18\n",
       "29    Jack           4.54          2.77"
      ]
     },
     "execution_count": 22,
     "metadata": {},
     "output_type": "execute_result"
    }
   ],
   "source": [
    "df = pd.read_csv(\"running_data.csv\")\n",
    "df"
   ]
  },
  {
   "cell_type": "code",
   "execution_count": 23,
   "id": "a570d7f5",
   "metadata": {},
   "outputs": [
    {
     "name": "stdout",
     "output_type": "stream",
     "text": [
      "Rest dataset generated successfully.\n"
     ]
    }
   ],
   "source": [
    "import csv\n",
    "import random\n",
    "\n",
    "# List of names from the previous dataset\n",
    "names = [\"Alice\", \"Bob\", \"Charlie\", \"David\", \"Eve\", \"Frank\", \"Grace\", \"Henry\", \"Ivy\", \"Jack\",\n",
    "         \"Kate\", \"Liam\", \"Mia\", \"Noah\", \"Olivia\", \"Peter\", \"Quinn\", \"Rachel\", \"Samuel\", \"Tara\",\n",
    "         \"Uma\", \"Victor\", \"Wendy\", \"Xander\", \"Yara\", \"Zara\", \"Alex\", \"Beth\", \"Chris\", \"Diana\"]\n",
    "\n",
    "# Select 10 random runners for rest times\n",
    "rest_data = []\n",
    "for _ in range(10):\n",
    "    name = random.choice(names)\n",
    "    rest_time = round(random.uniform(0.5, 3), 2)  # Random rest time between 0.5 and 3 hours\n",
    "    rest_data.append([name, rest_time])\n",
    "\n",
    "# Write the rest data to a CSV file\n",
    "with open('runner_rest.csv', mode='w', newline='') as file:\n",
    "    writer = csv.writer(file)\n",
    "    writer.writerow([\"Name\", \"Rest Time (hours)\"])  # Write header\n",
    "    writer.writerows(rest_data)  # Write data rows\n",
    "\n",
    "print(\"Rest dataset generated successfully.\")"
   ]
  },
  {
   "cell_type": "code",
   "execution_count": 25,
   "id": "d02816af",
   "metadata": {},
   "outputs": [
    {
     "data": {
      "text/html": [
       "<div>\n",
       "<style scoped>\n",
       "    .dataframe tbody tr th:only-of-type {\n",
       "        vertical-align: middle;\n",
       "    }\n",
       "\n",
       "    .dataframe tbody tr th {\n",
       "        vertical-align: top;\n",
       "    }\n",
       "\n",
       "    .dataframe thead th {\n",
       "        text-align: right;\n",
       "    }\n",
       "</style>\n",
       "<table border=\"1\" class=\"dataframe\">\n",
       "  <thead>\n",
       "    <tr style=\"text-align: right;\">\n",
       "      <th></th>\n",
       "      <th>Name</th>\n",
       "      <th>Rest Time (hours)</th>\n",
       "    </tr>\n",
       "  </thead>\n",
       "  <tbody>\n",
       "    <tr>\n",
       "      <th>0</th>\n",
       "      <td>Grace</td>\n",
       "      <td>2.73</td>\n",
       "    </tr>\n",
       "    <tr>\n",
       "      <th>1</th>\n",
       "      <td>Chris</td>\n",
       "      <td>1.91</td>\n",
       "    </tr>\n",
       "    <tr>\n",
       "      <th>2</th>\n",
       "      <td>Frank</td>\n",
       "      <td>0.58</td>\n",
       "    </tr>\n",
       "    <tr>\n",
       "      <th>3</th>\n",
       "      <td>Alice</td>\n",
       "      <td>2.47</td>\n",
       "    </tr>\n",
       "    <tr>\n",
       "      <th>4</th>\n",
       "      <td>Noah</td>\n",
       "      <td>1.62</td>\n",
       "    </tr>\n",
       "    <tr>\n",
       "      <th>5</th>\n",
       "      <td>Victor</td>\n",
       "      <td>1.95</td>\n",
       "    </tr>\n",
       "    <tr>\n",
       "      <th>6</th>\n",
       "      <td>Alice</td>\n",
       "      <td>1.91</td>\n",
       "    </tr>\n",
       "    <tr>\n",
       "      <th>7</th>\n",
       "      <td>Mia</td>\n",
       "      <td>2.98</td>\n",
       "    </tr>\n",
       "    <tr>\n",
       "      <th>8</th>\n",
       "      <td>Bob</td>\n",
       "      <td>2.01</td>\n",
       "    </tr>\n",
       "    <tr>\n",
       "      <th>9</th>\n",
       "      <td>Noah</td>\n",
       "      <td>1.33</td>\n",
       "    </tr>\n",
       "  </tbody>\n",
       "</table>\n",
       "</div>"
      ],
      "text/plain": [
       "     Name  Rest Time (hours)\n",
       "0   Grace               2.73\n",
       "1   Chris               1.91\n",
       "2   Frank               0.58\n",
       "3   Alice               2.47\n",
       "4    Noah               1.62\n",
       "5  Victor               1.95\n",
       "6   Alice               1.91\n",
       "7     Mia               2.98\n",
       "8     Bob               2.01\n",
       "9    Noah               1.33"
      ]
     },
     "execution_count": 25,
     "metadata": {},
     "output_type": "execute_result"
    }
   ],
   "source": [
    "df2 = pd.read_csv(\"runner_rest.csv\")\n",
    "df2"
   ]
  },
  {
   "cell_type": "code",
   "execution_count": null,
   "id": "40bb6673",
   "metadata": {},
   "outputs": [],
   "source": []
  }
 ],
 "metadata": {
  "kernelspec": {
   "display_name": "Python 3 (ipykernel)",
   "language": "python",
   "name": "python3"
  },
  "language_info": {
   "codemirror_mode": {
    "name": "ipython",
    "version": 3
   },
   "file_extension": ".py",
   "mimetype": "text/x-python",
   "name": "python",
   "nbconvert_exporter": "python",
   "pygments_lexer": "ipython3",
   "version": "3.10.5"
  }
 },
 "nbformat": 4,
 "nbformat_minor": 5
}
