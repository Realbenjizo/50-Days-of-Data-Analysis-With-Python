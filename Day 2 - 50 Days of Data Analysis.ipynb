{
 "cells": [
  {
   "cell_type": "markdown",
   "id": "ffa08c09",
   "metadata": {},
   "source": [
    "## 1.\t\n",
    "\n",
    "#### Write a code to import NumPy into your script. Check the version of NumPy installed."
   ]
  },
  {
   "cell_type": "code",
   "execution_count": 1,
   "id": "5a3c0fd1",
   "metadata": {},
   "outputs": [],
   "source": [
    "import numpy as np"
   ]
  },
  {
   "cell_type": "code",
   "execution_count": 2,
   "id": "5752a97d",
   "metadata": {},
   "outputs": [
    {
     "data": {
      "text/plain": [
       "'1.24.3'"
      ]
     },
     "execution_count": 2,
     "metadata": {},
     "output_type": "execute_result"
    }
   ],
   "source": [
    "# Checking the version of NumPy\n",
    "np.__version__"
   ]
  },
  {
   "cell_type": "markdown",
   "id": "e9163af8",
   "metadata": {},
   "source": [
    "## 2.\t\n",
    "\n",
    "#### Here is a list below:\n",
    "#### list1 = [2, 3, 4, 6]\n",
    "\n",
    "#### Create a one-dimensional array from the list above. Write another code to check the shape and size of your array.\n"
   ]
  },
  {
   "cell_type": "code",
   "execution_count": 3,
   "id": "4698f940",
   "metadata": {},
   "outputs": [
    {
     "data": {
      "text/plain": [
       "array([2, 3, 4, 6])"
      ]
     },
     "execution_count": 3,
     "metadata": {},
     "output_type": "execute_result"
    }
   ],
   "source": [
    "list1 = [2, 3, 4, 6]\n",
    "\n",
    "arr = np.array(list1)\n",
    "arr"
   ]
  },
  {
   "cell_type": "code",
   "execution_count": 4,
   "id": "1f49307b",
   "metadata": {},
   "outputs": [
    {
     "data": {
      "text/plain": [
       "(4,)"
      ]
     },
     "execution_count": 4,
     "metadata": {},
     "output_type": "execute_result"
    }
   ],
   "source": [
    "# Checking shape of array\n",
    "arr.shape"
   ]
  },
  {
   "cell_type": "code",
   "execution_count": 5,
   "id": "79c50534",
   "metadata": {},
   "outputs": [
    {
     "name": "stdout",
     "output_type": "stream",
     "text": [
      "The Number of Itemms in the array:  4\n"
     ]
    }
   ],
   "source": [
    "# Checking size of array\n",
    "arr_size = np.size(arr)\n",
    "print(\"The Number of Itemms in the array: \", arr_size)"
   ]
  },
  {
   "cell_type": "markdown",
   "id": "e84f040e",
   "metadata": {},
   "source": [
    "#### Write a function that takes this array and returns a new array with all the values in the original array reversed."
   ]
  },
  {
   "cell_type": "code",
   "execution_count": 6,
   "id": "38ecca6b",
   "metadata": {},
   "outputs": [
    {
     "data": {
      "text/plain": [
       "array([6, 4, 3, 2])"
      ]
     },
     "execution_count": 6,
     "metadata": {},
     "output_type": "execute_result"
    }
   ],
   "source": [
    "# Using function to reverse array\n",
    "def reverse_array(array):\n",
    "    return array[::-1]\n",
    "\n",
    "# Creating an array\n",
    "arr = np.array(list1)\n",
    "\n",
    "# Reversing array using function\n",
    "arr_reversed = reverse_array(arr)\n",
    "arr_reversed"
   ]
  },
  {
   "cell_type": "markdown",
   "id": "88b93074",
   "metadata": {},
   "source": [
    "#### Another method"
   ]
  },
  {
   "cell_type": "code",
   "execution_count": 7,
   "id": "cbd4252e",
   "metadata": {},
   "outputs": [
    {
     "data": {
      "text/plain": [
       "array([6, 4, 3, 2])"
      ]
     },
     "execution_count": 7,
     "metadata": {},
     "output_type": "execute_result"
    }
   ],
   "source": [
    "# Creating an array\n",
    "arr = np.array(list1)\n",
    "\n",
    "# Reversing array using flip\n",
    "flip_arr = np.flip(arr, axis=None)\n",
    "flip_arr"
   ]
  },
  {
   "cell_type": "markdown",
   "id": "ae8e5f64",
   "metadata": {},
   "source": [
    "### 3.\n",
    "\n",
    "#### list1 = [2, 3, 4, 6]\n",
    "\n",
    "#### list2 = [8, 10, 12, 14]\n",
    "\n",
    "#### Create an array from the two lists above. Then write code to check the shape, dimensions,  and data type of the array.\n"
   ]
  },
  {
   "cell_type": "code",
   "execution_count": 8,
   "id": "682749bf",
   "metadata": {},
   "outputs": [
    {
     "data": {
      "text/plain": [
       "array([[ 2,  3,  4,  6],\n",
       "       [ 8, 10, 12, 14]])"
      ]
     },
     "execution_count": 8,
     "metadata": {},
     "output_type": "execute_result"
    }
   ],
   "source": [
    "list1 = [2, 3, 4, 6]\n",
    "list2 = [8, 10, 12, 14]\n",
    "\n",
    "# Creating array from two lists\n",
    "arr = np.array([list1, list2])\n",
    "arr"
   ]
  },
  {
   "cell_type": "code",
   "execution_count": 9,
   "id": "d9b0b6ea",
   "metadata": {},
   "outputs": [
    {
     "data": {
      "text/plain": [
       "(2, 4)"
      ]
     },
     "execution_count": 9,
     "metadata": {},
     "output_type": "execute_result"
    }
   ],
   "source": [
    "# Checking shape of the array\n",
    "arr.shape"
   ]
  },
  {
   "cell_type": "code",
   "execution_count": 10,
   "id": "41f4566f",
   "metadata": {},
   "outputs": [
    {
     "data": {
      "text/plain": [
       "2"
      ]
     },
     "execution_count": 10,
     "metadata": {},
     "output_type": "execute_result"
    }
   ],
   "source": [
    "# Checking dimensions of the array\n",
    "arr.ndim"
   ]
  },
  {
   "cell_type": "code",
   "execution_count": 11,
   "id": "8694bc1e",
   "metadata": {},
   "outputs": [
    {
     "data": {
      "text/plain": [
       "dtype('int32')"
      ]
     },
     "execution_count": 11,
     "metadata": {},
     "output_type": "execute_result"
    }
   ],
   "source": [
    "# checking the dtype of array\n",
    "arr.dtype"
   ]
  },
  {
   "cell_type": "markdown",
   "id": "244e1334",
   "metadata": {},
   "source": [
    "## 4.\n",
    "\n",
    "#### list1 = [2, 3, 4, 6]\n",
    "\n",
    "#### list2 = [8, 10.1, 12, 14]\n",
    "\n",
    "#### list3 = [16, 18, 20, 22.1]\n",
    "\n",
    "#### Create an array from the three (3) lists above. Take note that some of the lists contain floats. Create an array that will have an int64 data type\n"
   ]
  },
  {
   "cell_type": "code",
   "execution_count": 12,
   "id": "fa30e8b2",
   "metadata": {},
   "outputs": [
    {
     "name": "stdout",
     "output_type": "stream",
     "text": [
      "[[ 2  3  4  6]\n",
      " [ 8 10 12 14]\n",
      " [16 18 20 22]]\n"
     ]
    }
   ],
   "source": [
    "list1 = [2, 3, 4, 6]\n",
    "list2 = [8, 10.1, 12, 14]\n",
    "list3 = [16, 18, 20, 22.1]\n",
    "\n",
    "# Create an array from the three lists\n",
    "arr = np.array([list1, list2, list3])\n",
    "\n",
    "\n",
    "# Convert the array to int64 data type\n",
    "arr = arr.astype(np.int64)\n",
    "print(arr)"
   ]
  },
  {
   "cell_type": "code",
   "execution_count": 13,
   "id": "eacc5404",
   "metadata": {},
   "outputs": [
    {
     "name": "stdout",
     "output_type": "stream",
     "text": [
      "New arr data type: int64\n"
     ]
    }
   ],
   "source": [
    "# Print array data type\n",
    "print(\"New arr data type:\", arr.dtype)"
   ]
  },
  {
   "cell_type": "markdown",
   "id": "9a481244",
   "metadata": {},
   "source": [
    "#### Another method"
   ]
  },
  {
   "cell_type": "code",
   "execution_count": 14,
   "id": "76f836b8",
   "metadata": {},
   "outputs": [
    {
     "data": {
      "text/plain": [
       "array([[ 2,  3,  4,  6],\n",
       "       [ 8, 10, 12, 14],\n",
       "       [16, 18, 20, 22]], dtype=int64)"
      ]
     },
     "execution_count": 14,
     "metadata": {},
     "output_type": "execute_result"
    }
   ],
   "source": [
    "list1 = [2, 3, 4, 6]\n",
    "list2 = [8, 10.1, 12, 14]\n",
    "list3 = [16, 18, 20, 22.1]\n",
    "\n",
    "arr = np.array([list1,list2, list3], dtype='int64')\n",
    "arr"
   ]
  },
  {
   "cell_type": "markdown",
   "id": "9bd8493f",
   "metadata": {},
   "source": [
    "## 5.\t\n",
    "\n",
    "#### Is it possible to create an array of both floats and integers?"
   ]
  },
  {
   "cell_type": "code",
   "execution_count": 15,
   "id": "19914518",
   "metadata": {},
   "outputs": [
    {
     "data": {
      "text/plain": [
       "dtype('float64')"
      ]
     },
     "execution_count": 15,
     "metadata": {},
     "output_type": "execute_result"
    }
   ],
   "source": [
    "# list of integers and floats\n",
    "lst = [1, 2.5, 3, 4,2, 5]\n",
    "\n",
    "# Creating an array from a list of floats and integers\n",
    "my_array = np.array(lst)\n",
    "my_array.dtype"
   ]
  }
 ],
 "metadata": {
  "kernelspec": {
   "display_name": "Python 3 (ipykernel)",
   "language": "python",
   "name": "python3"
  },
  "language_info": {
   "codemirror_mode": {
    "name": "ipython",
    "version": 3
   },
   "file_extension": ".py",
   "mimetype": "text/x-python",
   "name": "python",
   "nbconvert_exporter": "python",
   "pygments_lexer": "ipython3",
   "version": "3.10.5"
  }
 },
 "nbformat": 4,
 "nbformat_minor": 5
}
