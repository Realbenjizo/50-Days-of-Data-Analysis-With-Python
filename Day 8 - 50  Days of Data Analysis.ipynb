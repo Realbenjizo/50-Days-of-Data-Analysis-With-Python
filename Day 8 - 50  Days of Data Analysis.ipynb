{
 "cells": [
  {
   "cell_type": "markdown",
   "id": "e9f17d99",
   "metadata": {},
   "source": [
    "## 1.\t\n",
    "\n",
    "#### Create a one-dimension array with random integers between 0 and 20. The size of the array is 10. Ensure that the results are reproducible."
   ]
  },
  {
   "cell_type": "code",
   "execution_count": 1,
   "id": "b64d80e5",
   "metadata": {},
   "outputs": [
    {
     "data": {
      "text/plain": [
       "array([ 1, 16, 13,  9,  9, 18,  1, 14,  4,  1], dtype=int64)"
      ]
     },
     "execution_count": 1,
     "metadata": {},
     "output_type": "execute_result"
    }
   ],
   "source": [
    "import numpy as np\n",
    "\n",
    "rng = np.random.default_rng(seed=42)\n",
    "array1 = rng.integers(21, size=10)\n",
    "array1"
   ]
  },
  {
   "cell_type": "markdown",
   "id": "ac04d2e7",
   "metadata": {},
   "source": [
    "## 2.\n",
    "\n",
    "#### Using slicing, create a subset array of 3 integers from the array you created in question 1. First integer is at index 2, second integer is at index 4 and third index at index 7."
   ]
  },
  {
   "cell_type": "code",
   "execution_count": 2,
   "id": "788cf5f1",
   "metadata": {},
   "outputs": [
    {
     "name": "stdout",
     "output_type": "stream",
     "text": [
      "[13  9 14]\n"
     ]
    }
   ],
   "source": [
    "subset_array = array1[[2, 4, 7]]\n",
    "print(subset_array)"
   ]
  },
  {
   "cell_type": "markdown",
   "id": "03d3fe6d",
   "metadata": {},
   "source": [
    "## 3.\t\n",
    "\n",
    "#### Create a two-dimension array from the list below. Check the dimensions and shape of your array\n",
    "\n",
    "#### my_list = [[1, 2, 3, 4, 5], [6, 7, 8, 9, 10],[11, 12, 13, 14, 15]]\n",
    "\n",
    "#### Using slicing, write a code to access the numbers 3, 8, 13. Your code should return [3, 8, 13].\n"
   ]
  },
  {
   "cell_type": "code",
   "execution_count": 3,
   "id": "ed6a6476",
   "metadata": {},
   "outputs": [
    {
     "data": {
      "text/plain": [
       "array([[ 1,  2,  3,  4,  5],\n",
       "       [ 6,  7,  8,  9, 10],\n",
       "       [11, 12, 13, 14, 15]])"
      ]
     },
     "execution_count": 3,
     "metadata": {},
     "output_type": "execute_result"
    }
   ],
   "source": [
    "my_list = [[1, 2, 3, 4, 5], [6, 7, 8, 9, 10], [11, 12, 13, 14, 15]]\n",
    "\n",
    "# Convert the list to a NumPy array\n",
    "array2 = np.array(my_list)\n",
    "array2"
   ]
  },
  {
   "cell_type": "code",
   "execution_count": 4,
   "id": "c33e3fd0",
   "metadata": {},
   "outputs": [
    {
     "data": {
      "text/plain": [
       "2"
      ]
     },
     "execution_count": 4,
     "metadata": {},
     "output_type": "execute_result"
    }
   ],
   "source": [
    "# Check dimensions\n",
    "array2.ndim"
   ]
  },
  {
   "cell_type": "code",
   "execution_count": 5,
   "id": "83e4abe8",
   "metadata": {},
   "outputs": [
    {
     "data": {
      "text/plain": [
       "(3, 5)"
      ]
     },
     "execution_count": 5,
     "metadata": {},
     "output_type": "execute_result"
    }
   ],
   "source": [
    "# Check shape\n",
    "array2.shape"
   ]
  },
  {
   "cell_type": "code",
   "execution_count": 6,
   "id": "b6e2db46",
   "metadata": {},
   "outputs": [
    {
     "name": "stdout",
     "output_type": "stream",
     "text": [
      "[ 3  8 13]\n"
     ]
    }
   ],
   "source": [
    "my_list = [[1, 2, 3, 4, 5], [6, 7, 8, 9, 10], [11, 12, 13, 14, 15]]\n",
    "\n",
    "# Convert the list to a NumPy array\n",
    "array2 = np.array(my_list)\n",
    "\n",
    "# Use slicing to access the desired elements\n",
    "sub_array = array2[0, 2], array2[1, 2], array2[2,2]\n",
    "print(np.array(sub_array))"
   ]
  },
  {
   "cell_type": "markdown",
   "id": "5989cb76",
   "metadata": {},
   "source": [
    "## 4.\t\n",
    "\n",
    "#### Create a three-dimension array from the nested list below:\n",
    "\n",
    "#### my_list = [[[1, 2, 3, 4, 5], [6, 7, 8, 9, 10], [11, 12, 13, 14, 15]]]\n",
    "\n",
    "#### Using slicing, write a code that creates a sub list from the array you created. Your code should return an array of 4, 8 and 15.\n"
   ]
  },
  {
   "cell_type": "code",
   "execution_count": 7,
   "id": "ba7d74a5",
   "metadata": {},
   "outputs": [
    {
     "data": {
      "text/plain": [
       "array([ 4,  8, 15])"
      ]
     },
     "execution_count": 7,
     "metadata": {},
     "output_type": "execute_result"
    }
   ],
   "source": [
    "my_list = [[[1, 2, 3, 4, 5], [6, 7, 8, 9, 10], [11, 12, 13, 14, 15]]]\n",
    "\n",
    "# Convert the nested list to a NumPy array\n",
    "array3 = np.array(my_list)\n",
    "\n",
    "# Use slicing to create the sub list\n",
    "sub_list = array3[0,0,3], array3[0,1,2], array3[0,2,4]\n",
    "np.array(sub_list)"
   ]
  }
 ],
 "metadata": {
  "kernelspec": {
   "display_name": "Python 3 (ipykernel)",
   "language": "python",
   "name": "python3"
  },
  "language_info": {
   "codemirror_mode": {
    "name": "ipython",
    "version": 3
   },
   "file_extension": ".py",
   "mimetype": "text/x-python",
   "name": "python",
   "nbconvert_exporter": "python",
   "pygments_lexer": "ipython3",
   "version": "3.10.5"
  }
 },
 "nbformat": 4,
 "nbformat_minor": 5
}
