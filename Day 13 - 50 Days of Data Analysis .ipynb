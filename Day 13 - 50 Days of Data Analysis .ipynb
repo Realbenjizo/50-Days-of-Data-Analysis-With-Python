{
 "cells": [
  {
   "cell_type": "markdown",
   "id": "f164573c",
   "metadata": {},
   "source": [
    "## 1.\t\n",
    "\n",
    "#### Using the data above, create an array and transpose it. The creating of an array and transposition should be combined into one code. The code should return a transposed array."
   ]
  },
  {
   "cell_type": "code",
   "execution_count": 1,
   "id": "f9f14e53",
   "metadata": {},
   "outputs": [
    {
     "data": {
      "text/plain": [
       "array([['John', '21', 'm'],\n",
       "       ['Kelly', '21', 'f'],\n",
       "       ['Jos', '56', 'm'],\n",
       "       ['Peter', '44', 'm'],\n",
       "       ['Robert', '56', 'm'],\n",
       "       ['Piper', '96', 'f']], dtype='<U11')"
      ]
     },
     "execution_count": 1,
     "metadata": {},
     "output_type": "execute_result"
    }
   ],
   "source": [
    "import numpy as np\n",
    "\n",
    "names = [\"John\", \"Kelly\", \"Jos\", \"Peter\", \"Robert\", \"Piper\"]\n",
    "age = [21, 21, 56, 44, 56, 96]\n",
    "gender = ['m', 'f', 'm', 'm', 'm', 'f']\n",
    "\n",
    "# creating an array and transposing\n",
    "array1= np.array([names, age, gender]).transpose()\n",
    "array1"
   ]
  },
  {
   "cell_type": "markdown",
   "id": "8a3a3416",
   "metadata": {},
   "source": [
    "Another way"
   ]
  },
  {
   "cell_type": "code",
   "execution_count": 2,
   "id": "9d35ac80",
   "metadata": {},
   "outputs": [
    {
     "data": {
      "text/plain": [
       "array([['John', '21', 'm'],\n",
       "       ['Kelly', '21', 'f'],\n",
       "       ['Jos', '56', 'm'],\n",
       "       ['Peter', '44', 'm'],\n",
       "       ['Robert', '56', 'm'],\n",
       "       ['Piper', '96', 'f']], dtype='<U11')"
      ]
     },
     "execution_count": 2,
     "metadata": {},
     "output_type": "execute_result"
    }
   ],
   "source": [
    "names = [\"John\", \"Kelly\", \"Jos\", \"Peter\", \"Robert\", \"Piper\"]\n",
    "age = [21, 21, 56, 44, 56, 96]\n",
    "gender = ['m', 'f', 'm', 'm', 'm', 'f']\n",
    "\n",
    "# creating an array and transposing\n",
    "array1= np.array([names, age, gender]).T\n",
    "array1"
   ]
  },
  {
   "cell_type": "markdown",
   "id": "1c50255b",
   "metadata": {},
   "source": [
    "## 2.\t\n",
    "\n",
    "#### Using slicing or indexing, write a code to return the last row of the transposed array (question 1)."
   ]
  },
  {
   "cell_type": "code",
   "execution_count": 3,
   "id": "f802cc63",
   "metadata": {},
   "outputs": [
    {
     "data": {
      "text/plain": [
       "array(['Piper', '96', 'f'], dtype='<U11')"
      ]
     },
     "execution_count": 3,
     "metadata": {},
     "output_type": "execute_result"
    }
   ],
   "source": [
    "# Slicing one row of the array\n",
    "last_row_array = array1[-1]\n",
    "last_row_array"
   ]
  },
  {
   "cell_type": "markdown",
   "id": "a7c3ca28",
   "metadata": {},
   "source": [
    "## 3.\t\n",
    "\n",
    "#### Using slicing or indexing, write a code to return the first two rows of the transposed array (question 1)."
   ]
  },
  {
   "cell_type": "code",
   "execution_count": 4,
   "id": "5d7ec307",
   "metadata": {},
   "outputs": [
    {
     "data": {
      "text/plain": [
       "array([['John', '21', 'm'],\n",
       "       ['Kelly', '21', 'f']], dtype='<U11')"
      ]
     },
     "execution_count": 4,
     "metadata": {},
     "output_type": "execute_result"
    }
   ],
   "source": [
    "# slicing two rows of the array\n",
    "slice_two_rows = array1[:2]\n",
    "slice_two_rows"
   ]
  },
  {
   "cell_type": "markdown",
   "id": "b07796f2",
   "metadata": {},
   "source": [
    "## 4.\t\n",
    "\n",
    "#### Using slicing, write a code that returns the age of Peter. Return Peter’s age as an integer data type."
   ]
  },
  {
   "cell_type": "code",
   "execution_count": 5,
   "id": "0d1f805c",
   "metadata": {},
   "outputs": [
    {
     "name": "stdout",
     "output_type": "stream",
     "text": [
      "Peter is 44 yrs old\n"
     ]
    }
   ],
   "source": [
    "# Accessing Peter's age using slicing\n",
    "peter_age = int(array1[3,1])\n",
    "print(f'Peter is {peter_age} yrs old')"
   ]
  },
  {
   "cell_type": "markdown",
   "id": "9a1eeb86",
   "metadata": {},
   "source": [
    "## 5.\t\n",
    "\n",
    "#### Write code to return an array of Kelly's age and gender using slicing (from transposed array in question 1)."
   ]
  },
  {
   "cell_type": "code",
   "execution_count": 6,
   "id": "ca45772c",
   "metadata": {},
   "outputs": [
    {
     "data": {
      "text/plain": [
       "array(['21', 'f'], dtype='<U11')"
      ]
     },
     "execution_count": 6,
     "metadata": {},
     "output_type": "execute_result"
    }
   ],
   "source": [
    "kelly_age_gender = array1[1, 1:3]\n",
    "kelly_age_gender"
   ]
  },
  {
   "cell_type": "markdown",
   "id": "26481b03",
   "metadata": {},
   "source": [
    "## 6.\t\n",
    "#### One of the uses of slicing is  for Data visualization: Slicing is often used in data visualization to extract specific portions of a dataset for plotting. Write a code to create a subarray of the ages(only ages) in the transposed array using slicing. Using Matplotlib, plot a histogram of the age array. Your graph we should have xlabel, ylabel and a title."
   ]
  },
  {
   "cell_type": "code",
   "execution_count": 7,
   "id": "efd27965",
   "metadata": {},
   "outputs": [
    {
     "data": {
      "text/plain": [
       "array(['21', '21', '56', '44', '56', '96'], dtype='<U11')"
      ]
     },
     "execution_count": 7,
     "metadata": {},
     "output_type": "execute_result"
    }
   ],
   "source": [
    "# Slice age from the array\n",
    "age_array = array1[:,1]\n",
    "age_array"
   ]
  },
  {
   "cell_type": "code",
   "execution_count": 8,
   "id": "aac302d6",
   "metadata": {},
   "outputs": [
    {
     "data": {
      "image/png": "[encoded data removed]",
      "text/plain": [
       "<Figure size 864x576 with 1 Axes>"
      ]
     },
     "metadata": {
      "needs_background": "light"
     },
     "output_type": "display_data"
    }
   ],
   "source": [
    "import matplotlib.pyplot as plt\n",
    "\n",
    "plt.figure(figsize=(12, 8))\n",
    "plt.hist(age_array, rwidth = 2.9, bins= 10)\n",
    "plt.xlabel(\"age\")\n",
    "plt.ylabel(\"Frequency\")\n",
    "plt.title(\"Age Distribution\", fontsize= 20)\n",
    "plt.show()"
   ]
  },
  {
   "cell_type": "code",
   "execution_count": null,
   "id": "9b93e544",
   "metadata": {},
   "outputs": [],
   "source": []
  }
 ],
 "metadata": {
  "kernelspec": {
   "display_name": "Python 3 (ipykernel)",
   "language": "python",
   "name": "python3"
  },
  "language_info": {
   "codemirror_mode": {
    "name": "ipython",
    "version": 3
   },
   "file_extension": ".py",
   "mimetype": "text/x-python",
   "name": "python",
   "nbconvert_exporter": "python",
   "pygments_lexer": "ipython3",
   "version": "3.10.5"
  }
 },
 "nbformat": 4,
 "nbformat_minor": 5
}
