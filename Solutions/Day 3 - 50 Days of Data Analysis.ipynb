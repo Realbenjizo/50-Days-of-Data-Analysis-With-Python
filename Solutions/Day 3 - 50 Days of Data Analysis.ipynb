{
 "cells": [
  {
   "cell_type": "markdown",
   "id": "79c6cf0c",
   "metadata": {},
   "source": [
    "## 1.\t\n",
    "\n",
    "#### Using NumPy create an array of random numbers between 0 and 1. The shape of the array must be (3, 4). Use seed to ensure that the results are reproducible."
   ]
  },
  {
   "cell_type": "code",
   "execution_count": 1,
   "id": "72165647",
   "metadata": {},
   "outputs": [
    {
     "data": {
      "text/plain": [
       "array([[0.77395605, 0.43887844, 0.85859792, 0.69736803],\n",
       "       [0.09417735, 0.97562235, 0.7611397 , 0.78606431],\n",
       "       [0.12811363, 0.45038594, 0.37079802, 0.92676499]])"
      ]
     },
     "execution_count": 1,
     "metadata": {},
     "output_type": "execute_result"
    }
   ],
   "source": [
    "import numpy as np\n",
    "\n",
    "rng = np.random.default_rng(seed = 42)\n",
    "arr = rng.random(size=(3, 4))\n",
    "arr"
   ]
  },
  {
   "cell_type": "markdown",
   "id": "cd7414ba",
   "metadata": {},
   "source": [
    "## 2.\t\n",
    "#### Create an array of random integers between 0 and 10. The shape of the array must (3, 4)."
   ]
  },
  {
   "cell_type": "code",
   "execution_count": 2,
   "id": "2629744d",
   "metadata": {},
   "outputs": [
    {
     "data": {
      "text/plain": [
       "array([[6, 8, 0, 5],\n",
       "       [4, 6, 0, 1],\n",
       "       [1, 8, 5, 8]], dtype=int64)"
      ]
     },
     "execution_count": 2,
     "metadata": {},
     "output_type": "execute_result"
    }
   ],
   "source": [
    "rng = np.random.default_rng()\n",
    "rng.integers(10, size=(3, 4))"
   ]
  },
  {
   "cell_type": "markdown",
   "id": "f5d08c1e",
   "metadata": {},
   "source": [
    "## 3.\t\n",
    "\n",
    "#### Using NumPy, generate an array of 1000 random numbers from a standard normal distribution with mean 0 and variance 1. Create a hist plot with this array. Use seed to ensure the results are reproducible."
   ]
  },
  {
   "cell_type": "code",
   "execution_count": 3,
   "id": "a684e8fe",
   "metadata": {},
   "outputs": [
    {
     "data": {
      "image/png": "[encoded data removed]",
      "text/plain": [
       "<Figure size 432x288 with 1 Axes>"
      ]
     },
     "metadata": {
      "needs_background": "light"
     },
     "output_type": "display_data"
    }
   ],
   "source": [
    "import matplotlib.pyplot as plt\n",
    "\n",
    "# Instantianting a generator and setting seed\n",
    "rng = np.random.default_rng(seed = 42)\n",
    "arr2 = rng.standard_normal(size=(1000))\n",
    "\n",
    "# plotting a hist plot\n",
    "plt.hist(arr2, bins=50)\n",
    "plt.title(\"Standard Normal Distribution\")\n",
    "plt.show()"
   ]
  },
  {
   "cell_type": "markdown",
   "id": "62fb7f12",
   "metadata": {},
   "source": [
    "## 4.\t\n",
    "\n",
    "#### arr = [ \"Orange\", \"Apple\", \"Pear\"]\n",
    "\n",
    "#### Using random.choice() from NumPy, generate an array from the list above. The shape of the array must be (3, 4).\n"
   ]
  },
  {
   "cell_type": "code",
   "execution_count": 4,
   "id": "a0825473",
   "metadata": {},
   "outputs": [
    {
     "data": {
      "text/plain": [
       "array([['Apple', 'Orange', 'Pear', 'Apple'],\n",
       "       ['Pear', 'Apple', 'Orange', 'Apple'],\n",
       "       ['Apple', 'Apple', 'Apple', 'Apple']], dtype='<U6')"
      ]
     },
     "execution_count": 4,
     "metadata": {},
     "output_type": "execute_result"
    }
   ],
   "source": [
    "lst = [\"Orange\", \"Apple\", \"Pear\"]\n",
    "\n",
    "# constructing a random generator\n",
    "rng = np.random.default_rng(seed = 24)\n",
    "\n",
    "arr = rng.choice(lst, size = (3, 4))\n",
    "arr"
   ]
  }
 ],
 "metadata": {
  "kernelspec": {
   "display_name": "Python 3 (ipykernel)",
   "language": "python",
   "name": "python3"
  },
  "language_info": {
   "codemirror_mode": {
    "name": "ipython",
    "version": 3
   },
   "file_extension": ".py",
   "mimetype": "text/x-python",
   "name": "python",
   "nbconvert_exporter": "python",
   "pygments_lexer": "ipython3",
   "version": "3.10.5"
  }
 },
 "nbformat": 4,
 "nbformat_minor": 5
}
