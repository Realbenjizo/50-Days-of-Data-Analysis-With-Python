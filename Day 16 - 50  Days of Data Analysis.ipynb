{
 "cells": [
  {
   "cell_type": "markdown",
   "id": "58c8be9c",
   "metadata": {},
   "source": [
    "## 1. \n",
    "\n",
    "#### Using pandas, create a pandas series with the list above. Write a code to find how many times each item appears in the list."
   ]
  },
  {
   "cell_type": "code",
   "execution_count": 1,
   "id": "6e467f01",
   "metadata": {},
   "outputs": [
    {
     "data": {
      "text/plain": [
       "0     wood\n",
       "1      red\n",
       "2      red\n",
       "3    white\n",
       "4     blue\n",
       "5      red\n",
       "dtype: object"
      ]
     },
     "execution_count": 1,
     "metadata": {},
     "output_type": "execute_result"
    }
   ],
   "source": [
    "import pandas as pd\n",
    "\n",
    "list1 = [\"wood\", \"red\", \"red\", \"white\", \"blue\", \"red\"]\n",
    "\n",
    "# Creating a pandas series\n",
    "colors_series = pd.Series(list1)\n",
    "colors_series"
   ]
  },
  {
   "cell_type": "code",
   "execution_count": 2,
   "id": "83bb332d",
   "metadata": {},
   "outputs": [
    {
     "data": {
      "text/plain": [
       "red      3\n",
       "wood     1\n",
       "white    1\n",
       "blue     1\n",
       "Name: count, dtype: int64"
      ]
     },
     "execution_count": 2,
     "metadata": {},
     "output_type": "execute_result"
    }
   ],
   "source": [
    "colors_series.value_counts()"
   ]
  },
  {
   "cell_type": "markdown",
   "id": "5f058068",
   "metadata": {},
   "source": [
    "## 2. \n",
    "\n",
    "#### Using pandas, write a code to check if red, white, black is in the Series."
   ]
  },
  {
   "cell_type": "code",
   "execution_count": 3,
   "id": "d2fdb2f7",
   "metadata": {},
   "outputs": [
    {
     "data": {
      "text/plain": [
       "0    False\n",
       "1     True\n",
       "2     True\n",
       "3     True\n",
       "4    False\n",
       "5     True\n",
       "dtype: bool"
      ]
     },
     "execution_count": 3,
     "metadata": {},
     "output_type": "execute_result"
    }
   ],
   "source": [
    "colors = [\"red\", \"white\", \"black\"]\n",
    "\n",
    "# Checking if the colors in the list are in series\n",
    "is_in_series = colors_series.isin(colors)\n",
    "is_in_series"
   ]
  },
  {
   "cell_type": "markdown",
   "id": "d82236e8",
   "metadata": {},
   "source": [
    "## 3. \n",
    "\n",
    "#### Using pandas, write a code to return all unique values from the Series."
   ]
  },
  {
   "cell_type": "code",
   "execution_count": 4,
   "id": "6f486353",
   "metadata": {},
   "outputs": [
    {
     "data": {
      "text/plain": [
       "array(['wood', 'red', 'white', 'blue'], dtype=object)"
      ]
     },
     "execution_count": 4,
     "metadata": {},
     "output_type": "execute_result"
    }
   ],
   "source": [
    "# Checking for unique values in Series\n",
    "unique_values = colors_series.unique()\n",
    "unique_values"
   ]
  },
  {
   "cell_type": "markdown",
   "id": "e15472fb",
   "metadata": {},
   "source": [
    "## 4. \n",
    "\n",
    "#### Using pandas update() method, write a code to update the Series you created in question 1. Add colors green and orange to the series. The color green will be at index 0 and orange will be at index 2."
   ]
  },
  {
   "cell_type": "code",
   "execution_count": 5,
   "id": "bc69c8d6",
   "metadata": {},
   "outputs": [
    {
     "data": {
      "text/plain": [
       "0     green\n",
       "1       red\n",
       "2    orange\n",
       "3     white\n",
       "4      blue\n",
       "5       red\n",
       "dtype: object"
      ]
     },
     "execution_count": 5,
     "metadata": {},
     "output_type": "execute_result"
    }
   ],
   "source": [
    "# Create a dictionary of updates\n",
    "updates = {0: \"green\", 2: \"orange\"}\n",
    "\n",
    "# Update the values in the Series\n",
    "colors_series.update(updates)\n",
    "\n",
    "# Print the updated Series\n",
    "colors_series"
   ]
  },
  {
   "cell_type": "markdown",
   "id": "6fc84f63",
   "metadata": {},
   "source": [
    "## 5.\t\n",
    "\n",
    "#### Write a code to check the number of dimensions of your updated Series( question 4). Write another code to convert the Series into a DataFrame. Your DataFrame should have one column of colors. Check the shape and number of dimensions of your DataFrame."
   ]
  },
  {
   "cell_type": "code",
   "execution_count": 6,
   "id": "da5ea869",
   "metadata": {},
   "outputs": [
    {
     "data": {
      "text/plain": [
       "1"
      ]
     },
     "execution_count": 6,
     "metadata": {},
     "output_type": "execute_result"
    }
   ],
   "source": [
    "# Checking for dimensions in the series\n",
    "colors_series.ndim"
   ]
  },
  {
   "cell_type": "code",
   "execution_count": 7,
   "id": "b466d506",
   "metadata": {},
   "outputs": [
    {
     "data": {
      "text/html": [
       "<div>\n",
       "<style scoped>\n",
       "    .dataframe tbody tr th:only-of-type {\n",
       "        vertical-align: middle;\n",
       "    }\n",
       "\n",
       "    .dataframe tbody tr th {\n",
       "        vertical-align: top;\n",
       "    }\n",
       "\n",
       "    .dataframe thead th {\n",
       "        text-align: right;\n",
       "    }\n",
       "</style>\n",
       "<table border=\"1\" class=\"dataframe\">\n",
       "  <thead>\n",
       "    <tr style=\"text-align: right;\">\n",
       "      <th></th>\n",
       "      <th>colors</th>\n",
       "    </tr>\n",
       "  </thead>\n",
       "  <tbody>\n",
       "    <tr>\n",
       "      <th>0</th>\n",
       "      <td>green</td>\n",
       "    </tr>\n",
       "    <tr>\n",
       "      <th>1</th>\n",
       "      <td>red</td>\n",
       "    </tr>\n",
       "    <tr>\n",
       "      <th>2</th>\n",
       "      <td>orange</td>\n",
       "    </tr>\n",
       "    <tr>\n",
       "      <th>3</th>\n",
       "      <td>white</td>\n",
       "    </tr>\n",
       "    <tr>\n",
       "      <th>4</th>\n",
       "      <td>blue</td>\n",
       "    </tr>\n",
       "    <tr>\n",
       "      <th>5</th>\n",
       "      <td>red</td>\n",
       "    </tr>\n",
       "  </tbody>\n",
       "</table>\n",
       "</div>"
      ],
      "text/plain": [
       "   colors\n",
       "0   green\n",
       "1     red\n",
       "2  orange\n",
       "3   white\n",
       "4    blue\n",
       "5     red"
      ]
     },
     "execution_count": 7,
     "metadata": {},
     "output_type": "execute_result"
    }
   ],
   "source": [
    "d_frame_colors= colors_series.to_frame(\"colors\")\n",
    "d_frame_colors"
   ]
  },
  {
   "cell_type": "code",
   "execution_count": 8,
   "id": "136ede3f",
   "metadata": {},
   "outputs": [
    {
     "data": {
      "text/plain": [
       "2"
      ]
     },
     "execution_count": 8,
     "metadata": {},
     "output_type": "execute_result"
    }
   ],
   "source": [
    "# Checking for dimensions in the DataFrame\n",
    "d_frame_colors.ndim"
   ]
  },
  {
   "cell_type": "code",
   "execution_count": 9,
   "id": "160a0a15",
   "metadata": {},
   "outputs": [
    {
     "data": {
      "text/plain": [
       "(6, 1)"
      ]
     },
     "execution_count": 9,
     "metadata": {},
     "output_type": "execute_result"
    }
   ],
   "source": [
    "# Checking the shape of the DataFrame\n",
    "d_frame_colors.shape"
   ]
  }
 ],
 "metadata": {
  "kernelspec": {
   "display_name": "Python 3 (ipykernel)",
   "language": "python",
   "name": "python3"
  },
  "language_info": {
   "codemirror_mode": {
    "name": "ipython",
    "version": 3
   },
   "file_extension": ".py",
   "mimetype": "text/x-python",
   "name": "python",
   "nbconvert_exporter": "python",
   "pygments_lexer": "ipython3",
   "version": "3.10.5"
  }
 },
 "nbformat": 4,
 "nbformat_minor": 5
}
