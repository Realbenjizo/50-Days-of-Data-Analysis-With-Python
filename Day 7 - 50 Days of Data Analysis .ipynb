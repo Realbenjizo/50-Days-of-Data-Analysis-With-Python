{
 "cells": [
  {
   "cell_type": "markdown",
   "id": "3c4956cf",
   "metadata": {},
   "source": [
    "## 1.\t\n",
    "\n",
    "#### Using the arange function, create an array of numbers between 0 - 10. The shape of the array must be (2, 5)."
   ]
  },
  {
   "cell_type": "code",
   "execution_count": 1,
   "id": "4fdc6b71",
   "metadata": {},
   "outputs": [
    {
     "data": {
      "text/plain": [
       "array([[0, 1, 2, 3, 4],\n",
       "       [5, 6, 7, 8, 9]])"
      ]
     },
     "execution_count": 1,
     "metadata": {},
     "output_type": "execute_result"
    }
   ],
   "source": [
    "import numpy as np\n",
    "\n",
    "array1 = np.arange(0, 10).reshape(2, 5)\n",
    "array1"
   ]
  },
  {
   "cell_type": "markdown",
   "id": "e84f584d",
   "metadata": {},
   "source": [
    "## 2.\t\n",
    "\n",
    "#### Write a code to change the shape of the array (question 1) to (5, 2).  Create a new variable for this array. Now, add this array to the original array in question 1. The resulting array should have shape (2, 5). Save this to a variable."
   ]
  },
  {
   "cell_type": "code",
   "execution_count": 2,
   "id": "a5b2e5ac",
   "metadata": {},
   "outputs": [
    {
     "data": {
      "text/plain": [
       "array([[0, 1],\n",
       "       [2, 3],\n",
       "       [4, 5],\n",
       "       [6, 7],\n",
       "       [8, 9]])"
      ]
     },
     "execution_count": 2,
     "metadata": {},
     "output_type": "execute_result"
    }
   ],
   "source": [
    "# Reshaping array using the shape method\n",
    "array2 = array1.reshape(5, 2)\n",
    "array2"
   ]
  },
  {
   "cell_type": "code",
   "execution_count": 3,
   "id": "4b71a7de",
   "metadata": {},
   "outputs": [
    {
     "data": {
      "text/plain": [
       "array([[ 0,  3,  6,  9, 12],\n",
       "       [ 6,  9, 12, 15, 18]])"
      ]
     },
     "execution_count": 3,
     "metadata": {},
     "output_type": "execute_result"
    }
   ],
   "source": [
    "# Transposing and adding the two arrays\n",
    "array3 = array2.transpose() + array1\n",
    "array3"
   ]
  },
  {
   "cell_type": "markdown",
   "id": "5b2435dc",
   "metadata": {},
   "source": [
    "## 3.\t\n",
    "\n",
    "#### Swap the indexes of the array (question 2) using swapaxis() method. Create a new variable for the swapped array."
   ]
  },
  {
   "cell_type": "code",
   "execution_count": 4,
   "id": "21a7eae2",
   "metadata": {},
   "outputs": [
    {
     "data": {
      "text/plain": [
       "array([[ 0,  6],\n",
       "       [ 3,  9],\n",
       "       [ 6, 12],\n",
       "       [ 9, 15],\n",
       "       [12, 18]])"
      ]
     },
     "execution_count": 4,
     "metadata": {},
     "output_type": "execute_result"
    }
   ],
   "source": [
    "swapped_array = np.swapaxes(array3, 0, 1)\n",
    "swapped_array"
   ]
  },
  {
   "cell_type": "markdown",
   "id": "f1b1098f",
   "metadata": {},
   "source": [
    "## 4.\t\n",
    "\n",
    "#### Write a code to slice row 1 from the swapped array in question 3."
   ]
  },
  {
   "cell_type": "code",
   "execution_count": 5,
   "id": "746ade4b",
   "metadata": {},
   "outputs": [
    {
     "data": {
      "text/plain": [
       "array([0, 6])"
      ]
     },
     "execution_count": 5,
     "metadata": {},
     "output_type": "execute_result"
    }
   ],
   "source": [
    "row_1 = swapped_array[0, :]\n",
    "row_1"
   ]
  },
  {
   "cell_type": "markdown",
   "id": "034bbcc8",
   "metadata": {},
   "source": [
    "## 5.\n",
    "\n",
    "#### Each row in the \"goals\" list represent the goals scored by the each player in the last 5 seasons. For example Robin’s goals are [12, 15, 16, 15, 13] and plays for \"Man UTD\" and Leo are [26, 30, 31, 25, 24] and plays for \"Barca\" .Using NumPy, seaborn and matplotlib create a heatmap of the goals, and calculate the gradient of the data. Annot your heatmap. The xticks will be the names of the players and the yticks will be the team of the players"
   ]
  },
  {
   "cell_type": "code",
   "execution_count": 6,
   "id": "a3a81289",
   "metadata": {},
   "outputs": [
    {
     "data": {
      "image/png": "[encoded data removed]",
      "text/plain": [
       "<Figure size 864x576 with 2 Axes>"
      ]
     },
     "metadata": {
      "needs_background": "light"
     },
     "output_type": "display_data"
    }
   ],
   "source": [
    "import seaborn as sns\n",
    "import matplotlib.pyplot as plt\n",
    "\n",
    "\n",
    "players = [\"Robin\", \"Leo\", \"Pogba\", \"Diego\", \"Ronaldo\"]\n",
    "teams =[\"Man UTD\", \"Barca\", \"Juve\", \"Napo\", \"RMadrid\"]\n",
    "\n",
    "goals =[[12, 15, 16, 15, 13],\n",
    "        [26, 30, 31, 25, 24], \n",
    "        [10, 12, 8, 6, 13],\n",
    "        [18, 19, 17, 20, 21], \n",
    "        [21, 32, 25, 21, 22]\n",
    "       ]\n",
    "\n",
    "# Creating array from list of goals\n",
    "array1 = np.array(goals)\n",
    "\n",
    "fig, ax = plt.subplots(figsize=(12,8))\n",
    "sns.heatmap(array1, annot= True)\n",
    "ax.set_xticks(np.arange(len(players)), labels=players)\n",
    "ax.set_yticks(np.arange(len(teams)), labels=teams)\n",
    "plt.title(\"Player Analysis Heatmap\", fontsize=20)\n",
    "plt.show()"
   ]
  },
  {
   "cell_type": "code",
   "execution_count": null,
   "id": "7b2bd6ed",
   "metadata": {},
   "outputs": [],
   "source": []
  }
 ],
 "metadata": {
  "kernelspec": {
   "display_name": "Python 3 (ipykernel)",
   "language": "python",
   "name": "python3"
  },
  "language_info": {
   "codemirror_mode": {
    "name": "ipython",
    "version": 3
   },
   "file_extension": ".py",
   "mimetype": "text/x-python",
   "name": "python",
   "nbconvert_exporter": "python",
   "pygments_lexer": "ipython3",
   "version": "3.10.5"
  }
 },
 "nbformat": 4,
 "nbformat_minor": 5
}
