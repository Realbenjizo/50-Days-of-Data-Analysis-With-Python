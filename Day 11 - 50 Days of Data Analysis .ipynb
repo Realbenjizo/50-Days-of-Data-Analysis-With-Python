{
 "cells": [
  {
   "cell_type": "markdown",
   "id": "5228e890",
   "metadata": {},
   "source": [
    "## 1. \n",
    "\n",
    "#### Using NumPy, create an array using the list above. Write a code to check how many non-numeric elements are in the list."
   ]
  },
  {
   "cell_type": "code",
   "execution_count": 1,
   "id": "cce9b35c",
   "metadata": {},
   "outputs": [
    {
     "data": {
      "text/plain": [
       "2"
      ]
     },
     "execution_count": 1,
     "metadata": {},
     "output_type": "execute_result"
    }
   ],
   "source": [
    "import numpy as np\n",
    "\n",
    "list1 = [\"34\", \"name\", \"45\", \"is\", \"100\"]\n",
    "\n",
    "# Creating an array\n",
    "arr = np.array(list1)\n",
    "\n",
    "non_numeric = list(filter(lambda x: not np.char.isnumeric(x), arr))\n",
    "len(non_numeric)"
   ]
  },
  {
   "cell_type": "markdown",
   "id": "cc9f315e",
   "metadata": {},
   "source": [
    "## 2.\t\n",
    "#### Using NumPy, write a code to sum all the numeric elements in the list."
   ]
  },
  {
   "cell_type": "code",
   "execution_count": 2,
   "id": "2b71ff16",
   "metadata": {},
   "outputs": [
    {
     "data": {
      "text/plain": [
       "179"
      ]
     },
     "execution_count": 2,
     "metadata": {},
     "output_type": "execute_result"
    }
   ],
   "source": [
    "arr = np.array(list1)\n",
    "\n",
    "# Access the numeric items from the arr array\n",
    "numeric_list = list((filter(lambda x: np.char.isnumeric(x), arr)))\n",
    "\n",
    "# Convert the numeric items to integers\n",
    "numeric_sum =np.array([int(i) for i in numeric_list]).sum()\n",
    "numeric_sum"
   ]
  },
  {
   "cell_type": "markdown",
   "id": "8908ee7a",
   "metadata": {},
   "source": [
    "## 3.\t\n",
    "\n",
    "#### Using NumPy, write a code to square all the numeric elements in the array you created in question 1. Return an array of squared elements."
   ]
  },
  {
   "cell_type": "code",
   "execution_count": 3,
   "id": "34b326ff",
   "metadata": {},
   "outputs": [
    {
     "data": {
      "text/plain": [
       "array([ 1156,  2025, 10000])"
      ]
     },
     "execution_count": 3,
     "metadata": {},
     "output_type": "execute_result"
    }
   ],
   "source": [
    "arr = np.array(list1)\n",
    "\n",
    "# Access the numeric items from the arr\n",
    "numeric_list = list(filter(lambda x: np.char.isnumeric(x), arr))\n",
    "\n",
    "# Convert the numeric items to integers\n",
    "numeric_list =np.array([int(i)**2 for i in numeric_list])\n",
    "numeric_list"
   ]
  },
  {
   "cell_type": "markdown",
   "id": "99c116e0",
   "metadata": {},
   "source": [
    "## 4.\n",
    "#### Using NumPy, create an array using the lists below. To visualize the correlation between attendance and final exam score, create a scatter plot using matplotlib. Make the final_ exam_score the x-axis and the attendance the y-axis of your scatter plot. Use the NumPy array you just created as the source of your data. Can you spot any outliers?"
   ]
  },
  {
   "cell_type": "code",
   "execution_count": 4,
   "id": "9546ffd3",
   "metadata": {},
   "outputs": [
    {
     "data": {
      "text/plain": [
       "array([[  1,   2,   3,   4,   5,   6,   7,   8,   9,  10],\n",
       "       [ 85,  92,  70,  95,  80,  60,  90,  75,  65, 100],\n",
       "       [ 80,  89,  65,  56,  66,  50,  85,  70,  55, 100]])"
      ]
     },
     "execution_count": 4,
     "metadata": {},
     "output_type": "execute_result"
    }
   ],
   "source": [
    "student_id = [1, 2, 3, 4, 5, 6, 7, 8, 9, 10]\n",
    "attendance = [85, 92, 70, 95, 80, 60, 90, 75, 65, 100]\n",
    "final_exam_score = [80, 89, 65, 56, 66, 50, 85, 70, 55, 100]\n",
    "\n",
    "arr = np.array([student_id, attendance, final_exam_score])\n",
    "arr"
   ]
  },
  {
   "cell_type": "code",
   "execution_count": 5,
   "id": "a3044aca",
   "metadata": {},
   "outputs": [
    {
     "data": {
      "image/png": "[encoded data removed]",
      "text/plain": [
       "<Figure size 864x576 with 1 Axes>"
      ]
     },
     "metadata": {
      "needs_background": "light"
     },
     "output_type": "display_data"
    }
   ],
   "source": [
    "import matplotlib.pyplot as plt\n",
    "\n",
    "\n",
    "plt.figure(figsize=(12, 8))\n",
    "# Using slicing to get x-axis and y-axis data\n",
    "plt.scatter(arr[2:3,0:], arr[1:2,0:])\n",
    "plt.xlabel(\"Final Exam Score\")\n",
    "plt.ylabel(\"Attendance Record\")\n",
    "plt.title(\"Attendance and Final Score Analysis\", fontsize=20)\n",
    "plt.show()"
   ]
  }
 ],
 "metadata": {
  "kernelspec": {
   "display_name": "Python 3 (ipykernel)",
   "language": "python",
   "name": "python3"
  },
  "language_info": {
   "codemirror_mode": {
    "name": "ipython",
    "version": 3
   },
   "file_extension": ".py",
   "mimetype": "text/x-python",
   "name": "python",
   "nbconvert_exporter": "python",
   "pygments_lexer": "ipython3",
   "version": "3.10.5"
  }
 },
 "nbformat": 4,
 "nbformat_minor": 5
}
