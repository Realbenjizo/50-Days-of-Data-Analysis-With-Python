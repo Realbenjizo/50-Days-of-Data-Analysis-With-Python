{
 "cells": [
  {
   "cell_type": "markdown",
   "id": "06c42c1f",
   "metadata": {},
   "source": [
    "## 1. \n",
    "\n",
    "#### import the JSON file using Pandas. View the last 5 rows of the DataFrame."
   ]
  },
  {
   "cell_type": "code",
   "execution_count": 1,
   "id": "4393d0af",
   "metadata": {},
   "outputs": [
    {
     "data": {
      "text/html": [
       "<div>\n",
       "<style scoped>\n",
       "    .dataframe tbody tr th:only-of-type {\n",
       "        vertical-align: middle;\n",
       "    }\n",
       "\n",
       "    .dataframe tbody tr th {\n",
       "        vertical-align: top;\n",
       "    }\n",
       "\n",
       "    .dataframe thead th {\n",
       "        text-align: right;\n",
       "    }\n",
       "</style>\n",
       "<table border=\"1\" class=\"dataframe\">\n",
       "  <thead>\n",
       "    <tr style=\"text-align: right;\">\n",
       "      <th></th>\n",
       "      <th>date</th>\n",
       "      <th>products</th>\n",
       "      <th>sales</th>\n",
       "      <th>costs</th>\n",
       "    </tr>\n",
       "  </thead>\n",
       "  <tbody>\n",
       "    <tr>\n",
       "      <th>3</th>\n",
       "      <td>2021-11-07</td>\n",
       "      <td>cars</td>\n",
       "      <td>15900</td>\n",
       "      <td>10910</td>\n",
       "    </tr>\n",
       "    <tr>\n",
       "      <th>4</th>\n",
       "      <td>2021-12-06</td>\n",
       "      <td>boats</td>\n",
       "      <td>12087</td>\n",
       "      <td>7087</td>\n",
       "    </tr>\n",
       "    <tr>\n",
       "      <th>5</th>\n",
       "      <td>2021-12-09</td>\n",
       "      <td>cars</td>\n",
       "      <td>56897</td>\n",
       "      <td>40447</td>\n",
       "    </tr>\n",
       "    <tr>\n",
       "      <th>6</th>\n",
       "      <td>2021-11-10</td>\n",
       "      <td>cars</td>\n",
       "      <td>11879</td>\n",
       "      <td>5879</td>\n",
       "    </tr>\n",
       "    <tr>\n",
       "      <th>7</th>\n",
       "      <td>2021-12-06</td>\n",
       "      <td>houses</td>\n",
       "      <td>19345</td>\n",
       "      <td>13451</td>\n",
       "    </tr>\n",
       "  </tbody>\n",
       "</table>\n",
       "</div>"
      ],
      "text/plain": [
       "        date products  sales  costs\n",
       "3 2021-11-07     cars  15900  10910\n",
       "4 2021-12-06    boats  12087   7087\n",
       "5 2021-12-09     cars  56897  40447\n",
       "6 2021-11-10     cars  11879   5879\n",
       "7 2021-12-06   houses  19345  13451"
      ]
     },
     "execution_count": 1,
     "metadata": {},
     "output_type": "execute_result"
    }
   ],
   "source": [
    "import pandas as pd\n",
    "\n",
    "df = pd.read_json(\"asset_data_analysis.json\", orient= \"split\")\n",
    "df.tail()"
   ]
  },
  {
   "cell_type": "markdown",
   "id": "a4050e7f",
   "metadata": {},
   "source": [
    "## 2. \n",
    "\n",
    "#### Using pandas, create a copy of the DataFrame and convert the date column into a pandas datetime format. Set the date as the index of the DataFrame. The date column should not be deleted when it is set as an index."
   ]
  },
  {
   "cell_type": "code",
   "execution_count": 2,
   "id": "c711d443",
   "metadata": {},
   "outputs": [
    {
     "data": {
      "text/html": [
       "<div>\n",
       "<style scoped>\n",
       "    .dataframe tbody tr th:only-of-type {\n",
       "        vertical-align: middle;\n",
       "    }\n",
       "\n",
       "    .dataframe tbody tr th {\n",
       "        vertical-align: top;\n",
       "    }\n",
       "\n",
       "    .dataframe thead th {\n",
       "        text-align: right;\n",
       "    }\n",
       "</style>\n",
       "<table border=\"1\" class=\"dataframe\">\n",
       "  <thead>\n",
       "    <tr style=\"text-align: right;\">\n",
       "      <th></th>\n",
       "      <th>date</th>\n",
       "      <th>products</th>\n",
       "      <th>sales</th>\n",
       "      <th>costs</th>\n",
       "    </tr>\n",
       "    <tr>\n",
       "      <th>date</th>\n",
       "      <th></th>\n",
       "      <th></th>\n",
       "      <th></th>\n",
       "      <th></th>\n",
       "    </tr>\n",
       "  </thead>\n",
       "  <tbody>\n",
       "    <tr>\n",
       "      <th>2021-11-20</th>\n",
       "      <td>2021-11-20</td>\n",
       "      <td>cars</td>\n",
       "      <td>19234</td>\n",
       "      <td>12340</td>\n",
       "    </tr>\n",
       "    <tr>\n",
       "      <th>2021-12-12</th>\n",
       "      <td>2021-12-12</td>\n",
       "      <td>boats</td>\n",
       "      <td>87598</td>\n",
       "      <td>67568</td>\n",
       "    </tr>\n",
       "    <tr>\n",
       "      <th>2021-12-06</th>\n",
       "      <td>2021-12-06</td>\n",
       "      <td>houses</td>\n",
       "      <td>20989</td>\n",
       "      <td>11999</td>\n",
       "    </tr>\n",
       "    <tr>\n",
       "      <th>2021-11-07</th>\n",
       "      <td>2021-11-07</td>\n",
       "      <td>cars</td>\n",
       "      <td>15900</td>\n",
       "      <td>10910</td>\n",
       "    </tr>\n",
       "    <tr>\n",
       "      <th>2021-12-06</th>\n",
       "      <td>2021-12-06</td>\n",
       "      <td>boats</td>\n",
       "      <td>12087</td>\n",
       "      <td>7087</td>\n",
       "    </tr>\n",
       "  </tbody>\n",
       "</table>\n",
       "</div>"
      ],
      "text/plain": [
       "                 date products  sales  costs\n",
       "date                                        \n",
       "2021-11-20 2021-11-20     cars  19234  12340\n",
       "2021-12-12 2021-12-12    boats  87598  67568\n",
       "2021-12-06 2021-12-06   houses  20989  11999\n",
       "2021-11-07 2021-11-07     cars  15900  10910\n",
       "2021-12-06 2021-12-06    boats  12087   7087"
      ]
     },
     "execution_count": 2,
     "metadata": {},
     "output_type": "execute_result"
    }
   ],
   "source": [
    "# Creating a copy of the DataFrame\n",
    "df_copy = df.copy()\n",
    "\n",
    "# Setting date as index\n",
    "df_copy['date'] = pd.to_datetime(df_copy['date'])\n",
    "df_copy = df.set_index('date', drop=False)\n",
    "df_copy.head()"
   ]
  },
  {
   "cell_type": "markdown",
   "id": "54353911",
   "metadata": {},
   "source": [
    "## 3. \n",
    "\n",
    "#### Using Matplotlib, create a line trend plot of sales and date."
   ]
  },
  {
   "cell_type": "code",
   "execution_count": 3,
   "id": "3698e73c",
   "metadata": {},
   "outputs": [
    {
     "data": {
      "image/png": "[encoded data removed]",
      "text/plain": [
       "<Figure size 864x576 with 1 Axes>"
      ]
     },
     "metadata": {
      "needs_background": "light"
     },
     "output_type": "display_data"
    }
   ],
   "source": [
    "import matplotlib.pyplot as plt\n",
    "\n",
    "# Grouping by the index(date)\n",
    "df_grouped = df_copy.groupby(df_copy.index).sum(numeric_only=True)\n",
    "\n",
    "plt.figure(figsize=(12, 8))\n",
    "plt.plot(df_grouped.index, df_grouped.sales)\n",
    "plt.xlabel('date')\n",
    "plt.xticks(rotation = 60)\n",
    "plt.ylabel('sales')\n",
    "plt.title(\"Sales Trend\", fontsize=20)\n",
    "plt.show()"
   ]
  },
  {
   "cell_type": "markdown",
   "id": "a47ce286",
   "metadata": {},
   "source": [
    "## 4. \n",
    "\n",
    "#### Using the original DataFrame (question 1), write another code to set a hierarchical index, with the date column as the outer index and the products column as the inner index. Save this to a new variable."
   ]
  },
  {
   "cell_type": "code",
   "execution_count": 4,
   "id": "35dc7ffc",
   "metadata": {},
   "outputs": [
    {
     "data": {
      "text/html": [
       "<div>\n",
       "<style scoped>\n",
       "    .dataframe tbody tr th:only-of-type {\n",
       "        vertical-align: middle;\n",
       "    }\n",
       "\n",
       "    .dataframe tbody tr th {\n",
       "        vertical-align: top;\n",
       "    }\n",
       "\n",
       "    .dataframe thead th {\n",
       "        text-align: right;\n",
       "    }\n",
       "</style>\n",
       "<table border=\"1\" class=\"dataframe\">\n",
       "  <thead>\n",
       "    <tr style=\"text-align: right;\">\n",
       "      <th></th>\n",
       "      <th></th>\n",
       "      <th>sales</th>\n",
       "      <th>costs</th>\n",
       "    </tr>\n",
       "    <tr>\n",
       "      <th>date</th>\n",
       "      <th>products</th>\n",
       "      <th></th>\n",
       "      <th></th>\n",
       "    </tr>\n",
       "  </thead>\n",
       "  <tbody>\n",
       "    <tr>\n",
       "      <th>2021-11-20</th>\n",
       "      <th>cars</th>\n",
       "      <td>19234</td>\n",
       "      <td>12340</td>\n",
       "    </tr>\n",
       "    <tr>\n",
       "      <th>2021-12-12</th>\n",
       "      <th>boats</th>\n",
       "      <td>87598</td>\n",
       "      <td>67568</td>\n",
       "    </tr>\n",
       "    <tr>\n",
       "      <th>2021-12-06</th>\n",
       "      <th>houses</th>\n",
       "      <td>20989</td>\n",
       "      <td>11999</td>\n",
       "    </tr>\n",
       "    <tr>\n",
       "      <th>2021-11-07</th>\n",
       "      <th>cars</th>\n",
       "      <td>15900</td>\n",
       "      <td>10910</td>\n",
       "    </tr>\n",
       "    <tr>\n",
       "      <th>2021-12-06</th>\n",
       "      <th>boats</th>\n",
       "      <td>12087</td>\n",
       "      <td>7087</td>\n",
       "    </tr>\n",
       "    <tr>\n",
       "      <th>2021-12-09</th>\n",
       "      <th>cars</th>\n",
       "      <td>56897</td>\n",
       "      <td>40447</td>\n",
       "    </tr>\n",
       "    <tr>\n",
       "      <th>2021-11-10</th>\n",
       "      <th>cars</th>\n",
       "      <td>11879</td>\n",
       "      <td>5879</td>\n",
       "    </tr>\n",
       "    <tr>\n",
       "      <th>2021-12-06</th>\n",
       "      <th>houses</th>\n",
       "      <td>19345</td>\n",
       "      <td>13451</td>\n",
       "    </tr>\n",
       "  </tbody>\n",
       "</table>\n",
       "</div>"
      ],
      "text/plain": [
       "                     sales  costs\n",
       "date       products              \n",
       "2021-11-20 cars      19234  12340\n",
       "2021-12-12 boats     87598  67568\n",
       "2021-12-06 houses    20989  11999\n",
       "2021-11-07 cars      15900  10910\n",
       "2021-12-06 boats     12087   7087\n",
       "2021-12-09 cars      56897  40447\n",
       "2021-11-10 cars      11879   5879\n",
       "2021-12-06 houses    19345  13451"
      ]
     },
     "execution_count": 4,
     "metadata": {},
     "output_type": "execute_result"
    }
   ],
   "source": [
    "# Setting hierarchical index\n",
    "df2 = df.set_index(['date', \"products\"])\n",
    "df2"
   ]
  },
  {
   "cell_type": "markdown",
   "id": "f013f51d",
   "metadata": {},
   "source": [
    "## 5. \n",
    "\n",
    "#### One of the benefits of setting a multiIndexing is that it makes it easy to filter data. Using the hierarchical index you set in question 4, calculate the profit of \"Houses\" on the 12 -o6- 2021."
   ]
  },
  {
   "cell_type": "code",
   "execution_count": 5,
   "id": "a3b11285",
   "metadata": {},
   "outputs": [
    {
     "name": "stdout",
     "output_type": "stream",
     "text": [
      "Profit on houses on the 12th of June is  14884\n"
     ]
    }
   ],
   "source": [
    "# Using multi-indexing to filter sales\n",
    "sales_on_12 = df2.loc[( [\"12-6-2021\"], \"houses\"), \"sales\"].sum()\n",
    "\n",
    "# Using multi-indexing to filter costs\n",
    "costs_on_12 = df2.loc[( [\"12-6-2021\"], \"houses\"), \"costs\"].sum()\n",
    "\n",
    "# Calculating the difference between costs and sales\n",
    "profit_on_12 = sales_on_12 - costs_on_12\n",
    "print('Profit on houses on the 12th of June is ', profit_on_12)"
   ]
  },
  {
   "cell_type": "markdown",
   "id": "22fadefd",
   "metadata": {},
   "source": [
    "## 6\n",
    "\n",
    "#### Use the apply() function to apply a thousand separator to the sales and cost column."
   ]
  },
  {
   "cell_type": "code",
   "execution_count": 6,
   "id": "7801f21b",
   "metadata": {},
   "outputs": [
    {
     "data": {
      "text/html": [
       "<div>\n",
       "<style scoped>\n",
       "    .dataframe tbody tr th:only-of-type {\n",
       "        vertical-align: middle;\n",
       "    }\n",
       "\n",
       "    .dataframe tbody tr th {\n",
       "        vertical-align: top;\n",
       "    }\n",
       "\n",
       "    .dataframe thead th {\n",
       "        text-align: right;\n",
       "    }\n",
       "</style>\n",
       "<table border=\"1\" class=\"dataframe\">\n",
       "  <thead>\n",
       "    <tr style=\"text-align: right;\">\n",
       "      <th></th>\n",
       "      <th></th>\n",
       "      <th>sales</th>\n",
       "      <th>costs</th>\n",
       "    </tr>\n",
       "    <tr>\n",
       "      <th>date</th>\n",
       "      <th>products</th>\n",
       "      <th></th>\n",
       "      <th></th>\n",
       "    </tr>\n",
       "  </thead>\n",
       "  <tbody>\n",
       "    <tr>\n",
       "      <th>2021-11-20</th>\n",
       "      <th>cars</th>\n",
       "      <td>19,234</td>\n",
       "      <td>12,340</td>\n",
       "    </tr>\n",
       "    <tr>\n",
       "      <th>2021-12-12</th>\n",
       "      <th>boats</th>\n",
       "      <td>87,598</td>\n",
       "      <td>67,568</td>\n",
       "    </tr>\n",
       "    <tr>\n",
       "      <th>2021-12-06</th>\n",
       "      <th>houses</th>\n",
       "      <td>20,989</td>\n",
       "      <td>11,999</td>\n",
       "    </tr>\n",
       "    <tr>\n",
       "      <th>2021-11-07</th>\n",
       "      <th>cars</th>\n",
       "      <td>15,900</td>\n",
       "      <td>10,910</td>\n",
       "    </tr>\n",
       "    <tr>\n",
       "      <th>2021-12-06</th>\n",
       "      <th>boats</th>\n",
       "      <td>12,087</td>\n",
       "      <td>7,087</td>\n",
       "    </tr>\n",
       "    <tr>\n",
       "      <th>2021-12-09</th>\n",
       "      <th>cars</th>\n",
       "      <td>56,897</td>\n",
       "      <td>40,447</td>\n",
       "    </tr>\n",
       "    <tr>\n",
       "      <th>2021-11-10</th>\n",
       "      <th>cars</th>\n",
       "      <td>11,879</td>\n",
       "      <td>5,879</td>\n",
       "    </tr>\n",
       "    <tr>\n",
       "      <th>2021-12-06</th>\n",
       "      <th>houses</th>\n",
       "      <td>19,345</td>\n",
       "      <td>13,451</td>\n",
       "    </tr>\n",
       "  </tbody>\n",
       "</table>\n",
       "</div>"
      ],
      "text/plain": [
       "                      sales   costs\n",
       "date       products                \n",
       "2021-11-20 cars      19,234  12,340\n",
       "2021-12-12 boats     87,598  67,568\n",
       "2021-12-06 houses    20,989  11,999\n",
       "2021-11-07 cars      15,900  10,910\n",
       "2021-12-06 boats     12,087   7,087\n",
       "2021-12-09 cars      56,897  40,447\n",
       "2021-11-10 cars      11,879   5,879\n",
       "2021-12-06 houses    19,345  13,451"
      ]
     },
     "execution_count": 6,
     "metadata": {},
     "output_type": "execute_result"
    }
   ],
   "source": [
    "def thousand_separator(df, sales, costs):\n",
    "    df[sales] = df[sales].apply(lambda x: '{:,}'.format(x))\n",
    "    df[costs] = df[costs].apply(lambda x: '{:,}'.format(x))\n",
    "    return df2\n",
    "\n",
    "thousand_separator(df2, \"sales\", \"costs\")"
   ]
  },
  {
   "cell_type": "code",
   "execution_count": 7,
   "id": "e1dcea5d",
   "metadata": {},
   "outputs": [
    {
     "data": {
      "text/plain": [
       "products\n",
       "cars      4\n",
       "boats     2\n",
       "houses    2\n",
       "dtype: int64"
      ]
     },
     "execution_count": 7,
     "metadata": {},
     "output_type": "execute_result"
    }
   ],
   "source": [
    "df3 = df2.groupby(['products']).size().sort_values(ascending=False)\n",
    "df3"
   ]
  },
  {
   "cell_type": "code",
   "execution_count": 8,
   "id": "ccd92bb8",
   "metadata": {},
   "outputs": [
    {
     "data": {
      "text/plain": [
       "('cars', 4)"
      ]
     },
     "execution_count": 8,
     "metadata": {},
     "output_type": "execute_result"
    }
   ],
   "source": [
    "# Returning the product that appears the most\n",
    "df3.index[0], df3[0]"
   ]
  }
 ],
 "metadata": {
  "kernelspec": {
   "display_name": "Python 3 (ipykernel)",
   "language": "python",
   "name": "python3"
  },
  "language_info": {
   "codemirror_mode": {
    "name": "ipython",
    "version": 3
   },
   "file_extension": ".py",
   "mimetype": "text/x-python",
   "name": "python",
   "nbconvert_exporter": "python",
   "pygments_lexer": "ipython3",
   "version": "3.10.5"
  }
 },
 "nbformat": 4,
 "nbformat_minor": 5
}
