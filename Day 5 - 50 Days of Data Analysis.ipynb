{
 "cells": [
  {
   "cell_type": "markdown",
   "id": "4c3223e4",
   "metadata": {},
   "source": [
    "## 1.\n",
    "\n",
    "#### list_numbers = [[12, 23, -45], [18, -77, -44]]\n",
    "\n",
    "#### Using NumPy create an array from the list. Write a code to return all the negative numbers in the list.\n"
   ]
  },
  {
   "cell_type": "code",
   "execution_count": 1,
   "id": "44215dc4",
   "metadata": {},
   "outputs": [
    {
     "name": "stdout",
     "output_type": "stream",
     "text": [
      "[-45 -77 -44]\n"
     ]
    }
   ],
   "source": [
    "import numpy as np\n",
    "\n",
    "list_numbers = [[12, 23, -45], [18, -77, -44]]\n",
    "\n",
    "# Creating an array\n",
    "arr = np.array(list_numbers)\n",
    "\n",
    "# Using where function to find indexes of negative numbers\n",
    "negatives = np.where(arr < 0)\n",
    "print(arr[negatives])"
   ]
  },
  {
   "cell_type": "markdown",
   "id": "3ef574f3",
   "metadata": {},
   "source": [
    "## 2.\n",
    "\n",
    "#### Using NumPy, write a code to multiply each of the  element in the array you created in question 1 by 2. Create a new variable for this array."
   ]
  },
  {
   "cell_type": "code",
   "execution_count": 2,
   "id": "d60e7400",
   "metadata": {},
   "outputs": [
    {
     "data": {
      "text/plain": [
       "array([[  24,   46,  -90],\n",
       "       [  36, -154,  -88]])"
      ]
     },
     "execution_count": 2,
     "metadata": {},
     "output_type": "execute_result"
    }
   ],
   "source": [
    "arr = np.array(list_numbers)\n",
    "\n",
    "new_arr = np.multiply(arr, 2)\n",
    "new_arr"
   ]
  },
  {
   "cell_type": "markdown",
   "id": "0abb92ad",
   "metadata": {},
   "source": [
    "## 3.\t\n",
    "\n",
    "#### Write a code to calculate the sum of the numbers on axis-1 of the array you created in question 2."
   ]
  },
  {
   "cell_type": "code",
   "execution_count": 3,
   "id": "f4210643",
   "metadata": {},
   "outputs": [
    {
     "data": {
      "text/plain": [
       "array([ -20, -206])"
      ]
     },
     "execution_count": 3,
     "metadata": {},
     "output_type": "execute_result"
    }
   ],
   "source": [
    "new_arr = np.multiply(arr, 2)\n",
    "\n",
    "sum_axis_0 = np.sum(new_arr, axis=1)\n",
    "sum_axis_0"
   ]
  },
  {
   "cell_type": "markdown",
   "id": "10d895e8",
   "metadata": {},
   "source": [
    "## 4.\t\n",
    "\n",
    "#### Write a code to calculate the sum of numbers on axis-0 of the array you created in question 2."
   ]
  },
  {
   "cell_type": "code",
   "execution_count": 4,
   "id": "451a0215",
   "metadata": {},
   "outputs": [
    {
     "data": {
      "text/plain": [
       "array([  60, -108, -178])"
      ]
     },
     "execution_count": 4,
     "metadata": {},
     "output_type": "execute_result"
    }
   ],
   "source": [
    "new_arr = np.multiply(arr, 2)\n",
    "\n",
    "sum_axis_1 = np.sum(new_arr, axis=0)\n",
    "sum_axis_1"
   ]
  },
  {
   "cell_type": "markdown",
   "id": "24c7d473",
   "metadata": {},
   "source": [
    "## 5.\t\n",
    "\n",
    "#### Using the NumPy arange() function, create a NumPy array of numbers of 0 to 100. The shape of the array must be (2, 5, 10)"
   ]
  },
  {
   "cell_type": "code",
   "execution_count": 5,
   "id": "a0f14057",
   "metadata": {},
   "outputs": [
    {
     "data": {
      "text/plain": [
       "array([[[ 0,  1,  2,  3,  4,  5,  6,  7,  8,  9],\n",
       "        [10, 11, 12, 13, 14, 15, 16, 17, 18, 19],\n",
       "        [20, 21, 22, 23, 24, 25, 26, 27, 28, 29],\n",
       "        [30, 31, 32, 33, 34, 35, 36, 37, 38, 39],\n",
       "        [40, 41, 42, 43, 44, 45, 46, 47, 48, 49]],\n",
       "\n",
       "       [[50, 51, 52, 53, 54, 55, 56, 57, 58, 59],\n",
       "        [60, 61, 62, 63, 64, 65, 66, 67, 68, 69],\n",
       "        [70, 71, 72, 73, 74, 75, 76, 77, 78, 79],\n",
       "        [80, 81, 82, 83, 84, 85, 86, 87, 88, 89],\n",
       "        [90, 91, 92, 93, 94, 95, 96, 97, 98, 99]]])"
      ]
     },
     "execution_count": 5,
     "metadata": {},
     "output_type": "execute_result"
    }
   ],
   "source": [
    "array1 = np.arange(100).reshape(2, 5, 10)\n",
    "array1"
   ]
  },
  {
   "cell_type": "markdown",
   "id": "586c4bb9",
   "metadata": {},
   "source": [
    "## 6.\n",
    "\n",
    "#### Write a code to slice row [50, 51, 52, 53, 54, 55, 56, 57, 58, 59] from the array above (question 5)."
   ]
  },
  {
   "cell_type": "code",
   "execution_count": 6,
   "id": "c29361bb",
   "metadata": {},
   "outputs": [
    {
     "data": {
      "text/plain": [
       "array([50, 51, 52, 53, 54, 55, 56, 57, 58, 59])"
      ]
     },
     "execution_count": 6,
     "metadata": {},
     "output_type": "execute_result"
    }
   ],
   "source": [
    "array1[1,0,0:]"
   ]
  },
  {
   "cell_type": "markdown",
   "id": "98e70043",
   "metadata": {},
   "source": [
    "## 7.\t\n",
    "\n",
    "#### Let’s analyze the array you created in question 1 further. How many numbers in row 1 are greater than numbers in row 2."
   ]
  },
  {
   "cell_type": "code",
   "execution_count": 7,
   "id": "9f9dea5a",
   "metadata": {},
   "outputs": [
    {
     "name": "stdout",
     "output_type": "stream",
     "text": [
      "The numbers in row 1 that are greater are: 1\n"
     ]
    }
   ],
   "source": [
    "# Selecting row one from the array\n",
    "array_row_one = arr[0]\n",
    "# Selecting row two from the array\n",
    "array_row_two = arr[1]\n",
    "\n",
    "# Using greater than function\n",
    "nums_greater = np.greater(array_row_one, array_row_two)\n",
    "print(f\"The numbers in row 1 that are greater are: {sum(nums_greater)}\")"
   ]
  }
 ],
 "metadata": {
  "kernelspec": {
   "display_name": "Python 3 (ipykernel)",
   "language": "python",
   "name": "python3"
  },
  "language_info": {
   "codemirror_mode": {
    "name": "ipython",
    "version": 3
   },
   "file_extension": ".py",
   "mimetype": "text/x-python",
   "name": "python",
   "nbconvert_exporter": "python",
   "pygments_lexer": "ipython3",
   "version": "3.10.5"
  }
 },
 "nbformat": 4,
 "nbformat_minor": 5
}
