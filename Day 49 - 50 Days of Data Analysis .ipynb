{
 "cells": [
  {
   "cell_type": "markdown",
   "id": "88139ab3",
   "metadata": {},
   "source": [
    "## 2.\t\n",
    "\n",
    "#### Load the house_prediction dataset using pandas. Check for missing values, shape of the DataFrame and for duplicates."
   ]
  },
  {
   "cell_type": "code",
   "execution_count": 1,
   "id": "b8141b35",
   "metadata": {},
   "outputs": [],
   "source": [
    "import pandas as pd\n",
    "import numpy as np\n",
    "import seaborn as sns\n",
    "import matplotlib.pyplot as plt\n",
    "from sklearn.utils import shuffle\n",
    "from sklearn.preprocessing import StandardScaler\n",
    "from sklearn.model_selection import train_test_split\n",
    "from sklearn.linear_model import LinearRegression\n",
    "from sklearn.metrics import r2_score, mean_squared_error\n",
    "from sklearn.model_selection import learning_curve\n",
    "from sklearn.model_selection import cross_val_score\n",
    "import joblib"
   ]
  },
  {
   "cell_type": "code",
   "execution_count": 2,
   "id": "44cb9bc1",
   "metadata": {},
   "outputs": [
    {
     "data": {
      "text/html": [
       "<div>\n",
       "<style scoped>\n",
       "    .dataframe tbody tr th:only-of-type {\n",
       "        vertical-align: middle;\n",
       "    }\n",
       "\n",
       "    .dataframe tbody tr th {\n",
       "        vertical-align: top;\n",
       "    }\n",
       "\n",
       "    .dataframe thead th {\n",
       "        text-align: right;\n",
       "    }\n",
       "</style>\n",
       "<table border=\"1\" class=\"dataframe\">\n",
       "  <thead>\n",
       "    <tr style=\"text-align: right;\">\n",
       "      <th></th>\n",
       "      <th>No</th>\n",
       "      <th>X1 transaction date</th>\n",
       "      <th>X2 house age</th>\n",
       "      <th>X3 distance to the nearest MRT station</th>\n",
       "      <th>X4 number of convenience stores</th>\n",
       "      <th>X5 latitude</th>\n",
       "      <th>X6 longitude</th>\n",
       "      <th>Y house price of unit area</th>\n",
       "    </tr>\n",
       "  </thead>\n",
       "  <tbody>\n",
       "    <tr>\n",
       "      <th>0</th>\n",
       "      <td>1</td>\n",
       "      <td>2012.917</td>\n",
       "      <td>32.0</td>\n",
       "      <td>84.87882</td>\n",
       "      <td>10</td>\n",
       "      <td>24.98298</td>\n",
       "      <td>121.54024</td>\n",
       "      <td>37.9</td>\n",
       "    </tr>\n",
       "    <tr>\n",
       "      <th>1</th>\n",
       "      <td>2</td>\n",
       "      <td>2012.917</td>\n",
       "      <td>19.5</td>\n",
       "      <td>306.59470</td>\n",
       "      <td>9</td>\n",
       "      <td>24.98034</td>\n",
       "      <td>121.53951</td>\n",
       "      <td>42.2</td>\n",
       "    </tr>\n",
       "    <tr>\n",
       "      <th>2</th>\n",
       "      <td>3</td>\n",
       "      <td>2013.583</td>\n",
       "      <td>13.3</td>\n",
       "      <td>561.98450</td>\n",
       "      <td>5</td>\n",
       "      <td>24.98746</td>\n",
       "      <td>121.54391</td>\n",
       "      <td>47.3</td>\n",
       "    </tr>\n",
       "    <tr>\n",
       "      <th>3</th>\n",
       "      <td>4</td>\n",
       "      <td>2013.500</td>\n",
       "      <td>13.3</td>\n",
       "      <td>561.98450</td>\n",
       "      <td>5</td>\n",
       "      <td>24.98746</td>\n",
       "      <td>121.54391</td>\n",
       "      <td>54.8</td>\n",
       "    </tr>\n",
       "    <tr>\n",
       "      <th>4</th>\n",
       "      <td>5</td>\n",
       "      <td>2012.833</td>\n",
       "      <td>5.0</td>\n",
       "      <td>390.56840</td>\n",
       "      <td>5</td>\n",
       "      <td>24.97937</td>\n",
       "      <td>121.54245</td>\n",
       "      <td>43.1</td>\n",
       "    </tr>\n",
       "  </tbody>\n",
       "</table>\n",
       "</div>"
      ],
      "text/plain": [
       "   No  X1 transaction date  X2 house age   \n",
       "0   1             2012.917          32.0  \\\n",
       "1   2             2012.917          19.5   \n",
       "2   3             2013.583          13.3   \n",
       "3   4             2013.500          13.3   \n",
       "4   5             2012.833           5.0   \n",
       "\n",
       "   X3 distance to the nearest MRT station  X4 number of convenience stores   \n",
       "0                                84.87882                               10  \\\n",
       "1                               306.59470                                9   \n",
       "2                               561.98450                                5   \n",
       "3                               561.98450                                5   \n",
       "4                               390.56840                                5   \n",
       "\n",
       "   X5 latitude  X6 longitude  Y house price of unit area  \n",
       "0     24.98298     121.54024                        37.9  \n",
       "1     24.98034     121.53951                        42.2  \n",
       "2     24.98746     121.54391                        47.3  \n",
       "3     24.98746     121.54391                        54.8  \n",
       "4     24.97937     121.54245                        43.1  "
      ]
     },
     "execution_count": 2,
     "metadata": {},
     "output_type": "execute_result"
    }
   ],
   "source": [
    "# Importing dataset\n",
    "df = pd.read_csv(\"house_price_prediction_data.csv\")\n",
    "df.head()"
   ]
  },
  {
   "cell_type": "code",
   "execution_count": 3,
   "id": "724deb58",
   "metadata": {},
   "outputs": [
    {
     "data": {
      "text/plain": [
       "No                                        0\n",
       "X1 transaction date                       0\n",
       "X2 house age                              0\n",
       "X3 distance to the nearest MRT station    0\n",
       "X4 number of convenience stores           0\n",
       "X5 latitude                               0\n",
       "X6 longitude                              0\n",
       "Y house price of unit area                0\n",
       "dtype: int64"
      ]
     },
     "execution_count": 3,
     "metadata": {},
     "output_type": "execute_result"
    }
   ],
   "source": [
    "# Checking for missing values\n",
    "df.isnull().sum()"
   ]
  },
  {
   "cell_type": "code",
   "execution_count": 4,
   "id": "ee2e5593",
   "metadata": {},
   "outputs": [
    {
     "data": {
      "text/plain": [
       "(414, 8)"
      ]
     },
     "execution_count": 4,
     "metadata": {},
     "output_type": "execute_result"
    }
   ],
   "source": [
    "# Checking shape\n",
    "df.shape"
   ]
  },
  {
   "cell_type": "code",
   "execution_count": 5,
   "id": "211a11ae",
   "metadata": {},
   "outputs": [
    {
     "data": {
      "text/plain": [
       "0"
      ]
     },
     "execution_count": 5,
     "metadata": {},
     "output_type": "execute_result"
    }
   ],
   "source": [
    "# Checking for duplicates\n",
    "df.duplicated().sum()"
   ]
  },
  {
   "cell_type": "markdown",
   "id": "b4a23a26",
   "metadata": {},
   "source": [
    "## a. \n",
    "\n",
    "#### Plot a scatter plot of the \" X2 house age\" column and \"Y house price of unit area\" column. This will reveal any relationship between this variable and the target column."
   ]
  },
  {
   "cell_type": "code",
   "execution_count": 6,
   "id": "26c3c780",
   "metadata": {},
   "outputs": [
    {
     "data": {
      "image/png": "[encoded data removed]",
      "text/plain": [
       "<Figure size 864x576 with 1 Axes>"
      ]
     },
     "metadata": {
      "needs_background": "light"
     },
     "output_type": "display_data"
    }
   ],
   "source": [
    "plt.figure(figsize = (12, 8))\n",
    "plt.scatter(x = df[\"X2 house age\"], \n",
    "            y = df[\"Y house price of unit area\"])\n",
    "plt.xlabel(\"House Age\")\n",
    "plt.ylabel(\"Price\")\n",
    "plt.title( \"House Age vs Price\", fontsize = 20)\n",
    "plt.show()"
   ]
  },
  {
   "cell_type": "markdown",
   "id": "4fc012e7",
   "metadata": {},
   "source": [
    "## b. \n",
    "    \n",
    "#### Using seaborn, plot a barplot of \"X4 number of convenience stores\" column and the \"Y house price of unit area\". Is there a correlation between the number of stores and the price of the house?"
   ]
  },
  {
   "cell_type": "code",
   "execution_count": 7,
   "id": "0d36fee5",
   "metadata": {},
   "outputs": [
    {
     "data": {
      "image/png": "[encoded data removed]",
      "text/plain": [
       "<Figure size 864x576 with 1 Axes>"
      ]
     },
     "metadata": {
      "needs_background": "light"
     },
     "output_type": "display_data"
    }
   ],
   "source": [
    "plt.figure(figsize=(12,8))\n",
    "sns.barplot(data=df, \n",
    "            x=df[\"X4 number of convenience stores\"], \n",
    "            y=df[\"Y house price of unit area\"])\n",
    "plt.title(\"House Price vs Number of Stores\", fontsize = 20)\n",
    "plt.show()"
   ]
  },
  {
   "cell_type": "markdown",
   "id": "fe634325",
   "metadata": {},
   "source": [
    "## c.\n",
    "\n",
    "#### To check the distribution of data, using Matplotlib, create a hist plot of the \"Y house price of unit area\" column(target column). What is the mean of the column? Add a mean line to the plot. Do you notice ant outliers in the data?"
   ]
  },
  {
   "cell_type": "code",
   "execution_count": 8,
   "id": "feaa73e9",
   "metadata": {},
   "outputs": [
    {
     "name": "stdout",
     "output_type": "stream",
     "text": [
      "Mean price is: 37.98\n"
     ]
    },
    {
     "data": {
      "image/png": "[encoded data removed]",
      "text/plain": [
       "<Figure size 864x576 with 1 Axes>"
      ]
     },
     "metadata": {
      "needs_background": "light"
     },
     "output_type": "display_data"
    }
   ],
   "source": [
    "plt.figure(figsize=(12,8))\n",
    "plt.hist(df[\"Y house price of unit area\"], \n",
    "         bins= 100)\n",
    "\n",
    "print(f'Mean price is: {df[\"Y house price of unit area\"].mean():.2f}')\n",
    "\n",
    "plt.axvline(df[\"Y house price of unit area\"].mean(), \n",
    "            color='Red', \n",
    "            linestyle='solid', \n",
    "            linewidth=3)\n",
    "plt.ylabel(\"Frequency\")\n",
    "plt.xlabel(\"House Price\")\n",
    "plt.title(\"Target Column Distribution\", fontsize = 20)\n",
    "plt.show()"
   ]
  },
  {
   "cell_type": "code",
   "execution_count": 9,
   "id": "695c3ed8",
   "metadata": {},
   "outputs": [],
   "source": [
    "# Create a copy of DataFrame\n",
    "df_copy = df.copy()"
   ]
  },
  {
   "cell_type": "code",
   "execution_count": 10,
   "id": "e1e5b24b",
   "metadata": {},
   "outputs": [],
   "source": [
    "# Dropping outliers\n",
    "df_copy = df_copy[df_copy[\"Y house price of unit area\"] < 115]"
   ]
  },
  {
   "cell_type": "code",
   "execution_count": 11,
   "id": "c1175f69",
   "metadata": {},
   "outputs": [
    {
     "data": {
      "text/html": [
       "<div>\n",
       "<style scoped>\n",
       "    .dataframe tbody tr th:only-of-type {\n",
       "        vertical-align: middle;\n",
       "    }\n",
       "\n",
       "    .dataframe tbody tr th {\n",
       "        vertical-align: top;\n",
       "    }\n",
       "\n",
       "    .dataframe thead th {\n",
       "        text-align: right;\n",
       "    }\n",
       "</style>\n",
       "<table border=\"1\" class=\"dataframe\">\n",
       "  <thead>\n",
       "    <tr style=\"text-align: right;\">\n",
       "      <th></th>\n",
       "      <th>X1 transaction date</th>\n",
       "      <th>X2 house age</th>\n",
       "      <th>X3 distance to the nearest MRT station</th>\n",
       "      <th>X4 number of convenience stores</th>\n",
       "      <th>X5 latitude</th>\n",
       "      <th>X6 longitude</th>\n",
       "      <th>Y house price of unit area</th>\n",
       "    </tr>\n",
       "  </thead>\n",
       "  <tbody>\n",
       "    <tr>\n",
       "      <th>0</th>\n",
       "      <td>2012.917</td>\n",
       "      <td>32.0</td>\n",
       "      <td>84.87882</td>\n",
       "      <td>10</td>\n",
       "      <td>24.98298</td>\n",
       "      <td>121.54024</td>\n",
       "      <td>37.9</td>\n",
       "    </tr>\n",
       "    <tr>\n",
       "      <th>1</th>\n",
       "      <td>2012.917</td>\n",
       "      <td>19.5</td>\n",
       "      <td>306.59470</td>\n",
       "      <td>9</td>\n",
       "      <td>24.98034</td>\n",
       "      <td>121.53951</td>\n",
       "      <td>42.2</td>\n",
       "    </tr>\n",
       "    <tr>\n",
       "      <th>2</th>\n",
       "      <td>2013.583</td>\n",
       "      <td>13.3</td>\n",
       "      <td>561.98450</td>\n",
       "      <td>5</td>\n",
       "      <td>24.98746</td>\n",
       "      <td>121.54391</td>\n",
       "      <td>47.3</td>\n",
       "    </tr>\n",
       "    <tr>\n",
       "      <th>3</th>\n",
       "      <td>2013.500</td>\n",
       "      <td>13.3</td>\n",
       "      <td>561.98450</td>\n",
       "      <td>5</td>\n",
       "      <td>24.98746</td>\n",
       "      <td>121.54391</td>\n",
       "      <td>54.8</td>\n",
       "    </tr>\n",
       "    <tr>\n",
       "      <th>4</th>\n",
       "      <td>2012.833</td>\n",
       "      <td>5.0</td>\n",
       "      <td>390.56840</td>\n",
       "      <td>5</td>\n",
       "      <td>24.97937</td>\n",
       "      <td>121.54245</td>\n",
       "      <td>43.1</td>\n",
       "    </tr>\n",
       "  </tbody>\n",
       "</table>\n",
       "</div>"
      ],
      "text/plain": [
       "   X1 transaction date  X2 house age  X3 distance to the nearest MRT station   \n",
       "0             2012.917          32.0                                84.87882  \\\n",
       "1             2012.917          19.5                               306.59470   \n",
       "2             2013.583          13.3                               561.98450   \n",
       "3             2013.500          13.3                               561.98450   \n",
       "4             2012.833           5.0                               390.56840   \n",
       "\n",
       "   X4 number of convenience stores  X5 latitude  X6 longitude   \n",
       "0                               10     24.98298     121.54024  \\\n",
       "1                                9     24.98034     121.53951   \n",
       "2                                5     24.98746     121.54391   \n",
       "3                                5     24.98746     121.54391   \n",
       "4                                5     24.97937     121.54245   \n",
       "\n",
       "   Y house price of unit area  \n",
       "0                        37.9  \n",
       "1                        42.2  \n",
       "2                        47.3  \n",
       "3                        54.8  \n",
       "4                        43.1  "
      ]
     },
     "execution_count": 11,
     "metadata": {},
     "output_type": "execute_result"
    }
   ],
   "source": [
    "# Drop \"No\" columns\n",
    "df_copy = df_copy.drop(columns=[\"No\"])\n",
    "df_copy.head()"
   ]
  },
  {
   "cell_type": "code",
   "execution_count": 12,
   "id": "670b79f2",
   "metadata": {},
   "outputs": [
    {
     "data": {
      "text/html": [
       "<div>\n",
       "<style scoped>\n",
       "    .dataframe tbody tr th:only-of-type {\n",
       "        vertical-align: middle;\n",
       "    }\n",
       "\n",
       "    .dataframe tbody tr th {\n",
       "        vertical-align: top;\n",
       "    }\n",
       "\n",
       "    .dataframe thead th {\n",
       "        text-align: right;\n",
       "    }\n",
       "</style>\n",
       "<table border=\"1\" class=\"dataframe\">\n",
       "  <thead>\n",
       "    <tr style=\"text-align: right;\">\n",
       "      <th></th>\n",
       "      <th>X2 house age</th>\n",
       "      <th>X3 distance to the nearest MRT station</th>\n",
       "      <th>X4 number of convenience stores</th>\n",
       "      <th>X5 latitude</th>\n",
       "      <th>X6 longitude</th>\n",
       "      <th>Y house price of unit area</th>\n",
       "      <th>X1 Transaction Year</th>\n",
       "    </tr>\n",
       "  </thead>\n",
       "  <tbody>\n",
       "    <tr>\n",
       "      <th>0</th>\n",
       "      <td>32.0</td>\n",
       "      <td>84.87882</td>\n",
       "      <td>10</td>\n",
       "      <td>24.98298</td>\n",
       "      <td>121.54024</td>\n",
       "      <td>37.9</td>\n",
       "      <td>2012</td>\n",
       "    </tr>\n",
       "    <tr>\n",
       "      <th>1</th>\n",
       "      <td>19.5</td>\n",
       "      <td>306.59470</td>\n",
       "      <td>9</td>\n",
       "      <td>24.98034</td>\n",
       "      <td>121.53951</td>\n",
       "      <td>42.2</td>\n",
       "      <td>2012</td>\n",
       "    </tr>\n",
       "    <tr>\n",
       "      <th>2</th>\n",
       "      <td>13.3</td>\n",
       "      <td>561.98450</td>\n",
       "      <td>5</td>\n",
       "      <td>24.98746</td>\n",
       "      <td>121.54391</td>\n",
       "      <td>47.3</td>\n",
       "      <td>2013</td>\n",
       "    </tr>\n",
       "    <tr>\n",
       "      <th>3</th>\n",
       "      <td>13.3</td>\n",
       "      <td>561.98450</td>\n",
       "      <td>5</td>\n",
       "      <td>24.98746</td>\n",
       "      <td>121.54391</td>\n",
       "      <td>54.8</td>\n",
       "      <td>2013</td>\n",
       "    </tr>\n",
       "    <tr>\n",
       "      <th>4</th>\n",
       "      <td>5.0</td>\n",
       "      <td>390.56840</td>\n",
       "      <td>5</td>\n",
       "      <td>24.97937</td>\n",
       "      <td>121.54245</td>\n",
       "      <td>43.1</td>\n",
       "      <td>2012</td>\n",
       "    </tr>\n",
       "  </tbody>\n",
       "</table>\n",
       "</div>"
      ],
      "text/plain": [
       "   X2 house age  X3 distance to the nearest MRT station   \n",
       "0          32.0                                84.87882  \\\n",
       "1          19.5                               306.59470   \n",
       "2          13.3                               561.98450   \n",
       "3          13.3                               561.98450   \n",
       "4           5.0                               390.56840   \n",
       "\n",
       "   X4 number of convenience stores  X5 latitude  X6 longitude   \n",
       "0                               10     24.98298     121.54024  \\\n",
       "1                                9     24.98034     121.53951   \n",
       "2                                5     24.98746     121.54391   \n",
       "3                                5     24.98746     121.54391   \n",
       "4                                5     24.97937     121.54245   \n",
       "\n",
       "   Y house price of unit area  X1 Transaction Year  \n",
       "0                        37.9                 2012  \n",
       "1                        42.2                 2012  \n",
       "2                        47.3                 2013  \n",
       "3                        54.8                 2013  \n",
       "4                        43.1                 2012  "
      ]
     },
     "execution_count": 12,
     "metadata": {},
     "output_type": "execute_result"
    }
   ],
   "source": [
    "def convert_column(column):\n",
    "    column =  column.astype(\"str\")\n",
    "    # Split the column into two columns\n",
    "    df_copy [[\"X1 Transaction Year\", \"Date\"]] = column.str.split(\".\", expand = True).astype(int)\n",
    "    df_copy.drop(columns=[\"X1 transaction date\",\"Date\" ], inplace=True)\n",
    "    return df_copy.head()\n",
    "\n",
    "convert_column(df_copy[\"X1 transaction date\"])"
   ]
  },
  {
   "cell_type": "markdown",
   "id": "93cfb667",
   "metadata": {},
   "source": [
    "## 8. \n",
    "\n",
    "#### Shuffling a DataFrame is important in machine learning to avoid any bias that may be introduced when the data is ordered in a certain way. Our data seem to have a particular order. The prices and sizes are ordered from smallest to largest. This may create bias. Using scikit-learn, shuffle the DataFrame."
   ]
  },
  {
   "cell_type": "code",
   "execution_count": 13,
   "id": "93da1fe9",
   "metadata": {},
   "outputs": [
    {
     "data": {
      "text/html": [
       "<div>\n",
       "<style scoped>\n",
       "    .dataframe tbody tr th:only-of-type {\n",
       "        vertical-align: middle;\n",
       "    }\n",
       "\n",
       "    .dataframe tbody tr th {\n",
       "        vertical-align: top;\n",
       "    }\n",
       "\n",
       "    .dataframe thead th {\n",
       "        text-align: right;\n",
       "    }\n",
       "</style>\n",
       "<table border=\"1\" class=\"dataframe\">\n",
       "  <thead>\n",
       "    <tr style=\"text-align: right;\">\n",
       "      <th></th>\n",
       "      <th>X2 house age</th>\n",
       "      <th>X3 distance to the nearest MRT station</th>\n",
       "      <th>X4 number of convenience stores</th>\n",
       "      <th>X5 latitude</th>\n",
       "      <th>X6 longitude</th>\n",
       "      <th>Y house price of unit area</th>\n",
       "      <th>X1 Transaction Year</th>\n",
       "    </tr>\n",
       "  </thead>\n",
       "  <tbody>\n",
       "    <tr>\n",
       "      <th>395</th>\n",
       "      <td>21.2</td>\n",
       "      <td>512.5487</td>\n",
       "      <td>4</td>\n",
       "      <td>24.97400</td>\n",
       "      <td>121.53842</td>\n",
       "      <td>42.5</td>\n",
       "      <td>2012</td>\n",
       "    </tr>\n",
       "    <tr>\n",
       "      <th>350</th>\n",
       "      <td>13.2</td>\n",
       "      <td>492.2313</td>\n",
       "      <td>5</td>\n",
       "      <td>24.96515</td>\n",
       "      <td>121.53737</td>\n",
       "      <td>42.3</td>\n",
       "      <td>2013</td>\n",
       "    </tr>\n",
       "    <tr>\n",
       "      <th>401</th>\n",
       "      <td>7.6</td>\n",
       "      <td>2175.0300</td>\n",
       "      <td>3</td>\n",
       "      <td>24.96305</td>\n",
       "      <td>121.51254</td>\n",
       "      <td>27.7</td>\n",
       "      <td>2013</td>\n",
       "    </tr>\n",
       "    <tr>\n",
       "      <th>354</th>\n",
       "      <td>12.2</td>\n",
       "      <td>1360.1390</td>\n",
       "      <td>1</td>\n",
       "      <td>24.95204</td>\n",
       "      <td>121.54842</td>\n",
       "      <td>30.1</td>\n",
       "      <td>2013</td>\n",
       "    </tr>\n",
       "    <tr>\n",
       "      <th>181</th>\n",
       "      <td>11.6</td>\n",
       "      <td>201.8939</td>\n",
       "      <td>8</td>\n",
       "      <td>24.98489</td>\n",
       "      <td>121.54121</td>\n",
       "      <td>55.9</td>\n",
       "      <td>2013</td>\n",
       "    </tr>\n",
       "  </tbody>\n",
       "</table>\n",
       "</div>"
      ],
      "text/plain": [
       "     X2 house age  X3 distance to the nearest MRT station   \n",
       "395          21.2                                512.5487  \\\n",
       "350          13.2                                492.2313   \n",
       "401           7.6                               2175.0300   \n",
       "354          12.2                               1360.1390   \n",
       "181          11.6                                201.8939   \n",
       "\n",
       "     X4 number of convenience stores  X5 latitude  X6 longitude   \n",
       "395                                4     24.97400     121.53842  \\\n",
       "350                                5     24.96515     121.53737   \n",
       "401                                3     24.96305     121.51254   \n",
       "354                                1     24.95204     121.54842   \n",
       "181                                8     24.98489     121.54121   \n",
       "\n",
       "     Y house price of unit area  X1 Transaction Year  \n",
       "395                        42.5                 2012  \n",
       "350                        42.3                 2013  \n",
       "401                        27.7                 2013  \n",
       "354                        30.1                 2013  \n",
       "181                        55.9                 2013  "
      ]
     },
     "execution_count": 13,
     "metadata": {},
     "output_type": "execute_result"
    }
   ],
   "source": [
    "df_shuffled = shuffle(df_copy, random_state = 42)\n",
    "df_shuffled.head()"
   ]
  },
  {
   "cell_type": "markdown",
   "id": "839e0468",
   "metadata": {},
   "source": [
    "## 9.\n",
    "#### Write a code to separate the DataFrame into X and y variables. X for feature columns and y for the target column. Use scikit-learn's train_test_split function to split the X and y variables into training and test sets. Make the test set to be 10% of the data."
   ]
  },
  {
   "cell_type": "code",
   "execution_count": 14,
   "id": "db0ee5ef",
   "metadata": {},
   "outputs": [],
   "source": [
    "# Creating X and y variables\n",
    "X = df_shuffled.drop(columns=[\"Y house price of unit area\"])\n",
    "y = df_shuffled[\"Y house price of unit area\"]\n",
    "\n",
    "\n",
    "# Splitting the data into training and testing sets\n",
    "X_train, X_test, y_train, y_test = train_test_split(X, y, \n",
    "                                                    test_size=0.1, \n",
    "                                                    random_state=23)"
   ]
  },
  {
   "cell_type": "markdown",
   "id": "0cb720f1",
   "metadata": {},
   "source": [
    "## 10\n",
    "#### Using scikit-learn LinearRegression, select the model for your data based on the size of your dataset. Ensure that your data is scaled before fitting. Use the r2_score,  and MSE(mean squared error) metrics to evaluate the model. What conclusion can you draw from the score results?"
   ]
  },
  {
   "cell_type": "code",
   "execution_count": 15,
   "id": "55eaa420",
   "metadata": {},
   "outputs": [
    {
     "name": "stdout",
     "output_type": "stream",
     "text": [
      "The r2_score is: 0.75\n",
      "The mean squared error is: 37.22\n"
     ]
    }
   ],
   "source": [
    "# Scale the data using StandardScaler\n",
    "scaler = StandardScaler()\n",
    "X_train = scaler.fit_transform(X_train)\n",
    "X_test = scaler.fit_transform(X_test)\n",
    "\n",
    "# Instantiating model\n",
    "reg = LinearRegression()\n",
    "reg.fit(X_train, y_train)\n",
    "\n",
    "# Scoring the model on test dataset\n",
    "y_pred = reg.predict(X_test)\n",
    "r2_score = r2_score(y_test, y_pred)\n",
    "mse = mean_squared_error(y_test,y_pred)\n",
    "print(f'The r2_score is: {r2_score:.2f}')\n",
    "print(f'The mean squared error is: {mse:.2f}')"
   ]
  },
  {
   "cell_type": "markdown",
   "id": "85e4fd72",
   "metadata": {},
   "source": [
    "## 11\n",
    "#### Use the cross validation function to assess the performance of a model on unseen data. Use the LinearRegression model.Make the number of folds 10."
   ]
  },
  {
   "cell_type": "code",
   "execution_count": 16,
   "id": "5ca53419",
   "metadata": {},
   "outputs": [
    {
     "name": "stdout",
     "output_type": "stream",
     "text": [
      "The accuracy score is 0.60\n"
     ]
    }
   ],
   "source": [
    "# instantianting model\n",
    "reg_2 = LinearRegression()\n",
    "scores = cross_val_score(reg_2, X, y, cv=10, scoring ='r2')\n",
    "print(f'The accuracy score is {scores.mean():.2f}')"
   ]
  },
  {
   "cell_type": "markdown",
   "id": "45c8b331",
   "metadata": {},
   "source": [
    "## 12. \n",
    "\n",
    "#### Save the model you fitted in questin 10 using joblib. Load the model and make predictions on x_test."
   ]
  },
  {
   "cell_type": "code",
   "execution_count": 17,
   "id": "2a679bc9",
   "metadata": {},
   "outputs": [
    {
     "data": {
      "text/plain": [
       "['regression_model.joblib']"
      ]
     },
     "execution_count": 17,
     "metadata": {},
     "output_type": "execute_result"
    }
   ],
   "source": [
    "# Saving the model to a file\n",
    "joblib.dump(reg, 'regression_model.joblib')"
   ]
  },
  {
   "cell_type": "code",
   "execution_count": 18,
   "id": "9d7c8dba",
   "metadata": {},
   "outputs": [
    {
     "data": {
      "text/plain": [
       "array([27.09757879, 51.44825839, 34.04118703, 30.39047647, 13.82357914,\n",
       "       16.69349041, 42.60603813, 27.15964181, 45.86711546, 48.67321448,\n",
       "       45.85921106, 14.605422  , 33.08864684, 37.19218743, 37.48843452,\n",
       "       33.42672213, 39.26182668, 41.94741088, 51.41722688, 47.36001613,\n",
       "       41.62995642, 26.03667193, 51.2523784 , 43.91308039, 51.35516386,\n",
       "       32.61166218, 30.86537266, 31.62878771, 45.78739233, 44.53276692,\n",
       "       39.49156072, 47.34957458, 34.68217714, 44.10032808, 44.13135959,\n",
       "       45.16105813, 14.38079497, 42.60603813, 38.41266862, 43.52172732,\n",
       "       44.54134562, 34.93780812])"
      ]
     },
     "execution_count": 18,
     "metadata": {},
     "output_type": "execute_result"
    }
   ],
   "source": [
    "# Load the model from file\n",
    "reg_loaded = joblib.load(\"regression_model.joblib\")\n",
    "\n",
    "# Making predictions with model\n",
    "model_predictions = reg_loaded.predict(X_test)\n",
    "model_predictions"
   ]
  },
  {
   "cell_type": "code",
   "execution_count": null,
   "id": "725717cc",
   "metadata": {},
   "outputs": [],
   "source": []
  }
 ],
 "metadata": {
  "kernelspec": {
   "display_name": "Python 3 (ipykernel)",
   "language": "python",
   "name": "python3"
  },
  "language_info": {
   "codemirror_mode": {
    "name": "ipython",
    "version": 3
   },
   "file_extension": ".py",
   "mimetype": "text/x-python",
   "name": "python",
   "nbconvert_exporter": "python",
   "pygments_lexer": "ipython3",
   "version": "3.10.5"
  }
 },
 "nbformat": 4,
 "nbformat_minor": 5
}
