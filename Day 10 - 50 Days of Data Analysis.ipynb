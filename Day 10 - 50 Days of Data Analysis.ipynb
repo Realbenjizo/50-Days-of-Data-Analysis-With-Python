{
 "cells": [
  {
   "cell_type": "markdown",
   "id": "5d4add8d",
   "metadata": {},
   "source": [
    "## num = 50\n",
    "\n",
    "## 1.\t\n",
    "\n",
    "#### Create an array from the number above using the arange() function of NumPy. Your array should start at 0 with a step of 5.\n"
   ]
  },
  {
   "cell_type": "code",
   "execution_count": 1,
   "id": "5faca94b",
   "metadata": {},
   "outputs": [
    {
     "data": {
      "text/plain": [
       "array([ 0,  5, 10, 15, 20, 25, 30, 35, 40, 45])"
      ]
     },
     "execution_count": 1,
     "metadata": {},
     "output_type": "execute_result"
    }
   ],
   "source": [
    "import numpy as np\n",
    "\n",
    "num_array = np.arange(0, 50, 5)\n",
    "num_array"
   ]
  },
  {
   "cell_type": "markdown",
   "id": "9cd1910b",
   "metadata": {},
   "source": [
    "## 2.\t\n",
    "\n",
    "#### Using NumPy, write a code that returns all the numbers in the array that are over 25."
   ]
  },
  {
   "cell_type": "code",
   "execution_count": 2,
   "id": "b4566e3f",
   "metadata": {},
   "outputs": [
    {
     "name": "stdout",
     "output_type": "stream",
     "text": [
      "[30 35 40 45]\n"
     ]
    }
   ],
   "source": [
    "# Getting indexes of numbers over 25\n",
    "over_25_indices = np.where(num_array > 25)\n",
    "\n",
    "# Using the index to get numbers over 25\n",
    "print(num_array[over_25_indices])"
   ]
  },
  {
   "cell_type": "markdown",
   "id": "bd7cdd4b",
   "metadata": {},
   "source": [
    "## 3.\t\n",
    "\n",
    "#### Here is some data below:\n",
    "\n",
    "#### days = [\"mon\", \"tue,\"  \"wed\",  \"thu\",  \"Fri\"]\n",
    "#### hours_worked = [ 8, 8, 10, 11, 7]\n"
   ]
  },
  {
   "cell_type": "code",
   "execution_count": 3,
   "id": "f54741d3",
   "metadata": {},
   "outputs": [
    {
     "data": {
      "text/plain": [
       "array(['mon', 'tue'], dtype='<U3')"
      ]
     },
     "execution_count": 3,
     "metadata": {},
     "output_type": "execute_result"
    }
   ],
   "source": [
    "days = [\"mon\", \"tue\",  \"wed\",  \"thu\",  \"Fri\"]\n",
    "hours_worked = [ 8, 8, 10, 11, 7]\n",
    "\n",
    "# Creating arrays\n",
    "days = np.array(days)\n",
    "hours_worked = np.array(hours_worked)\n",
    "\n",
    "# Using Boolean to get the 8 hour days.\n",
    "days_8hrs = days[hours_worked == 8]\n",
    "days_8hrs"
   ]
  },
  {
   "cell_type": "markdown",
   "id": "f6621dff",
   "metadata": {},
   "source": [
    "## 4. \n",
    "\n",
    "#### Write another code (using Boolean indexing) to return to return the day of the week with the highest number of hours worked."
   ]
  },
  {
   "cell_type": "code",
   "execution_count": 4,
   "id": "18233cea",
   "metadata": {},
   "outputs": [
    {
     "name": "stdout",
     "output_type": "stream",
     "text": [
      "Day with the max hours worked is, thu\n"
     ]
    }
   ],
   "source": [
    "# finding max value index\n",
    "max_hours_index = np.argmax(hours_worked)\n",
    "print(f'Day with the max hours worked is, \n",
    "      {days[max_hours_index]}')"
   ]
  },
  {
   "cell_type": "markdown",
   "id": "cd40aa97",
   "metadata": {},
   "source": [
    "## 5.\t\n",
    "\n",
    "#### Write another code to return all the days of the week, where over 9 hours of work was achieved."
   ]
  },
  {
   "cell_type": "code",
   "execution_count": 5,
   "id": "2a5c9ab2",
   "metadata": {},
   "outputs": [
    {
     "data": {
      "text/plain": [
       "array(['wed', 'thu'], dtype='<U3')"
      ]
     },
     "execution_count": 5,
     "metadata": {},
     "output_type": "execute_result"
    }
   ],
   "source": [
    "days_over_9hrs = days[hours_worked > 9]\n",
    "days_over_9hrs"
   ]
  }
 ],
 "metadata": {
  "kernelspec": {
   "display_name": "Python 3 (ipykernel)",
   "language": "python",
   "name": "python3"
  },
  "language_info": {
   "codemirror_mode": {
    "name": "ipython",
    "version": 3
   },
   "file_extension": ".py",
   "mimetype": "text/x-python",
   "name": "python",
   "nbconvert_exporter": "python",
   "pygments_lexer": "ipython3",
   "version": "3.10.5"
  }
 },
 "nbformat": 4,
 "nbformat_minor": 5
}
