{
 "cells": [
  {
   "cell_type": "markdown",
   "id": "31305b2a",
   "metadata": {},
   "source": [
    "## 1.\t\n",
    "\n",
    "#### Create a NumPy array with the list above. Calculate the standard deviation of the of the array."
   ]
  },
  {
   "cell_type": "code",
   "execution_count": 1,
   "id": "63cc13a8",
   "metadata": {},
   "outputs": [
    {
     "data": {
      "text/plain": [
       "array(['23', '12', '90', '28', '30'], dtype='<U2')"
      ]
     },
     "execution_count": 1,
     "metadata": {},
     "output_type": "execute_result"
    }
   ],
   "source": [
    "import numpy as np\n",
    "\n",
    "list_str = [\"23\", \"12\", \"90\", \"28\", \"30\"]\n",
    "array1 = np.array(list_str)\n",
    "array1"
   ]
  },
  {
   "cell_type": "code",
   "execution_count": 2,
   "id": "9ec7ce1b",
   "metadata": {},
   "outputs": [
    {
     "data": {
      "text/plain": [
       "27.419700946582186"
      ]
     },
     "execution_count": 2,
     "metadata": {},
     "output_type": "execute_result"
    }
   ],
   "source": [
    "# convert the array dtype to int64 and calculate std\n",
    "standard_deviation = array1.astype(np.int64).std()\n",
    "standard_deviation"
   ]
  },
  {
   "cell_type": "markdown",
   "id": "5159596c",
   "metadata": {},
   "source": [
    "## 2.\t\n",
    "\n",
    "#### Write code to change the data type of the array you created in question one (1) to floating data type. Save this to a new variable."
   ]
  },
  {
   "cell_type": "code",
   "execution_count": 3,
   "id": "1d4725c4",
   "metadata": {},
   "outputs": [
    {
     "data": {
      "text/plain": [
       "array([23., 12., 90., 28., 30.])"
      ]
     },
     "execution_count": 3,
     "metadata": {},
     "output_type": "execute_result"
    }
   ],
   "source": [
    "# Converting array to int data type\n",
    "array2 = array1.astype(float)\n",
    "array2"
   ]
  },
  {
   "cell_type": "markdown",
   "id": "1d5d61c0",
   "metadata": {},
   "source": [
    "## 3.\t\n",
    "\n",
    "#### Write code to return the sum of values [90.0, 28.0, 30.0] from the array you just in question (3)."
   ]
  },
  {
   "cell_type": "code",
   "execution_count": 4,
   "id": "2bed7b18",
   "metadata": {},
   "outputs": [
    {
     "name": "stdout",
     "output_type": "stream",
     "text": [
      "148.0\n"
     ]
    }
   ],
   "source": [
    "result = array2[[2, 3, 4]].sum()\n",
    "print(result)"
   ]
  },
  {
   "cell_type": "markdown",
   "id": "f60bcbb6",
   "metadata": {},
   "source": [
    "Another way"
   ]
  },
  {
   "cell_type": "code",
   "execution_count": 5,
   "id": "a2190e64",
   "metadata": {},
   "outputs": [
    {
     "name": "stdout",
     "output_type": "stream",
     "text": [
      "148.0\n"
     ]
    }
   ],
   "source": [
    "result = array2[(array2 >= 28) & (array2 <= 90)].sum()\n",
    "print(result)"
   ]
  },
  {
   "cell_type": "markdown",
   "id": "8cef1c7e",
   "metadata": {},
   "source": [
    "## 4.\t\n",
    "\n",
    "#### Create a 2-dimensional array of random integers from 0 to 100 with the shape of (5,  5). Use the array to find the minimum and maximum values, as well as the mean and standard deviation. Ensure that the results are reproducible."
   ]
  },
  {
   "cell_type": "code",
   "execution_count": 6,
   "id": "5e63fd20",
   "metadata": {},
   "outputs": [
    {
     "name": "stdout",
     "output_type": "stream",
     "text": [
      "Minimum value:  8\n",
      "maximum value:  97\n",
      "Mean:  53.6\n",
      "Std:  27.832355272236665\n"
     ]
    }
   ],
   "source": [
    "# Generating data\n",
    "rng = np.random.default_rng(seed = 42)\n",
    "array3 = rng.integers(low = 0, high = 100, size=(5, 5))\n",
    "\n",
    "min_val = array3.min()\n",
    "max_val = array3.max()\n",
    "mean = array3.mean()\n",
    "std = array3.std()\n",
    "print(\"Minimum value: \", min_val)\n",
    "print(\"maximum value: \", max_val)\n",
    "print(\"Mean: \",mean)\n",
    "print(\"Std: \", std)"
   ]
  },
  {
   "cell_type": "markdown",
   "id": "c29061da",
   "metadata": {},
   "source": [
    "## 5.\t\n",
    "\n",
    "#### Below are two arrays:\n",
    "#### first_names = [\"John\", \" Kenny\"]\n",
    "#### last_names = [\"Smith\", \" Sakula\"]\n",
    "\n",
    "#### Using NumPy, Create two arrays by joining the first name to the last name. Your first array should be: array(['John', 'Smith'], dtype='<U6'). You second array should be: array(['Kenny', 'Sakula'], dtype='<U6')\n"
   ]
  },
  {
   "cell_type": "code",
   "execution_count": 7,
   "id": "bb737013",
   "metadata": {},
   "outputs": [
    {
     "data": {
      "text/plain": [
       "(array(['John', 'Smith'], dtype='<U6'),\n",
       " array(['Kenny', 'Sakula'], dtype='<U6'))"
      ]
     },
     "execution_count": 7,
     "metadata": {},
     "output_type": "execute_result"
    }
   ],
   "source": [
    "first_names = [\"John\", \"Kenny\"]\n",
    "last_names = [\"Smith\", \"Sakula\"]\n",
    "\n",
    "# Using the join function to create an array\n",
    "arr = np.char.join(\"\", [first_names, last_names])\n",
    "\n",
    "# Using slicing to return first and second arrays\n",
    "arr1 = arr[:,0]\n",
    "arr2 = arr[:,1]\n",
    "\n",
    "arr1, arr2"
   ]
  }
 ],
 "metadata": {
  "kernelspec": {
   "display_name": "Python 3 (ipykernel)",
   "language": "python",
   "name": "python3"
  },
  "language_info": {
   "codemirror_mode": {
    "name": "ipython",
    "version": 3
   },
   "file_extension": ".py",
   "mimetype": "text/x-python",
   "name": "python",
   "nbconvert_exporter": "python",
   "pygments_lexer": "ipython3",
   "version": "3.10.5"
  }
 },
 "nbformat": 4,
 "nbformat_minor": 5
}
