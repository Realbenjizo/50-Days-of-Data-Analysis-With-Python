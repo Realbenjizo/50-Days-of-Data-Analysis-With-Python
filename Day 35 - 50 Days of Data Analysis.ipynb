{
 "cells": [
  {
   "cell_type": "markdown",
   "id": "f8d4c9be",
   "metadata": {},
   "source": [
    "## 1.\t\n",
    "\n",
    "#### Load the dataset using pandas and view the first two rows of the dataset. You want to know how many rows and columns are in the DataFrame; write a code to check the number of rows and columns."
   ]
  },
  {
   "cell_type": "code",
   "execution_count": 1,
   "id": "d2ab00f9",
   "metadata": {},
   "outputs": [
    {
     "data": {
      "text/html": [
       "<div>\n",
       "<style scoped>\n",
       "    .dataframe tbody tr th:only-of-type {\n",
       "        vertical-align: middle;\n",
       "    }\n",
       "\n",
       "    .dataframe tbody tr th {\n",
       "        vertical-align: top;\n",
       "    }\n",
       "\n",
       "    .dataframe thead th {\n",
       "        text-align: right;\n",
       "    }\n",
       "</style>\n",
       "<table border=\"1\" class=\"dataframe\">\n",
       "  <thead>\n",
       "    <tr style=\"text-align: right;\">\n",
       "      <th></th>\n",
       "      <th>Name</th>\n",
       "      <th>Miles Run</th>\n",
       "      <th>Time in hrs</th>\n",
       "      <th>Age</th>\n",
       "      <th>Income</th>\n",
       "      <th>Gender</th>\n",
       "    </tr>\n",
       "  </thead>\n",
       "  <tbody>\n",
       "    <tr>\n",
       "      <th>0</th>\n",
       "      <td>Joe</td>\n",
       "      <td>45.0</td>\n",
       "      <td>40.0</td>\n",
       "      <td>23.0</td>\n",
       "      <td>50000.0</td>\n",
       "      <td>male</td>\n",
       "    </tr>\n",
       "    <tr>\n",
       "      <th>1</th>\n",
       "      <td>Phil</td>\n",
       "      <td>NaN</td>\n",
       "      <td>38.0</td>\n",
       "      <td>44.0</td>\n",
       "      <td>NaN</td>\n",
       "      <td>male</td>\n",
       "    </tr>\n",
       "  </tbody>\n",
       "</table>\n",
       "</div>"
      ],
      "text/plain": [
       "   Name  Miles Run  Time in hrs   Age   Income Gender\n",
       "0   Joe       45.0         40.0  23.0  50000.0   male\n",
       "1  Phil        NaN         38.0  44.0      NaN   male"
      ]
     },
     "execution_count": 1,
     "metadata": {},
     "output_type": "execute_result"
    }
   ],
   "source": [
    "import pandas as pd\n",
    "import numpy as np\n",
    "\n",
    "df = pd.read_csv('runners_and_income_data.csv')\n",
    "df.head(2)"
   ]
  },
  {
   "cell_type": "code",
   "execution_count": 2,
   "id": "a77c0d22",
   "metadata": {},
   "outputs": [
    {
     "name": "stdout",
     "output_type": "stream",
     "text": [
      "The number of rows:  23\n",
      "The number of columns:  6\n"
     ]
    }
   ],
   "source": [
    "print(\"The number of rows: \", df.shape[0])\n",
    "print(\"The number of columns: \", df.shape[1])"
   ]
  },
  {
   "cell_type": "markdown",
   "id": "6a028d41",
   "metadata": {},
   "source": [
    "## 2.\t\n",
    "\n",
    "#### Write a code to check how many NaN values are in the DataFrame. Drop rows that have all NaN values. Replace the remaining NaN values with the value 00.0 (use pandas)."
   ]
  },
  {
   "cell_type": "code",
   "execution_count": 3,
   "id": "bbe97517",
   "metadata": {},
   "outputs": [
    {
     "name": "stdout",
     "output_type": "stream",
     "text": [
      "Number of NaN values:  50\n"
     ]
    }
   ],
   "source": [
    "print(\"Number of NaN values: \", df.isna().sum().sum())"
   ]
  },
  {
   "cell_type": "code",
   "execution_count": 4,
   "id": "ab9ad0d7",
   "metadata": {},
   "outputs": [],
   "source": [
    "# Drop rows with all NaN values\n",
    "df.dropna(axis = 0, how = 'all', inplace = True)"
   ]
  },
  {
   "cell_type": "code",
   "execution_count": 5,
   "id": "60b72b1a",
   "metadata": {},
   "outputs": [],
   "source": [
    "# Replace NaN values with 0.00\n",
    "df.fillna(value= 00.0, inplace = True)"
   ]
  },
  {
   "cell_type": "code",
   "execution_count": 6,
   "id": "d973c0ed",
   "metadata": {},
   "outputs": [
    {
     "name": "stdout",
     "output_type": "stream",
     "text": [
      "Number of NaN values:  0\n"
     ]
    }
   ],
   "source": [
    "print(\"Number of NaN values: \", df.isna().sum().sum())"
   ]
  },
  {
   "cell_type": "code",
   "execution_count": 7,
   "id": "389fddad",
   "metadata": {},
   "outputs": [
    {
     "data": {
      "text/html": [
       "<div>\n",
       "<style scoped>\n",
       "    .dataframe tbody tr th:only-of-type {\n",
       "        vertical-align: middle;\n",
       "    }\n",
       "\n",
       "    .dataframe tbody tr th {\n",
       "        vertical-align: top;\n",
       "    }\n",
       "\n",
       "    .dataframe thead th {\n",
       "        text-align: right;\n",
       "    }\n",
       "</style>\n",
       "<table border=\"1\" class=\"dataframe\">\n",
       "  <thead>\n",
       "    <tr style=\"text-align: right;\">\n",
       "      <th></th>\n",
       "      <th>Name</th>\n",
       "      <th>Miles Run</th>\n",
       "      <th>Time in hrs</th>\n",
       "      <th>Age</th>\n",
       "      <th>Income</th>\n",
       "      <th>Gender</th>\n",
       "    </tr>\n",
       "  </thead>\n",
       "  <tbody>\n",
       "    <tr>\n",
       "      <th>0</th>\n",
       "      <td>Joe</td>\n",
       "      <td>45.0</td>\n",
       "      <td>40.0</td>\n",
       "      <td>23.0</td>\n",
       "      <td>50000.0</td>\n",
       "      <td>male</td>\n",
       "    </tr>\n",
       "    <tr>\n",
       "      <th>1</th>\n",
       "      <td>Phil</td>\n",
       "      <td>0.0</td>\n",
       "      <td>38.0</td>\n",
       "      <td>44.0</td>\n",
       "      <td>0.0</td>\n",
       "      <td>male</td>\n",
       "    </tr>\n",
       "    <tr>\n",
       "      <th>2</th>\n",
       "      <td>Ken</td>\n",
       "      <td>63.0</td>\n",
       "      <td>0.0</td>\n",
       "      <td>56.0</td>\n",
       "      <td>60000.0</td>\n",
       "      <td>female</td>\n",
       "    </tr>\n",
       "    <tr>\n",
       "      <th>3</th>\n",
       "      <td>Jos</td>\n",
       "      <td>36.0</td>\n",
       "      <td>50.0</td>\n",
       "      <td>0.0</td>\n",
       "      <td>75000.0</td>\n",
       "      <td>male</td>\n",
       "    </tr>\n",
       "    <tr>\n",
       "      <th>4</th>\n",
       "      <td>Luke</td>\n",
       "      <td>43.0</td>\n",
       "      <td>50.0</td>\n",
       "      <td>34.0</td>\n",
       "      <td>0.0</td>\n",
       "      <td>female</td>\n",
       "    </tr>\n",
       "  </tbody>\n",
       "</table>\n",
       "</div>"
      ],
      "text/plain": [
       "   Name  Miles Run  Time in hrs   Age   Income  Gender\n",
       "0   Joe       45.0         40.0  23.0  50000.0    male\n",
       "1  Phil        0.0         38.0  44.0      0.0    male\n",
       "2   Ken       63.0          0.0  56.0  60000.0  female\n",
       "3   Jos       36.0         50.0   0.0  75000.0    male\n",
       "4  Luke       43.0         50.0  34.0      0.0  female"
      ]
     },
     "execution_count": 7,
     "metadata": {},
     "output_type": "execute_result"
    }
   ],
   "source": [
    "df.head()"
   ]
  },
  {
   "cell_type": "markdown",
   "id": "be87484b",
   "metadata": {},
   "source": [
    "## 3.\t\n",
    "\n",
    "#### What does the describe() method do? Use describe to return the mean of the \"Miles Run\" column."
   ]
  },
  {
   "cell_type": "code",
   "execution_count": 8,
   "id": "2f7dd7d1",
   "metadata": {},
   "outputs": [
    {
     "data": {
      "text/plain": [
       "29.470588235294116"
      ]
     },
     "execution_count": 8,
     "metadata": {},
     "output_type": "execute_result"
    }
   ],
   "source": [
    "# Mean of the \"Miles Run\" column\n",
    "df.describe()[\"Miles Run\"][\"mean\"]"
   ]
  },
  {
   "cell_type": "markdown",
   "id": "0e8e83ee",
   "metadata": {},
   "source": [
    "## 4.\t\n",
    "\n",
    "#### Using the np.sum, what is the total miles run by all the names in the DataFrame."
   ]
  },
  {
   "cell_type": "code",
   "execution_count": 9,
   "id": "4ba19a2d",
   "metadata": {},
   "outputs": [
    {
     "name": "stdout",
     "output_type": "stream",
     "text": [
      "Total miles run:  501.0\n"
     ]
    }
   ],
   "source": [
    "print(\"Total miles run: \", np.sum(df[\"Miles Run\"]))"
   ]
  },
  {
   "cell_type": "markdown",
   "id": "a1eaff8f",
   "metadata": {},
   "source": [
    "## 5.\t\n",
    "\n",
    "#### How many people have an income of $50000? Return a list of names."
   ]
  },
  {
   "cell_type": "code",
   "execution_count": 10,
   "id": "40da3a60",
   "metadata": {},
   "outputs": [
    {
     "name": "stdout",
     "output_type": "stream",
     "text": [
      "['Joe', 'Teddy', 'Ira']\n"
     ]
    }
   ],
   "source": [
    "# Using query and iloc to filter the DataFrame for names\n",
    "names_of_5000_income = df.query(\"Income== 50000\").iloc[0:,0]\n",
    "print(list(names_of_5000_income))"
   ]
  },
  {
   "cell_type": "markdown",
   "id": "ebd823d5",
   "metadata": {},
   "source": [
    "## 6.\t\n",
    "\n",
    "#### Create a subset of the DataFrame by selecting the last two rows of the dataset. Reset the index and drop the other index column. Save the DataFrame to csv. Name your subset as \"runners_data_modified.csv\". Save it without the index."
   ]
  },
  {
   "cell_type": "code",
   "execution_count": 11,
   "id": "109f0d74",
   "metadata": {},
   "outputs": [
    {
     "data": {
      "text/html": [
       "<div>\n",
       "<style scoped>\n",
       "    .dataframe tbody tr th:only-of-type {\n",
       "        vertical-align: middle;\n",
       "    }\n",
       "\n",
       "    .dataframe tbody tr th {\n",
       "        vertical-align: top;\n",
       "    }\n",
       "\n",
       "    .dataframe thead th {\n",
       "        text-align: right;\n",
       "    }\n",
       "</style>\n",
       "<table border=\"1\" class=\"dataframe\">\n",
       "  <thead>\n",
       "    <tr style=\"text-align: right;\">\n",
       "      <th></th>\n",
       "      <th>Name</th>\n",
       "      <th>Miles Run</th>\n",
       "      <th>Time in hrs</th>\n",
       "      <th>Age</th>\n",
       "      <th>Income</th>\n",
       "      <th>Gender</th>\n",
       "    </tr>\n",
       "  </thead>\n",
       "  <tbody>\n",
       "    <tr>\n",
       "      <th>0</th>\n",
       "      <td>Barack</td>\n",
       "      <td>35.0</td>\n",
       "      <td>40.0</td>\n",
       "      <td>62.0</td>\n",
       "      <td>33000.0</td>\n",
       "      <td>male</td>\n",
       "    </tr>\n",
       "    <tr>\n",
       "      <th>1</th>\n",
       "      <td>Vladamir</td>\n",
       "      <td>44.0</td>\n",
       "      <td>38.0</td>\n",
       "      <td>64.0</td>\n",
       "      <td>53000.0</td>\n",
       "      <td>male</td>\n",
       "    </tr>\n",
       "  </tbody>\n",
       "</table>\n",
       "</div>"
      ],
      "text/plain": [
       "       Name  Miles Run  Time in hrs   Age   Income Gender\n",
       "0    Barack       35.0         40.0  62.0  33000.0   male\n",
       "1  Vladamir       44.0         38.0  64.0  53000.0   male"
      ]
     },
     "execution_count": 11,
     "metadata": {},
     "output_type": "execute_result"
    }
   ],
   "source": [
    "# Accessing the last two rows of the DataFrame\n",
    "df2 = df.tail(2)\n",
    "# Reset the index\n",
    "df2.reset_index(inplace=True, drop= True)\n",
    "df2"
   ]
  },
  {
   "cell_type": "code",
   "execution_count": 12,
   "id": "55834448",
   "metadata": {},
   "outputs": [],
   "source": [
    "df2.to_csv(\"runners_data_modified.csv\", index=False)"
   ]
  }
 ],
 "metadata": {
  "kernelspec": {
   "display_name": "Python 3 (ipykernel)",
   "language": "python",
   "name": "python3"
  },
  "language_info": {
   "codemirror_mode": {
    "name": "ipython",
    "version": 3
   },
   "file_extension": ".py",
   "mimetype": "text/x-python",
   "name": "python",
   "nbconvert_exporter": "python",
   "pygments_lexer": "ipython3",
   "version": "3.10.5"
  }
 },
 "nbformat": 4,
 "nbformat_minor": 5
}
