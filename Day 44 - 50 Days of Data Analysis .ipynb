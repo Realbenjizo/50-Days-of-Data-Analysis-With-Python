{
 "cells": [
  {
   "cell_type": "markdown",
   "id": "796b134b",
   "metadata": {},
   "source": [
    "## 1\n",
    "#### Import the sports data set and write a code to check that check the first five rows to confirm that it has loaded properly. Now, using the pandas iteritems() method return all the names of the columns that values of \"object\" data type.\n",
    "\n",
    "​"
   ]
  },
  {
   "cell_type": "code",
   "execution_count": 1,
   "id": "edb9da17",
   "metadata": {},
   "outputs": [
    {
     "data": {
      "text/html": [
       "<div>\n",
       "<style scoped>\n",
       "    .dataframe tbody tr th:only-of-type {\n",
       "        vertical-align: middle;\n",
       "    }\n",
       "\n",
       "    .dataframe tbody tr th {\n",
       "        vertical-align: top;\n",
       "    }\n",
       "\n",
       "    .dataframe thead th {\n",
       "        text-align: right;\n",
       "    }\n",
       "</style>\n",
       "<table border=\"1\" class=\"dataframe\">\n",
       "  <thead>\n",
       "    <tr style=\"text-align: right;\">\n",
       "      <th></th>\n",
       "      <th>Name</th>\n",
       "      <th>Sport</th>\n",
       "      <th>Goals</th>\n",
       "      <th>Assists</th>\n",
       "      <th>Fouls</th>\n",
       "      <th>Minutes Played</th>\n",
       "      <th>Yellow</th>\n",
       "      <th>Red Cards</th>\n",
       "      <th>Team</th>\n",
       "    </tr>\n",
       "  </thead>\n",
       "  <tbody>\n",
       "    <tr>\n",
       "      <th>0</th>\n",
       "      <td>Alex</td>\n",
       "      <td>Basketball</td>\n",
       "      <td>4</td>\n",
       "      <td>5</td>\n",
       "      <td>8</td>\n",
       "      <td>36</td>\n",
       "      <td>1</td>\n",
       "      <td>0</td>\n",
       "      <td>A</td>\n",
       "    </tr>\n",
       "    <tr>\n",
       "      <th>1</th>\n",
       "      <td>Bob</td>\n",
       "      <td>Soccer</td>\n",
       "      <td>0</td>\n",
       "      <td>2</td>\n",
       "      <td>1</td>\n",
       "      <td>31</td>\n",
       "      <td>0</td>\n",
       "      <td>0</td>\n",
       "      <td>B</td>\n",
       "    </tr>\n",
       "    <tr>\n",
       "      <th>2</th>\n",
       "      <td>Charlie</td>\n",
       "      <td>Basketball</td>\n",
       "      <td>2</td>\n",
       "      <td>2</td>\n",
       "      <td>6</td>\n",
       "      <td>34</td>\n",
       "      <td>1</td>\n",
       "      <td>0</td>\n",
       "      <td>A</td>\n",
       "    </tr>\n",
       "    <tr>\n",
       "      <th>3</th>\n",
       "      <td>David</td>\n",
       "      <td>Soccer</td>\n",
       "      <td>1</td>\n",
       "      <td>7</td>\n",
       "      <td>6</td>\n",
       "      <td>9</td>\n",
       "      <td>0</td>\n",
       "      <td>0</td>\n",
       "      <td>B</td>\n",
       "    </tr>\n",
       "    <tr>\n",
       "      <th>4</th>\n",
       "      <td>Eve</td>\n",
       "      <td>Basketball</td>\n",
       "      <td>8</td>\n",
       "      <td>2</td>\n",
       "      <td>6</td>\n",
       "      <td>29</td>\n",
       "      <td>0</td>\n",
       "      <td>0</td>\n",
       "      <td>A</td>\n",
       "    </tr>\n",
       "  </tbody>\n",
       "</table>\n",
       "</div>"
      ],
      "text/plain": [
       "      Name       Sport  Goals  Assists  Fouls  Minutes Played  Yellow   \n",
       "0     Alex  Basketball      4        5      8              36       1  \\\n",
       "1      Bob      Soccer      0        2      1              31       0   \n",
       "2  Charlie  Basketball      2        2      6              34       1   \n",
       "3    David      Soccer      1        7      6               9       0   \n",
       "4      Eve  Basketball      8        2      6              29       0   \n",
       "\n",
       "   Red Cards Team  \n",
       "0          0    A  \n",
       "1          0    B  \n",
       "2          0    A  \n",
       "3          0    B  \n",
       "4          0    A  "
      ]
     },
     "execution_count": 1,
     "metadata": {},
     "output_type": "execute_result"
    }
   ],
   "source": [
    "import pandas as pd\n",
    "\n",
    "df = pd.read_csv(\"sports_data.csv\")\n",
    "df.head()"
   ]
  },
  {
   "cell_type": "code",
   "execution_count": 2,
   "id": "10c1b2ad",
   "metadata": {},
   "outputs": [
    {
     "name": "stdout",
     "output_type": "stream",
     "text": [
      "['Name', 'Sport', 'Team']\n"
     ]
    }
   ],
   "source": [
    "columns_names = []\n",
    "\n",
    "# Looping over the DataFrame\n",
    "for (columns, values) in df.items():\n",
    "    if values.dtypes == 'object':\n",
    "        columns_names.append(columns)\n",
    "                        \n",
    "print(columns_names)  "
   ]
  },
  {
   "cell_type": "markdown",
   "id": "08b855e7",
   "metadata": {},
   "source": [
    "## 2. \n",
    "\n",
    "#### Using a pandas method check the memory size of the DataFrame using the info() method and the df.memory_usage() method."
   ]
  },
  {
   "cell_type": "code",
   "execution_count": 3,
   "id": "d0998e1f",
   "metadata": {},
   "outputs": [
    {
     "data": {
      "text/plain": [
       "Index              128\n",
       "Name              1235\n",
       "Sport             1300\n",
       "Goals              160\n",
       "Assists            160\n",
       "Fouls              160\n",
       "Minutes Played     160\n",
       "Yellow             160\n",
       "Red Cards          160\n",
       "Team              1160\n",
       "dtype: int64"
      ]
     },
     "execution_count": 3,
     "metadata": {},
     "output_type": "execute_result"
    }
   ],
   "source": [
    "df.memory_usage(deep =True)"
   ]
  },
  {
   "cell_type": "code",
   "execution_count": 4,
   "id": "b0c396c9",
   "metadata": {},
   "outputs": [
    {
     "data": {
      "text/plain": [
       "4.6708984375"
      ]
     },
     "execution_count": 4,
     "metadata": {},
     "output_type": "execute_result"
    }
   ],
   "source": [
    "df.memory_usage(deep = True).sum()/1024"
   ]
  },
  {
   "cell_type": "markdown",
   "id": "ba0818d3",
   "metadata": {},
   "source": [
    "## 3. \n",
    "\n",
    "#### Using pandas convert all the columns with \"object\" data type to \"categorical\" data type. Create a new variable for the DataFrame after conversation. Check the memory size of the resulting DataFrame using info() and df.memory_usage() methods. Compare your results to the results in question 2. What conclusion can you draw?"
   ]
  },
  {
   "cell_type": "code",
   "execution_count": 5,
   "id": "a6cf6c9c",
   "metadata": {},
   "outputs": [
    {
     "data": {
      "text/plain": [
       "Name              category\n",
       "Sport             category\n",
       "Goals                int64\n",
       "Assists              int64\n",
       "Fouls                int64\n",
       "Minutes Played       int64\n",
       "Yellow               int64\n",
       "Red Cards            int64\n",
       "Team              category\n",
       "dtype: object"
      ]
     },
     "execution_count": 5,
     "metadata": {},
     "output_type": "execute_result"
    }
   ],
   "source": [
    "# Changing the data type from object to category\n",
    "df2 = df.astype({\"Name\": \"category\", \"Sport\": \n",
    "                 \"category\",\"Team\": \"category\" })\n",
    "df2.dtypes"
   ]
  },
  {
   "cell_type": "code",
   "execution_count": 6,
   "id": "d899a280",
   "metadata": {},
   "outputs": [
    {
     "data": {
      "text/plain": [
       "Index              128\n",
       "Name              1811\n",
       "Sport              258\n",
       "Goals              160\n",
       "Assists            160\n",
       "Fouls              160\n",
       "Minutes Played     160\n",
       "Yellow             160\n",
       "Red Cards          160\n",
       "Team               244\n",
       "dtype: int64"
      ]
     },
     "execution_count": 6,
     "metadata": {},
     "output_type": "execute_result"
    }
   ],
   "source": [
    "df2.memory_usage(deep = True)"
   ]
  },
  {
   "cell_type": "code",
   "execution_count": 7,
   "id": "68d5bf07",
   "metadata": {},
   "outputs": [
    {
     "data": {
      "text/plain": [
       "3.3212890625"
      ]
     },
     "execution_count": 7,
     "metadata": {},
     "output_type": "execute_result"
    }
   ],
   "source": [
    "df2.memory_usage(deep = True).sum()/1024"
   ]
  },
  {
   "cell_type": "markdown",
   "id": "78291a36",
   "metadata": {},
   "source": [
    "## 4. \n",
    "\n",
    "#### Using pandas method, rename the \"Yellow\" column to \"Yellow Cards\"."
   ]
  },
  {
   "cell_type": "code",
   "execution_count": 8,
   "id": "7fd62f3d",
   "metadata": {},
   "outputs": [
    {
     "data": {
      "text/html": [
       "<div>\n",
       "<style scoped>\n",
       "    .dataframe tbody tr th:only-of-type {\n",
       "        vertical-align: middle;\n",
       "    }\n",
       "\n",
       "    .dataframe tbody tr th {\n",
       "        vertical-align: top;\n",
       "    }\n",
       "\n",
       "    .dataframe thead th {\n",
       "        text-align: right;\n",
       "    }\n",
       "</style>\n",
       "<table border=\"1\" class=\"dataframe\">\n",
       "  <thead>\n",
       "    <tr style=\"text-align: right;\">\n",
       "      <th></th>\n",
       "      <th>Name</th>\n",
       "      <th>Sport</th>\n",
       "      <th>Goals</th>\n",
       "      <th>Assists</th>\n",
       "      <th>Fouls</th>\n",
       "      <th>Minutes Played</th>\n",
       "      <th>Yellow Cards</th>\n",
       "      <th>Red Cards</th>\n",
       "      <th>Team</th>\n",
       "    </tr>\n",
       "  </thead>\n",
       "  <tbody>\n",
       "    <tr>\n",
       "      <th>0</th>\n",
       "      <td>Alex</td>\n",
       "      <td>Basketball</td>\n",
       "      <td>4</td>\n",
       "      <td>5</td>\n",
       "      <td>8</td>\n",
       "      <td>36</td>\n",
       "      <td>1</td>\n",
       "      <td>0</td>\n",
       "      <td>A</td>\n",
       "    </tr>\n",
       "    <tr>\n",
       "      <th>1</th>\n",
       "      <td>Bob</td>\n",
       "      <td>Soccer</td>\n",
       "      <td>0</td>\n",
       "      <td>2</td>\n",
       "      <td>1</td>\n",
       "      <td>31</td>\n",
       "      <td>0</td>\n",
       "      <td>0</td>\n",
       "      <td>B</td>\n",
       "    </tr>\n",
       "    <tr>\n",
       "      <th>2</th>\n",
       "      <td>Charlie</td>\n",
       "      <td>Basketball</td>\n",
       "      <td>2</td>\n",
       "      <td>2</td>\n",
       "      <td>6</td>\n",
       "      <td>34</td>\n",
       "      <td>1</td>\n",
       "      <td>0</td>\n",
       "      <td>A</td>\n",
       "    </tr>\n",
       "    <tr>\n",
       "      <th>3</th>\n",
       "      <td>David</td>\n",
       "      <td>Soccer</td>\n",
       "      <td>1</td>\n",
       "      <td>7</td>\n",
       "      <td>6</td>\n",
       "      <td>9</td>\n",
       "      <td>0</td>\n",
       "      <td>0</td>\n",
       "      <td>B</td>\n",
       "    </tr>\n",
       "    <tr>\n",
       "      <th>4</th>\n",
       "      <td>Eve</td>\n",
       "      <td>Basketball</td>\n",
       "      <td>8</td>\n",
       "      <td>2</td>\n",
       "      <td>6</td>\n",
       "      <td>29</td>\n",
       "      <td>0</td>\n",
       "      <td>0</td>\n",
       "      <td>A</td>\n",
       "    </tr>\n",
       "  </tbody>\n",
       "</table>\n",
       "</div>"
      ],
      "text/plain": [
       "      Name       Sport  Goals  Assists  Fouls  Minutes Played  Yellow Cards   \n",
       "0     Alex  Basketball      4        5      8              36             1  \\\n",
       "1      Bob      Soccer      0        2      1              31             0   \n",
       "2  Charlie  Basketball      2        2      6              34             1   \n",
       "3    David      Soccer      1        7      6               9             0   \n",
       "4      Eve  Basketball      8        2      6              29             0   \n",
       "\n",
       "   Red Cards Team  \n",
       "0          0    A  \n",
       "1          0    B  \n",
       "2          0    A  \n",
       "3          0    B  \n",
       "4          0    A  "
      ]
     },
     "execution_count": 8,
     "metadata": {},
     "output_type": "execute_result"
    }
   ],
   "source": [
    "# Renaming the column from 'Yellow' to 'Yellow Cards'\n",
    "df2 = df2.rename(columns={'Yellow':'Yellow Cards'})\n",
    "df2.head()"
   ]
  },
  {
   "cell_type": "markdown",
   "id": "4375df2e",
   "metadata": {},
   "source": [
    "## 5. \n",
    "\n",
    "#### Using the pandas query() method, create a subset DataFrame of only players that got made over 6 fouls."
   ]
  },
  {
   "cell_type": "code",
   "execution_count": 9,
   "id": "e8f70b4a",
   "metadata": {},
   "outputs": [
    {
     "data": {
      "text/html": [
       "<div>\n",
       "<style scoped>\n",
       "    .dataframe tbody tr th:only-of-type {\n",
       "        vertical-align: middle;\n",
       "    }\n",
       "\n",
       "    .dataframe tbody tr th {\n",
       "        vertical-align: top;\n",
       "    }\n",
       "\n",
       "    .dataframe thead th {\n",
       "        text-align: right;\n",
       "    }\n",
       "</style>\n",
       "<table border=\"1\" class=\"dataframe\">\n",
       "  <thead>\n",
       "    <tr style=\"text-align: right;\">\n",
       "      <th></th>\n",
       "      <th>Name</th>\n",
       "      <th>Sport</th>\n",
       "      <th>Goals</th>\n",
       "      <th>Assists</th>\n",
       "      <th>Fouls</th>\n",
       "      <th>Minutes Played</th>\n",
       "      <th>Yellow Cards</th>\n",
       "      <th>Red Cards</th>\n",
       "      <th>Team</th>\n",
       "    </tr>\n",
       "  </thead>\n",
       "  <tbody>\n",
       "    <tr>\n",
       "      <th>0</th>\n",
       "      <td>Alex</td>\n",
       "      <td>Basketball</td>\n",
       "      <td>4</td>\n",
       "      <td>5</td>\n",
       "      <td>8</td>\n",
       "      <td>36</td>\n",
       "      <td>1</td>\n",
       "      <td>0</td>\n",
       "      <td>A</td>\n",
       "    </tr>\n",
       "    <tr>\n",
       "      <th>1</th>\n",
       "      <td>George</td>\n",
       "      <td>Basketball</td>\n",
       "      <td>5</td>\n",
       "      <td>8</td>\n",
       "      <td>8</td>\n",
       "      <td>3</td>\n",
       "      <td>1</td>\n",
       "      <td>0</td>\n",
       "      <td>A</td>\n",
       "    </tr>\n",
       "    <tr>\n",
       "      <th>2</th>\n",
       "      <td>Harry</td>\n",
       "      <td>Soccer</td>\n",
       "      <td>9</td>\n",
       "      <td>6</td>\n",
       "      <td>8</td>\n",
       "      <td>13</td>\n",
       "      <td>1</td>\n",
       "      <td>0</td>\n",
       "      <td>B</td>\n",
       "    </tr>\n",
       "    <tr>\n",
       "      <th>3</th>\n",
       "      <td>Ivan</td>\n",
       "      <td>Basketball</td>\n",
       "      <td>7</td>\n",
       "      <td>9</td>\n",
       "      <td>8</td>\n",
       "      <td>30</td>\n",
       "      <td>1</td>\n",
       "      <td>0</td>\n",
       "      <td>A</td>\n",
       "    </tr>\n",
       "    <tr>\n",
       "      <th>4</th>\n",
       "      <td>Katie</td>\n",
       "      <td>Basketball</td>\n",
       "      <td>7</td>\n",
       "      <td>8</td>\n",
       "      <td>9</td>\n",
       "      <td>6</td>\n",
       "      <td>0</td>\n",
       "      <td>0</td>\n",
       "      <td>A</td>\n",
       "    </tr>\n",
       "    <tr>\n",
       "      <th>5</th>\n",
       "      <td>Nate</td>\n",
       "      <td>Soccer</td>\n",
       "      <td>0</td>\n",
       "      <td>0</td>\n",
       "      <td>7</td>\n",
       "      <td>44</td>\n",
       "      <td>1</td>\n",
       "      <td>0</td>\n",
       "      <td>B</td>\n",
       "    </tr>\n",
       "    <tr>\n",
       "      <th>6</th>\n",
       "      <td>Olivia</td>\n",
       "      <td>Basketball</td>\n",
       "      <td>3</td>\n",
       "      <td>0</td>\n",
       "      <td>8</td>\n",
       "      <td>5</td>\n",
       "      <td>1</td>\n",
       "      <td>0</td>\n",
       "      <td>A</td>\n",
       "    </tr>\n",
       "  </tbody>\n",
       "</table>\n",
       "</div>"
      ],
      "text/plain": [
       "     Name       Sport  Goals  Assists  Fouls  Minutes Played  Yellow Cards   \n",
       "0    Alex  Basketball      4        5      8              36             1  \\\n",
       "1  George  Basketball      5        8      8               3             1   \n",
       "2   Harry      Soccer      9        6      8              13             1   \n",
       "3    Ivan  Basketball      7        9      8              30             1   \n",
       "4   Katie  Basketball      7        8      9               6             0   \n",
       "5    Nate      Soccer      0        0      7              44             1   \n",
       "6  Olivia  Basketball      3        0      8               5             1   \n",
       "\n",
       "   Red Cards Team  \n",
       "0          0    A  \n",
       "1          0    A  \n",
       "2          0    B  \n",
       "3          0    A  \n",
       "4          0    A  \n",
       "5          0    B  \n",
       "6          0    A  "
      ]
     },
     "execution_count": 9,
     "metadata": {},
     "output_type": "execute_result"
    }
   ],
   "source": [
    "# Using query to filter data by fouls\n",
    "df3 = df2.query(\"Fouls > 6\").reset_index(drop=True)\n",
    "df3"
   ]
  },
  {
   "cell_type": "markdown",
   "id": "b6c80b34",
   "metadata": {},
   "source": [
    "## 6. \n",
    "\n",
    "#### Save the new DataFrame as a CSV file. Give it a name of your choice."
   ]
  },
  {
   "cell_type": "code",
   "execution_count": 10,
   "id": "5f5b1b04",
   "metadata": {},
   "outputs": [],
   "source": [
    "df3.to_csv(\"sports_data_modified.csv\", index=False)"
   ]
  },
  {
   "cell_type": "code",
   "execution_count": null,
   "id": "03042eb6",
   "metadata": {},
   "outputs": [],
   "source": []
  }
 ],
 "metadata": {
  "kernelspec": {
   "display_name": "Python 3 (ipykernel)",
   "language": "python",
   "name": "python3"
  },
  "language_info": {
   "codemirror_mode": {
    "name": "ipython",
    "version": 3
   },
   "file_extension": ".py",
   "mimetype": "text/x-python",
   "name": "python",
   "nbconvert_exporter": "python",
   "pygments_lexer": "ipython3",
   "version": "3.10.5"
  }
 },
 "nbformat": 4,
 "nbformat_minor": 5
}
