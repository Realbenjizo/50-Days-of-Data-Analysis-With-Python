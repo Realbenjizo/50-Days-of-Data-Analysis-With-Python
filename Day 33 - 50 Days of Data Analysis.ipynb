{
 "cells": [
  {
   "cell_type": "markdown",
   "id": "689d080d",
   "metadata": {},
   "source": [
    "## 1. \n",
    "\n",
    "#### Using pandas, import the website_data_analysis.cvs dataset and find the average number of visits per website."
   ]
  },
  {
   "cell_type": "code",
   "execution_count": 1,
   "id": "bd9cd26c",
   "metadata": {},
   "outputs": [
    {
     "data": {
      "text/html": [
       "<div>\n",
       "<style scoped>\n",
       "    .dataframe tbody tr th:only-of-type {\n",
       "        vertical-align: middle;\n",
       "    }\n",
       "\n",
       "    .dataframe tbody tr th {\n",
       "        vertical-align: top;\n",
       "    }\n",
       "\n",
       "    .dataframe thead th {\n",
       "        text-align: right;\n",
       "    }\n",
       "</style>\n",
       "<table border=\"1\" class=\"dataframe\">\n",
       "  <thead>\n",
       "    <tr style=\"text-align: right;\">\n",
       "      <th></th>\n",
       "      <th>website</th>\n",
       "      <th>visits</th>\n",
       "      <th>bounce_rate</th>\n",
       "      <th>conversion_rate</th>\n",
       "      <th>days_of_week</th>\n",
       "      <th>unique_visitors</th>\n",
       "      <th>referral_source</th>\n",
       "      <th>revenue</th>\n",
       "    </tr>\n",
       "  </thead>\n",
       "  <tbody>\n",
       "    <tr>\n",
       "      <th>0</th>\n",
       "      <td>boss.com</td>\n",
       "      <td>5000</td>\n",
       "      <td>20</td>\n",
       "      <td>3.0</td>\n",
       "      <td>Monday</td>\n",
       "      <td>3000</td>\n",
       "      <td>Google</td>\n",
       "      <td>1000</td>\n",
       "    </tr>\n",
       "    <tr>\n",
       "      <th>1</th>\n",
       "      <td>python.com</td>\n",
       "      <td>3500</td>\n",
       "      <td>25</td>\n",
       "      <td>2.0</td>\n",
       "      <td>Tuesday</td>\n",
       "      <td>2800</td>\n",
       "      <td>Facebook</td>\n",
       "      <td>800</td>\n",
       "    </tr>\n",
       "    <tr>\n",
       "      <th>2</th>\n",
       "      <td>wild.com</td>\n",
       "      <td>6000</td>\n",
       "      <td>15</td>\n",
       "      <td>4.0</td>\n",
       "      <td>Wednesday</td>\n",
       "      <td>3900</td>\n",
       "      <td>Twitter</td>\n",
       "      <td>1200</td>\n",
       "    </tr>\n",
       "    <tr>\n",
       "      <th>3</th>\n",
       "      <td>cat.com</td>\n",
       "      <td>4500</td>\n",
       "      <td>30</td>\n",
       "      <td>1.5</td>\n",
       "      <td>Thursday</td>\n",
       "      <td>3500</td>\n",
       "      <td>Instagram</td>\n",
       "      <td>700</td>\n",
       "    </tr>\n",
       "    <tr>\n",
       "      <th>4</th>\n",
       "      <td>kit.com</td>\n",
       "      <td>5500</td>\n",
       "      <td>18</td>\n",
       "      <td>3.5</td>\n",
       "      <td>Friday</td>\n",
       "      <td>3700</td>\n",
       "      <td>Yahoo</td>\n",
       "      <td>1000</td>\n",
       "    </tr>\n",
       "  </tbody>\n",
       "</table>\n",
       "</div>"
      ],
      "text/plain": [
       "      website  visits  bounce_rate  conversion_rate days_of_week   \n",
       "0    boss.com    5000           20              3.0       Monday  \\\n",
       "1  python.com    3500           25              2.0      Tuesday   \n",
       "2    wild.com    6000           15              4.0    Wednesday   \n",
       "3     cat.com    4500           30              1.5     Thursday   \n",
       "4     kit.com    5500           18              3.5       Friday   \n",
       "\n",
       "   unique_visitors referral_source  revenue  \n",
       "0             3000          Google     1000  \n",
       "1             2800        Facebook      800  \n",
       "2             3900         Twitter     1200  \n",
       "3             3500       Instagram      700  \n",
       "4             3700           Yahoo     1000  "
      ]
     },
     "execution_count": 1,
     "metadata": {},
     "output_type": "execute_result"
    }
   ],
   "source": [
    "import pandas as pd\n",
    "\n",
    "df = pd.read_csv(\"website_data_analysis.csv\")\n",
    "df.head()"
   ]
  },
  {
   "cell_type": "code",
   "execution_count": 2,
   "id": "25f9d7fa",
   "metadata": {},
   "outputs": [
    {
     "data": {
      "text/plain": [
       "website\n",
       "Childcare.net       1400.0\n",
       "CodeCrushers.org    2900.0\n",
       "CraftyCorner.com    3000.0\n",
       "FinFit.net          3400.0\n",
       "FoodieFrenzy.com    3200.0\n",
       "Name: visits, dtype: float64"
      ]
     },
     "execution_count": 2,
     "metadata": {},
     "output_type": "execute_result"
    }
   ],
   "source": [
    "df_average_visit_per_site = df.groupby('website')['visits'].mean()\n",
    "df_average_visit_per_site.head()"
   ]
  },
  {
   "cell_type": "markdown",
   "id": "46ee6e5f",
   "metadata": {},
   "source": [
    "## 2.\n",
    "\n",
    "#### Add another column to the DataFrame that calculates the average number of website views per unique visitor."
   ]
  },
  {
   "cell_type": "code",
   "execution_count": 3,
   "id": "57c878ce",
   "metadata": {},
   "outputs": [
    {
     "data": {
      "text/html": [
       "<div>\n",
       "<style scoped>\n",
       "    .dataframe tbody tr th:only-of-type {\n",
       "        vertical-align: middle;\n",
       "    }\n",
       "\n",
       "    .dataframe tbody tr th {\n",
       "        vertical-align: top;\n",
       "    }\n",
       "\n",
       "    .dataframe thead th {\n",
       "        text-align: right;\n",
       "    }\n",
       "</style>\n",
       "<table border=\"1\" class=\"dataframe\">\n",
       "  <thead>\n",
       "    <tr style=\"text-align: right;\">\n",
       "      <th></th>\n",
       "      <th>website</th>\n",
       "      <th>visits</th>\n",
       "      <th>bounce_rate</th>\n",
       "      <th>conversion_rate</th>\n",
       "      <th>days_of_week</th>\n",
       "      <th>unique_visitors</th>\n",
       "      <th>referral_source</th>\n",
       "      <th>revenue</th>\n",
       "      <th>views_per_unique_visit</th>\n",
       "    </tr>\n",
       "  </thead>\n",
       "  <tbody>\n",
       "    <tr>\n",
       "      <th>0</th>\n",
       "      <td>boss.com</td>\n",
       "      <td>5000</td>\n",
       "      <td>20</td>\n",
       "      <td>3.0</td>\n",
       "      <td>Monday</td>\n",
       "      <td>3000</td>\n",
       "      <td>Google</td>\n",
       "      <td>1000</td>\n",
       "      <td>1.666667</td>\n",
       "    </tr>\n",
       "    <tr>\n",
       "      <th>1</th>\n",
       "      <td>python.com</td>\n",
       "      <td>3500</td>\n",
       "      <td>25</td>\n",
       "      <td>2.0</td>\n",
       "      <td>Tuesday</td>\n",
       "      <td>2800</td>\n",
       "      <td>Facebook</td>\n",
       "      <td>800</td>\n",
       "      <td>1.250000</td>\n",
       "    </tr>\n",
       "    <tr>\n",
       "      <th>2</th>\n",
       "      <td>wild.com</td>\n",
       "      <td>6000</td>\n",
       "      <td>15</td>\n",
       "      <td>4.0</td>\n",
       "      <td>Wednesday</td>\n",
       "      <td>3900</td>\n",
       "      <td>Twitter</td>\n",
       "      <td>1200</td>\n",
       "      <td>1.538462</td>\n",
       "    </tr>\n",
       "    <tr>\n",
       "      <th>3</th>\n",
       "      <td>cat.com</td>\n",
       "      <td>4500</td>\n",
       "      <td>30</td>\n",
       "      <td>1.5</td>\n",
       "      <td>Thursday</td>\n",
       "      <td>3500</td>\n",
       "      <td>Instagram</td>\n",
       "      <td>700</td>\n",
       "      <td>1.285714</td>\n",
       "    </tr>\n",
       "    <tr>\n",
       "      <th>4</th>\n",
       "      <td>kit.com</td>\n",
       "      <td>5500</td>\n",
       "      <td>18</td>\n",
       "      <td>3.5</td>\n",
       "      <td>Friday</td>\n",
       "      <td>3700</td>\n",
       "      <td>Yahoo</td>\n",
       "      <td>1000</td>\n",
       "      <td>1.486486</td>\n",
       "    </tr>\n",
       "  </tbody>\n",
       "</table>\n",
       "</div>"
      ],
      "text/plain": [
       "      website  visits  bounce_rate  conversion_rate days_of_week   \n",
       "0    boss.com    5000           20              3.0       Monday  \\\n",
       "1  python.com    3500           25              2.0      Tuesday   \n",
       "2    wild.com    6000           15              4.0    Wednesday   \n",
       "3     cat.com    4500           30              1.5     Thursday   \n",
       "4     kit.com    5500           18              3.5       Friday   \n",
       "\n",
       "   unique_visitors referral_source  revenue  views_per_unique_visit  \n",
       "0             3000          Google     1000                1.666667  \n",
       "1             2800        Facebook      800                1.250000  \n",
       "2             3900         Twitter     1200                1.538462  \n",
       "3             3500       Instagram      700                1.285714  \n",
       "4             3700           Yahoo     1000                1.486486  "
      ]
     },
     "execution_count": 3,
     "metadata": {},
     "output_type": "execute_result"
    }
   ],
   "source": [
    "# Views per unique visitor\n",
    "df[\"views_per_unique_visit\"] = df[\"visits\"] / df[\"unique_visitors\"]\n",
    "df.head()"
   ]
  },
  {
   "cell_type": "markdown",
   "id": "3a8d56bb",
   "metadata": {},
   "source": [
    "## 3. \n",
    "\n",
    "#### Using Matplotlib, create a bar graph to visualize the top 5 websites with the highest number of page views."
   ]
  },
  {
   "cell_type": "code",
   "execution_count": 4,
   "id": "ff07b5cb",
   "metadata": {},
   "outputs": [
    {
     "data": {
      "image/png": "[encoded data removed]",
      "text/plain": [
       "<Figure size 864x576 with 1 Axes>"
      ]
     },
     "metadata": {
      "needs_background": "light"
     },
     "output_type": "display_data"
    }
   ],
   "source": [
    "import matplotlib.pyplot as plt\n",
    "\n",
    "# Sort the website by visits in descending order\n",
    "top_5_websites = df.sort_values(by=\"visits\", ascending=False).head(5)\n",
    "\n",
    "plt.figure(figsize=(12, 8))\n",
    "plt.bar(top_5_websites[\"website\"], top_5_websites[\"visits\"])\n",
    "plt.xlabel(\"Website\")\n",
    "plt.ylabel(\"Visits\")\n",
    "plt.title(\"Top 5 Websites by Visits\", fontsize=20)\n",
    "plt.show()"
   ]
  },
  {
   "cell_type": "markdown",
   "id": "bc6caa88",
   "metadata": {},
   "source": [
    "## 4.\n",
    "\n",
    "#### Using pandas, group the data by the day of the week and find the average bounce rate for each day."
   ]
  },
  {
   "cell_type": "code",
   "execution_count": 5,
   "id": "b2e60326",
   "metadata": {},
   "outputs": [
    {
     "data": {
      "text/plain": [
       "days_of_week\n",
       "Friday       15.666667\n",
       "Monday       21.333333\n",
       "Saturday     16.000000\n",
       "Sunday       18.333333\n",
       "Thursday     20.666667\n",
       "Tuesday      18.000000\n",
       "Wednesday    13.666667\n",
       "Name: bounce_rate, dtype: float64"
      ]
     },
     "execution_count": 5,
     "metadata": {},
     "output_type": "execute_result"
    }
   ],
   "source": [
    "average_bounce_rate_by_day = df.groupby(\"days_of_week\")[\"bounce_rate\"].mean()\n",
    "average_bounce_rate_by_day"
   ]
  },
  {
   "cell_type": "markdown",
   "id": "0862d12b",
   "metadata": {},
   "source": [
    "## 5. \n",
    "\n",
    "#### Using seaborn, create a line plot to show the trend of unique visitors over time."
   ]
  },
  {
   "cell_type": "code",
   "execution_count": 6,
   "id": "48b76688",
   "metadata": {},
   "outputs": [
    {
     "data": {
      "image/png": "[encoded data removed]",
      "text/plain": [
       "<Figure size 864x576 with 1 Axes>"
      ]
     },
     "metadata": {
      "needs_background": "light"
     },
     "output_type": "display_data"
    }
   ],
   "source": [
    "import seaborn as sns\n",
    "\n",
    "# Group data by days of the week\n",
    "df_group = df.groupby('days_of_week')['unique_visitors'].mean()\n",
    "\n",
    "# Plot the data\n",
    "plt.figure(figsize = (12, 8))\n",
    "sns.lineplot(x = df_group.index, y = df_group, data = df_group)\n",
    "plt.xlabel(\"Day of Week\")\n",
    "plt.ylabel(\"Unique Visitors\")\n",
    "plt.title(\"Unique Visitors Over Time\", fontsize = 20)\n",
    "plt.show()"
   ]
  },
  {
   "cell_type": "markdown",
   "id": "4e961525",
   "metadata": {},
   "source": [
    "## 6. \n",
    "\n",
    "#### Using pandas, group the data by \"day_of_week\" and \"referral_source\" columns and find the average number of visits and revenue for each group."
   ]
  },
  {
   "cell_type": "code",
   "execution_count": 7,
   "id": "e18f4cc4",
   "metadata": {},
   "outputs": [
    {
     "data": {
      "text/html": [
       "<div>\n",
       "<style scoped>\n",
       "    .dataframe tbody tr th:only-of-type {\n",
       "        vertical-align: middle;\n",
       "    }\n",
       "\n",
       "    .dataframe tbody tr th {\n",
       "        vertical-align: top;\n",
       "    }\n",
       "\n",
       "    .dataframe thead th {\n",
       "        text-align: right;\n",
       "    }\n",
       "</style>\n",
       "<table border=\"1\" class=\"dataframe\">\n",
       "  <thead>\n",
       "    <tr style=\"text-align: right;\">\n",
       "      <th></th>\n",
       "      <th></th>\n",
       "      <th>visits</th>\n",
       "      <th>revenue</th>\n",
       "    </tr>\n",
       "    <tr>\n",
       "      <th>days_of_week</th>\n",
       "      <th>referral_source</th>\n",
       "      <th></th>\n",
       "      <th></th>\n",
       "    </tr>\n",
       "  </thead>\n",
       "  <tbody>\n",
       "    <tr>\n",
       "      <th rowspan=\"2\" valign=\"top\">Friday</th>\n",
       "      <th>Instagram</th>\n",
       "      <td>2100.0</td>\n",
       "      <td>1450.0</td>\n",
       "    </tr>\n",
       "    <tr>\n",
       "      <th>Yahoo</th>\n",
       "      <td>5500.0</td>\n",
       "      <td>1000.0</td>\n",
       "    </tr>\n",
       "    <tr>\n",
       "      <th rowspan=\"3\" valign=\"top\">Monday</th>\n",
       "      <th>Google</th>\n",
       "      <td>5000.0</td>\n",
       "      <td>1000.0</td>\n",
       "    </tr>\n",
       "    <tr>\n",
       "      <th>Instagram</th>\n",
       "      <td>2600.0</td>\n",
       "      <td>700.0</td>\n",
       "    </tr>\n",
       "    <tr>\n",
       "      <th>Reddit</th>\n",
       "      <td>3200.0</td>\n",
       "      <td>900.0</td>\n",
       "    </tr>\n",
       "  </tbody>\n",
       "</table>\n",
       "</div>"
      ],
      "text/plain": [
       "                              visits  revenue\n",
       "days_of_week referral_source                 \n",
       "Friday       Instagram        2100.0   1450.0\n",
       "             Yahoo            5500.0   1000.0\n",
       "Monday       Google           5000.0   1000.0\n",
       "             Instagram        2600.0    700.0\n",
       "             Reddit           3200.0    900.0"
      ]
     },
     "execution_count": 7,
     "metadata": {},
     "output_type": "execute_result"
    }
   ],
   "source": [
    "grouped_df = df.groupby(['days_of_week','referral_source'])[['visits','revenue']].mean()\n",
    "grouped_df.head()"
   ]
  },
  {
   "cell_type": "markdown",
   "id": "c07c88c4",
   "metadata": {},
   "source": [
    "### 7\n",
    "\n",
    "#### Using pandas, calculate the revenue rate for each referral source and create a pie chart to visualize the breakdown of revenue rate by referral source. Which referral source brought it the most revenue?"
   ]
  },
  {
   "cell_type": "code",
   "execution_count": 8,
   "id": "a1890006",
   "metadata": {},
   "outputs": [
    {
     "data": {
      "image/png": "[encoded data removed]",
      "text/plain": [
       "<Figure size 864x576 with 1 Axes>"
      ]
     },
     "metadata": {},
     "output_type": "display_data"
    }
   ],
   "source": [
    "# Creating a new column for revenue per referral source\n",
    "df[\"revenue_rate%\"]= (df[\"revenue\"]/(sum(df[\"revenue\"])))*100\n",
    "\n",
    "# Grouping data revenue % by referral source and summing it up\n",
    "group_data = df.groupby(\"referral_source\")[\"revenue_rate%\"].sum()\n",
    "\n",
    "# Plotting with pandas and matplotlib\n",
    "plt.figure(figsize=(12, 8))\n",
    "group_data.plot.pie(autopct='%.1f%%')\n",
    "plt.title(\"Revenue Rate by Referral Source\", fontsize = 20)\n",
    "plt.show()"
   ]
  },
  {
   "cell_type": "code",
   "execution_count": null,
   "id": "c0f91982",
   "metadata": {},
   "outputs": [],
   "source": []
  }
 ],
 "metadata": {
  "kernelspec": {
   "display_name": "Python 3 (ipykernel)",
   "language": "python",
   "name": "python3"
  },
  "language_info": {
   "codemirror_mode": {
    "name": "ipython",
    "version": 3
   },
   "file_extension": ".py",
   "mimetype": "text/x-python",
   "name": "python",
   "nbconvert_exporter": "python",
   "pygments_lexer": "ipython3",
   "version": "3.10.5"
  }
 },
 "nbformat": 4,
 "nbformat_minor": 5
}
