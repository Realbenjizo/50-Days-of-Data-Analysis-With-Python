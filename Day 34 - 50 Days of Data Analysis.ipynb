{
 "cells": [
  {
   "cell_type": "markdown",
   "id": "3a54caa9",
   "metadata": {},
   "source": [
    "## 1.\n",
    "\n",
    "#### Using pandas, write a code to display only 5 rows from the data. How many males and females are in the Dataset?"
   ]
  },
  {
   "cell_type": "code",
   "execution_count": 1,
   "id": "8a898d0d",
   "metadata": {},
   "outputs": [
    {
     "data": {
      "text/html": [
       "<div>\n",
       "<style scoped>\n",
       "    .dataframe tbody tr th:only-of-type {\n",
       "        vertical-align: middle;\n",
       "    }\n",
       "\n",
       "    .dataframe tbody tr th {\n",
       "        vertical-align: top;\n",
       "    }\n",
       "\n",
       "    .dataframe thead th {\n",
       "        text-align: right;\n",
       "    }\n",
       "</style>\n",
       "<table border=\"1\" class=\"dataframe\">\n",
       "  <thead>\n",
       "    <tr style=\"text-align: right;\">\n",
       "      <th></th>\n",
       "      <th>Name</th>\n",
       "      <th>Age</th>\n",
       "      <th>Height</th>\n",
       "      <th>Gender</th>\n",
       "      <th>Income</th>\n",
       "    </tr>\n",
       "  </thead>\n",
       "  <tbody>\n",
       "    <tr>\n",
       "      <th>0</th>\n",
       "      <td>Alice</td>\n",
       "      <td>25</td>\n",
       "      <td>5.5</td>\n",
       "      <td>F</td>\n",
       "      <td>30000</td>\n",
       "    </tr>\n",
       "    <tr>\n",
       "      <th>1</th>\n",
       "      <td>Bob</td>\n",
       "      <td>35</td>\n",
       "      <td>5.9</td>\n",
       "      <td>M</td>\n",
       "      <td>40000</td>\n",
       "    </tr>\n",
       "    <tr>\n",
       "      <th>2</th>\n",
       "      <td>Charlie</td>\n",
       "      <td>45</td>\n",
       "      <td>6.2</td>\n",
       "      <td>M</td>\n",
       "      <td>50000</td>\n",
       "    </tr>\n",
       "    <tr>\n",
       "      <th>3</th>\n",
       "      <td>Debbie</td>\n",
       "      <td>55</td>\n",
       "      <td>6.6</td>\n",
       "      <td>F</td>\n",
       "      <td>60000</td>\n",
       "    </tr>\n",
       "    <tr>\n",
       "      <th>4</th>\n",
       "      <td>Edward</td>\n",
       "      <td>65</td>\n",
       "      <td>6.1</td>\n",
       "      <td>M</td>\n",
       "      <td>70000</td>\n",
       "    </tr>\n",
       "  </tbody>\n",
       "</table>\n",
       "</div>"
      ],
      "text/plain": [
       "       Name  Age  Height Gender  Income\n",
       "0     Alice   25     5.5      F   30000\n",
       "1       Bob   35     5.9      M   40000\n",
       "2  Charlie    45     6.2      M   50000\n",
       "3    Debbie   55     6.6      F   60000\n",
       "4    Edward   65     6.1      M   70000"
      ]
     },
     "execution_count": 1,
     "metadata": {},
     "output_type": "execute_result"
    }
   ],
   "source": [
    "import pandas as pd\n",
    "\n",
    "df = pd.read_csv(\"Income_data.csv\")\n",
    "df.head()"
   ]
  },
  {
   "cell_type": "code",
   "execution_count": 2,
   "id": "a5367c07",
   "metadata": {},
   "outputs": [
    {
     "data": {
      "text/plain": [
       "Gender\n",
       "M    6\n",
       "F    4\n",
       "Name: count, dtype: int64"
      ]
     },
     "execution_count": 2,
     "metadata": {},
     "output_type": "execute_result"
    }
   ],
   "source": [
    "df[\"Gender\"].value_counts()"
   ]
  },
  {
   "cell_type": "markdown",
   "id": "f1f0f043",
   "metadata": {},
   "source": [
    "## 2. \n",
    "\n",
    "#### What is Edward’s height?"
   ]
  },
  {
   "cell_type": "code",
   "execution_count": 8,
   "id": "a206a369",
   "metadata": {},
   "outputs": [
    {
     "name": "stdout",
     "output_type": "stream",
     "text": [
      "Edward's height: 6.1\n"
     ]
    }
   ],
   "source": [
    "# Find the index for Edward\n",
    "index_edward = df[df[\"Name\"]==\"Edward\"].index\n",
    "\n",
    "# Use index to find Edward's height\n",
    "edward_height = df.loc[index_edward, \"Height\"]\n",
    "print(\"Edward's height:\", float(edward_height.iloc[0]))"
   ]
  },
  {
   "cell_type": "markdown",
   "id": "ae5529e9",
   "metadata": {},
   "source": [
    "## 3. \n",
    "\n",
    "#### Write another code to create a DataFrame of only female names from the DataFrame above."
   ]
  },
  {
   "cell_type": "code",
   "execution_count": 9,
   "id": "f15e1099",
   "metadata": {},
   "outputs": [
    {
     "data": {
      "text/html": [
       "<div>\n",
       "<style scoped>\n",
       "    .dataframe tbody tr th:only-of-type {\n",
       "        vertical-align: middle;\n",
       "    }\n",
       "\n",
       "    .dataframe tbody tr th {\n",
       "        vertical-align: top;\n",
       "    }\n",
       "\n",
       "    .dataframe thead th {\n",
       "        text-align: right;\n",
       "    }\n",
       "</style>\n",
       "<table border=\"1\" class=\"dataframe\">\n",
       "  <thead>\n",
       "    <tr style=\"text-align: right;\">\n",
       "      <th></th>\n",
       "      <th>Name</th>\n",
       "      <th>Age</th>\n",
       "      <th>Height</th>\n",
       "      <th>Gender</th>\n",
       "      <th>Income</th>\n",
       "    </tr>\n",
       "  </thead>\n",
       "  <tbody>\n",
       "    <tr>\n",
       "      <th>0</th>\n",
       "      <td>Alice</td>\n",
       "      <td>25</td>\n",
       "      <td>5.5</td>\n",
       "      <td>F</td>\n",
       "      <td>30000</td>\n",
       "    </tr>\n",
       "    <tr>\n",
       "      <th>1</th>\n",
       "      <td>Debbie</td>\n",
       "      <td>55</td>\n",
       "      <td>6.6</td>\n",
       "      <td>F</td>\n",
       "      <td>60000</td>\n",
       "    </tr>\n",
       "    <tr>\n",
       "      <th>2</th>\n",
       "      <td>Greta</td>\n",
       "      <td>76</td>\n",
       "      <td>6.3</td>\n",
       "      <td>F</td>\n",
       "      <td>90000</td>\n",
       "    </tr>\n",
       "    <tr>\n",
       "      <th>3</th>\n",
       "      <td>Ivy</td>\n",
       "      <td>60</td>\n",
       "      <td>6.7</td>\n",
       "      <td>F</td>\n",
       "      <td>110000</td>\n",
       "    </tr>\n",
       "  </tbody>\n",
       "</table>\n",
       "</div>"
      ],
      "text/plain": [
       "     Name  Age  Height Gender  Income\n",
       "0   Alice   25     5.5      F   30000\n",
       "1  Debbie   55     6.6      F   60000\n",
       "2   Greta   76     6.3      F   90000\n",
       "3     Ivy   60     6.7      F  110000"
      ]
     },
     "execution_count": 9,
     "metadata": {},
     "output_type": "execute_result"
    }
   ],
   "source": [
    "# Using query to filter the DataFrame \n",
    "df_females = df.query('Gender == \"F\"')\n",
    "\n",
    "#Resetting the index\n",
    "df_females.reset_index(inplace=True, drop=True)\n",
    "df_females"
   ]
  },
  {
   "cell_type": "markdown",
   "id": "36290d13",
   "metadata": {},
   "source": [
    "## 4. \n",
    "\n",
    "#### What is the average income per female."
   ]
  },
  {
   "cell_type": "code",
   "execution_count": 10,
   "id": "e60c898d",
   "metadata": {},
   "outputs": [
    {
     "name": "stdout",
     "output_type": "stream",
     "text": [
      "The average female income is 72500.0\n"
     ]
    }
   ],
   "source": [
    "# Filtering the Dataframe and calculating mean()\n",
    "ave_income_female = df[df['Gender'] == 'F']['Income'].mean()\n",
    "print(f'The average female income is', ave_income_female)"
   ]
  },
  {
   "cell_type": "markdown",
   "id": "96dd4ef8",
   "metadata": {},
   "source": [
    "## 5.\t\n",
    "\n",
    "####  Your boss suspects that there is a correlation between the person's age and their income. She asks you to create a plot to show this correlation. Using Pandas and Matplotlib, create a scatter plot of age against income."
   ]
  },
  {
   "cell_type": "code",
   "execution_count": 11,
   "id": "3e8cc2dc",
   "metadata": {},
   "outputs": [
    {
     "data": {
      "image/png": "[encoded data removed]",
      "text/plain": [
       "<Figure size 864x576 with 1 Axes>"
      ]
     },
     "metadata": {
      "needs_background": "light"
     },
     "output_type": "display_data"
    }
   ],
   "source": [
    "import matplotlib.pyplot as plt\n",
    "\n",
    "df.plot(x='Age', y='Income',\n",
    "        kind='scatter', \n",
    "        figsize=(12, 8))\n",
    "\n",
    "plt.title(\"Correlation Between Income and Age\", fontsize = 20)\n",
    "plt.show()"
   ]
  },
  {
   "cell_type": "markdown",
   "id": "8ffc4a45",
   "metadata": {},
   "source": [
    "## 6. \n",
    "\n",
    "#### What is the average income of males over 50 compared to average salary of females over 50. Plot a bar plot using Matplotlib."
   ]
  },
  {
   "cell_type": "code",
   "execution_count": 13,
   "id": "aa53ab60",
   "metadata": {},
   "outputs": [
    {
     "name": "stdout",
     "output_type": "stream",
     "text": [
      "Average income for males over 50 is 92500.0\n",
      "Average income for females over 50 is 86666.66666666667\n"
     ]
    },
    {
     "data": {
      "image/png": "[encoded data removed]",
      "text/plain": [
       "<Figure size 864x576 with 1 Axes>"
      ]
     },
     "metadata": {
      "needs_background": "light"
     },
     "output_type": "display_data"
    }
   ],
   "source": [
    "# Filter the Dataframe and calculate mean\n",
    "male_over_50 = df[(df['Gender'] == 'M') & (df['Age'] > 50)]['Income'].mean()\n",
    "female_over_50 = df[(df['Gender'] == 'F') & (df['Age'] > 50)]['Income'].mean()\n",
    "\n",
    "print('Average income for males over 50 is', male_over_50)\n",
    "print('Average income for females over 50 is', female_over_50)\n",
    "\n",
    "# Creating a DataFrame of females and males ave income\n",
    "data = {'Gender': ['Male', 'Female'],\n",
    "        'Income': [male_over_50, female_over_50]}\n",
    "\n",
    "\n",
    "# Plotting data\n",
    "bar_df = pd.DataFrame(data)\n",
    "bar_df.plot(x='Gender', y='Income', kind='bar', \n",
    "            figsize=(12, 8))\n",
    "\n",
    "plt.title(\"Average Income Per Gender\", fontsize = 20)\n",
    "plt.legend(loc='upper center')\n",
    "plt.show()"
   ]
  },
  {
   "cell_type": "code",
   "execution_count": null,
   "id": "502e7727",
   "metadata": {},
   "outputs": [],
   "source": []
  }
 ],
 "metadata": {
  "kernelspec": {
   "display_name": "Python 3 (ipykernel)",
   "language": "python",
   "name": "python3"
  },
  "language_info": {
   "codemirror_mode": {
    "name": "ipython",
    "version": 3
   },
   "file_extension": ".py",
   "mimetype": "text/x-python",
   "name": "python",
   "nbconvert_exporter": "python",
   "pygments_lexer": "ipython3",
   "version": "3.10.5"
  }
 },
 "nbformat": 4,
 "nbformat_minor": 5
}
