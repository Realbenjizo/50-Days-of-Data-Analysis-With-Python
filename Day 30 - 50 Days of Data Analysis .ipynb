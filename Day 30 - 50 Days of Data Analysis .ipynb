{
 "cells": [
  {
   "cell_type": "markdown",
   "id": "4561a571",
   "metadata": {},
   "source": [
    "## 1\n",
    "\n",
    "#### Import the furniture_data data file using pandas. Check the length of the DataFrame. Find the sum of duplicates in the \"Product\" column. Using the pandas pivot_table() function, return a table that shows how many times each product appears in the \"Product\" column. This table will reveal which products are duplicated."
   ]
  },
  {
   "cell_type": "code",
   "execution_count": 1,
   "id": "e90f012c",
   "metadata": {},
   "outputs": [
    {
     "data": {
      "text/html": [
       "<div>\n",
       "<style scoped>\n",
       "    .dataframe tbody tr th:only-of-type {\n",
       "        vertical-align: middle;\n",
       "    }\n",
       "\n",
       "    .dataframe tbody tr th {\n",
       "        vertical-align: top;\n",
       "    }\n",
       "\n",
       "    .dataframe thead th {\n",
       "        text-align: right;\n",
       "    }\n",
       "</style>\n",
       "<table border=\"1\" class=\"dataframe\">\n",
       "  <thead>\n",
       "    <tr style=\"text-align: right;\">\n",
       "      <th></th>\n",
       "      <th>Product</th>\n",
       "      <th>Sale Price</th>\n",
       "      <th>Cost per Product</th>\n",
       "      <th>Quantity</th>\n",
       "      <th>Total Revenue</th>\n",
       "    </tr>\n",
       "  </thead>\n",
       "  <tbody>\n",
       "    <tr>\n",
       "      <th>0</th>\n",
       "      <td>Sofa</td>\n",
       "      <td>800</td>\n",
       "      <td>600</td>\n",
       "      <td>32</td>\n",
       "      <td>25600</td>\n",
       "    </tr>\n",
       "    <tr>\n",
       "      <th>1</th>\n",
       "      <td>Chair</td>\n",
       "      <td>300</td>\n",
       "      <td>200</td>\n",
       "      <td>12</td>\n",
       "      <td>3600</td>\n",
       "    </tr>\n",
       "    <tr>\n",
       "      <th>2</th>\n",
       "      <td>Table</td>\n",
       "      <td>500</td>\n",
       "      <td>300</td>\n",
       "      <td>41</td>\n",
       "      <td>20500</td>\n",
       "    </tr>\n",
       "    <tr>\n",
       "      <th>3</th>\n",
       "      <td>Bed</td>\n",
       "      <td>1000</td>\n",
       "      <td>700</td>\n",
       "      <td>23</td>\n",
       "      <td>23000</td>\n",
       "    </tr>\n",
       "    <tr>\n",
       "      <th>4</th>\n",
       "      <td>Wardrobe</td>\n",
       "      <td>800</td>\n",
       "      <td>600</td>\n",
       "      <td>19</td>\n",
       "      <td>15200</td>\n",
       "    </tr>\n",
       "  </tbody>\n",
       "</table>\n",
       "</div>"
      ],
      "text/plain": [
       "    Product  Sale Price  Cost per Product  Quantity  Total Revenue\n",
       "0      Sofa         800               600        32          25600\n",
       "1     Chair         300               200        12           3600\n",
       "2     Table         500               300        41          20500\n",
       "3       Bed        1000               700        23          23000\n",
       "4  Wardrobe         800               600        19          15200"
      ]
     },
     "execution_count": 1,
     "metadata": {},
     "output_type": "execute_result"
    }
   ],
   "source": [
    "import pandas as pd \n",
    "\n",
    "df = pd.read_csv(\"furniture_data.csv\")\n",
    "df.head()"
   ]
  },
  {
   "cell_type": "code",
   "execution_count": 2,
   "id": "55b4226a",
   "metadata": {},
   "outputs": [
    {
     "data": {
      "text/plain": [
       "16"
      ]
     },
     "execution_count": 2,
     "metadata": {},
     "output_type": "execute_result"
    }
   ],
   "source": [
    "# Finding length of the DataFrame\n",
    "len(df)"
   ]
  },
  {
   "cell_type": "code",
   "execution_count": 3,
   "id": "1fc2091d",
   "metadata": {},
   "outputs": [
    {
     "data": {
      "text/plain": [
       "6"
      ]
     },
     "execution_count": 3,
     "metadata": {},
     "output_type": "execute_result"
    }
   ],
   "source": [
    "df.Product.duplicated().sum()"
   ]
  },
  {
   "cell_type": "code",
   "execution_count": 4,
   "id": "43895d21",
   "metadata": {},
   "outputs": [
    {
     "name": "stdout",
     "output_type": "stream",
     "text": [
      "Product\n",
      "Bed             1\n",
      "Bookshelf       2\n",
      "Chair           1\n",
      "Coffee Table    2\n",
      "Dresser         2\n",
      "Ottoman         2\n",
      "Rug             2\n",
      "Sofa            1\n",
      "Table           1\n",
      "Wardrobe        2\n",
      "dtype: int64\n"
     ]
    }
   ],
   "source": [
    "# Counting duplicates in the product column\n",
    "df_duplicates = df.pivot_table(index = ['Product'], aggfunc ='size')\n",
    "print(df_duplicates)"
   ]
  },
  {
   "cell_type": "markdown",
   "id": "71e6a162",
   "metadata": {},
   "source": [
    "## 2. \n",
    "\n",
    "#### Use Seaborn regplot() to fit a linear regression model and visualize the relationship between the price of each item and total revenue."
   ]
  },
  {
   "cell_type": "code",
   "execution_count": 5,
   "id": "24c1f1c1",
   "metadata": {},
   "outputs": [
    {
     "data": {
      "image/png": "[encoded data removed]",
      "text/plain": [
       "<Figure size 1080x720 with 1 Axes>"
      ]
     },
     "metadata": {
      "needs_background": "light"
     },
     "output_type": "display_data"
    }
   ],
   "source": [
    "import matplotlib.pyplot as plt\n",
    "import seaborn as sns\n",
    "\n",
    "\n",
    "fig = plt.figure(figsize=(15, 10))\n",
    "sns.regplot(x=df[\"Sale Price\"],\n",
    "            y=df[\"Total Revenue\"],\n",
    "            data=df)\n",
    "\n",
    "plt.title(\"Relationship Between Sale Price and Total Revenue\", fontsize= 20)\n",
    "plt.show()"
   ]
  },
  {
   "cell_type": "markdown",
   "id": "6aefb45d",
   "metadata": {},
   "source": [
    "## 3.\n",
    "\n",
    "#### What is the difference in revenue between wardrobes and beds?"
   ]
  },
  {
   "cell_type": "code",
   "execution_count": 6,
   "id": "0f269fcd",
   "metadata": {},
   "outputs": [
    {
     "name": "stdout",
     "output_type": "stream",
     "text": [
      "2600\n"
     ]
    }
   ],
   "source": [
    "# Grouping data by product and summing the total revenue column\n",
    "df_group = df.groupby(\"Product\")[\"Total Revenue\"].sum()\n",
    "\n",
    "# Calculating the difference\n",
    "wardrobes_less_bed_revenue = df_group.Wardrobe -  df_group.Bed \n",
    "print(wardrobes_less_bed_revenue)"
   ]
  },
  {
   "cell_type": "markdown",
   "id": "71ad56bf",
   "metadata": {},
   "source": [
    "Another way"
   ]
  },
  {
   "cell_type": "code",
   "execution_count": 7,
   "id": "ba7a5816",
   "metadata": {},
   "outputs": [
    {
     "name": "stdout",
     "output_type": "stream",
     "text": [
      "2600\n"
     ]
    }
   ],
   "source": [
    "# using loc to locate wardrobe and bed\n",
    "wardrobes_revenue = df.loc[df[\"Product\"] == \"Wardrobe\",\"Total Revenue\"].sum()  \n",
    "beds_revenue = df.loc[df[\"Product\"] == \"Bed\",\"Total Revenue\"].sum()\n",
    "print(wardrobes_revenue - beds_revenue)"
   ]
  },
  {
   "cell_type": "markdown",
   "id": "729e8bbc",
   "metadata": {},
   "source": [
    "## 4. \n",
    "\n",
    "#### Calculate the \"Total_Cost\" column and insert it in the DataFrame between the \"Quantity\" and \"Total Revenue.\". Use the pandas insert() function."
   ]
  },
  {
   "cell_type": "code",
   "execution_count": 8,
   "id": "dc63dd02",
   "metadata": {},
   "outputs": [
    {
     "data": {
      "text/html": [
       "<div>\n",
       "<style scoped>\n",
       "    .dataframe tbody tr th:only-of-type {\n",
       "        vertical-align: middle;\n",
       "    }\n",
       "\n",
       "    .dataframe tbody tr th {\n",
       "        vertical-align: top;\n",
       "    }\n",
       "\n",
       "    .dataframe thead th {\n",
       "        text-align: right;\n",
       "    }\n",
       "</style>\n",
       "<table border=\"1\" class=\"dataframe\">\n",
       "  <thead>\n",
       "    <tr style=\"text-align: right;\">\n",
       "      <th></th>\n",
       "      <th>Product</th>\n",
       "      <th>Sale Price</th>\n",
       "      <th>Cost per Product</th>\n",
       "      <th>Quantity</th>\n",
       "      <th>Total_Costs</th>\n",
       "      <th>Total Revenue</th>\n",
       "    </tr>\n",
       "  </thead>\n",
       "  <tbody>\n",
       "    <tr>\n",
       "      <th>0</th>\n",
       "      <td>Sofa</td>\n",
       "      <td>800</td>\n",
       "      <td>600</td>\n",
       "      <td>32</td>\n",
       "      <td>19200</td>\n",
       "      <td>25600</td>\n",
       "    </tr>\n",
       "    <tr>\n",
       "      <th>1</th>\n",
       "      <td>Chair</td>\n",
       "      <td>300</td>\n",
       "      <td>200</td>\n",
       "      <td>12</td>\n",
       "      <td>2400</td>\n",
       "      <td>3600</td>\n",
       "    </tr>\n",
       "    <tr>\n",
       "      <th>2</th>\n",
       "      <td>Table</td>\n",
       "      <td>500</td>\n",
       "      <td>300</td>\n",
       "      <td>41</td>\n",
       "      <td>12300</td>\n",
       "      <td>20500</td>\n",
       "    </tr>\n",
       "    <tr>\n",
       "      <th>3</th>\n",
       "      <td>Bed</td>\n",
       "      <td>1000</td>\n",
       "      <td>700</td>\n",
       "      <td>23</td>\n",
       "      <td>16100</td>\n",
       "      <td>23000</td>\n",
       "    </tr>\n",
       "    <tr>\n",
       "      <th>4</th>\n",
       "      <td>Wardrobe</td>\n",
       "      <td>800</td>\n",
       "      <td>600</td>\n",
       "      <td>19</td>\n",
       "      <td>11400</td>\n",
       "      <td>15200</td>\n",
       "    </tr>\n",
       "  </tbody>\n",
       "</table>\n",
       "</div>"
      ],
      "text/plain": [
       "    Product  Sale Price  Cost per Product  Quantity  Total_Costs   \n",
       "0      Sofa         800               600        32        19200  \\\n",
       "1     Chair         300               200        12         2400   \n",
       "2     Table         500               300        41        12300   \n",
       "3       Bed        1000               700        23        16100   \n",
       "4  Wardrobe         800               600        19        11400   \n",
       "\n",
       "   Total Revenue  \n",
       "0          25600  \n",
       "1           3600  \n",
       "2          20500  \n",
       "3          23000  \n",
       "4          15200  "
      ]
     },
     "execution_count": 8,
     "metadata": {},
     "output_type": "execute_result"
    }
   ],
   "source": [
    "# Calculating the total costs\n",
    "Total_Costs = df[\"Cost per Product\"] * df[\"Quantity\"]\n",
    "\n",
    "# Using insert to insert column on index 4\n",
    "df.insert(4, 'Total_Costs', Total_Costs)\n",
    "df.head()"
   ]
  },
  {
   "cell_type": "markdown",
   "id": "54879314",
   "metadata": {},
   "source": [
    "## 5.\n",
    "\n",
    "#### Which product has the least profit margin?"
   ]
  },
  {
   "cell_type": "code",
   "execution_count": 9,
   "id": "5c9761c8",
   "metadata": {},
   "outputs": [
    {
     "data": {
      "text/html": [
       "<div>\n",
       "<style scoped>\n",
       "    .dataframe tbody tr th:only-of-type {\n",
       "        vertical-align: middle;\n",
       "    }\n",
       "\n",
       "    .dataframe tbody tr th {\n",
       "        vertical-align: top;\n",
       "    }\n",
       "\n",
       "    .dataframe thead th {\n",
       "        text-align: right;\n",
       "    }\n",
       "</style>\n",
       "<table border=\"1\" class=\"dataframe\">\n",
       "  <thead>\n",
       "    <tr style=\"text-align: right;\">\n",
       "      <th></th>\n",
       "      <th>Total Revenue</th>\n",
       "      <th>Profit</th>\n",
       "      <th>Profit_Margin</th>\n",
       "    </tr>\n",
       "    <tr>\n",
       "      <th>Product</th>\n",
       "      <th></th>\n",
       "      <th></th>\n",
       "      <th></th>\n",
       "    </tr>\n",
       "  </thead>\n",
       "  <tbody>\n",
       "    <tr>\n",
       "      <th>Dresser</th>\n",
       "      <td>53400</td>\n",
       "      <td>8900</td>\n",
       "      <td>16.666667</td>\n",
       "    </tr>\n",
       "  </tbody>\n",
       "</table>\n",
       "</div>"
      ],
      "text/plain": [
       "         Total Revenue  Profit  Profit_Margin\n",
       "Product                                      \n",
       "Dresser          53400    8900      16.666667"
      ]
     },
     "execution_count": 9,
     "metadata": {},
     "output_type": "execute_result"
    }
   ],
   "source": [
    "# Calculating the profit for each product\n",
    "df[\"Profit\"] = df[\"Total Revenue\"] - df[\"Total_Costs\"]\n",
    "\n",
    "# Grouping data by product and summing revenue and profit\n",
    "df_group = df.groupby(\"Product\")[[\"Total Revenue\",\"Profit\"]].sum()\n",
    "\n",
    "# Calculating profit margin for each product\n",
    "df_group[\"Profit_Margin\"] = (df_group[\"Profit\"]/df_group[\"Total Revenue\"])*100\n",
    "\n",
    "# Sorting data by profit margin and returning the first product\n",
    "df_group.sort_values(by=\"Profit_Margin\", ascending=True).head(1)"
   ]
  },
  {
   "cell_type": "code",
   "execution_count": null,
   "id": "7f3c1f95",
   "metadata": {},
   "outputs": [],
   "source": []
  }
 ],
 "metadata": {
  "kernelspec": {
   "display_name": "Python 3 (ipykernel)",
   "language": "python",
   "name": "python3"
  },
  "language_info": {
   "codemirror_mode": {
    "name": "ipython",
    "version": 3
   },
   "file_extension": ".py",
   "mimetype": "text/x-python",
   "name": "python",
   "nbconvert_exporter": "python",
   "pygments_lexer": "ipython3",
   "version": "3.10.5"
  }
 },
 "nbformat": 4,
 "nbformat_minor": 5
}
