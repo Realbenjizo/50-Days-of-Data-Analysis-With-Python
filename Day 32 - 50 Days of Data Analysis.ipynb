{
 "cells": [
  {
   "cell_type": "markdown",
   "id": "fbae86a0",
   "metadata": {},
   "source": [
    "## 1\n",
    "\n",
    "#### Import the website_analysis CSV file using pandas. Check for duplicates. If any, drop the duplicates"
   ]
  },
  {
   "cell_type": "code",
   "execution_count": 1,
   "id": "eaf5875d",
   "metadata": {},
   "outputs": [
    {
     "data": {
      "text/html": [
       "<div>\n",
       "<style scoped>\n",
       "    .dataframe tbody tr th:only-of-type {\n",
       "        vertical-align: middle;\n",
       "    }\n",
       "\n",
       "    .dataframe tbody tr th {\n",
       "        vertical-align: top;\n",
       "    }\n",
       "\n",
       "    .dataframe thead th {\n",
       "        text-align: right;\n",
       "    }\n",
       "</style>\n",
       "<table border=\"1\" class=\"dataframe\">\n",
       "  <thead>\n",
       "    <tr style=\"text-align: right;\">\n",
       "      <th></th>\n",
       "      <th>Player Name</th>\n",
       "      <th>Chances Created</th>\n",
       "      <th>Assists</th>\n",
       "      <th>Goals</th>\n",
       "      <th>Club</th>\n",
       "      <th>Manager</th>\n",
       "      <th>Annual Salary</th>\n",
       "    </tr>\n",
       "  </thead>\n",
       "  <tbody>\n",
       "    <tr>\n",
       "      <th>0</th>\n",
       "      <td>Cristiano Ronaldo</td>\n",
       "      <td>85</td>\n",
       "      <td>20</td>\n",
       "      <td>35</td>\n",
       "      <td>Manchester United</td>\n",
       "      <td>Ole Gunnar Solskjær</td>\n",
       "      <td>$35,000,000</td>\n",
       "    </tr>\n",
       "    <tr>\n",
       "      <th>1</th>\n",
       "      <td>Lionel Messi</td>\n",
       "      <td>90</td>\n",
       "      <td>25</td>\n",
       "      <td>30</td>\n",
       "      <td>Paris Saint-Germain</td>\n",
       "      <td>Mauricio Pochettino</td>\n",
       "      <td>$40,000,000</td>\n",
       "    </tr>\n",
       "    <tr>\n",
       "      <th>2</th>\n",
       "      <td>Robert Lewandowski</td>\n",
       "      <td>70</td>\n",
       "      <td>15</td>\n",
       "      <td>40</td>\n",
       "      <td>Bayern Munich</td>\n",
       "      <td>Julian Nagelsmann</td>\n",
       "      <td>$25,000,000</td>\n",
       "    </tr>\n",
       "    <tr>\n",
       "      <th>3</th>\n",
       "      <td>Erling Haaland</td>\n",
       "      <td>60</td>\n",
       "      <td>10</td>\n",
       "      <td>35</td>\n",
       "      <td>Borussia Dortmund</td>\n",
       "      <td>Marco Rose</td>\n",
       "      <td>$20,000,000</td>\n",
       "    </tr>\n",
       "    <tr>\n",
       "      <th>4</th>\n",
       "      <td>Kylian Mbappé</td>\n",
       "      <td>80</td>\n",
       "      <td>18</td>\n",
       "      <td>25</td>\n",
       "      <td>Paris Saint-Germain</td>\n",
       "      <td>Mauricio Pochettino</td>\n",
       "      <td>$30,000,000</td>\n",
       "    </tr>\n",
       "  </tbody>\n",
       "</table>\n",
       "</div>"
      ],
      "text/plain": [
       "          Player Name  Chances Created  Assists  Goals                 Club   \n",
       "0   Cristiano Ronaldo               85       20     35    Manchester United  \\\n",
       "1        Lionel Messi               90       25     30  Paris Saint-Germain   \n",
       "2  Robert Lewandowski               70       15     40        Bayern Munich   \n",
       "3      Erling Haaland               60       10     35    Borussia Dortmund   \n",
       "4       Kylian Mbappé               80       18     25  Paris Saint-Germain   \n",
       "\n",
       "               Manager Annual Salary  \n",
       "0  Ole Gunnar Solskjær   $35,000,000  \n",
       "1  Mauricio Pochettino   $40,000,000  \n",
       "2    Julian Nagelsmann   $25,000,000  \n",
       "3           Marco Rose   $20,000,000  \n",
       "4  Mauricio Pochettino   $30,000,000  "
      ]
     },
     "execution_count": 1,
     "metadata": {},
     "output_type": "execute_result"
    }
   ],
   "source": [
    "import pandas as pd\n",
    "\n",
    "df = pd.read_csv(\"soccer_strikers.csv\")\n",
    "df.head()"
   ]
  },
  {
   "cell_type": "code",
   "execution_count": 2,
   "id": "86d47c45",
   "metadata": {},
   "outputs": [
    {
     "data": {
      "text/plain": [
       "0"
      ]
     },
     "execution_count": 2,
     "metadata": {},
     "output_type": "execute_result"
    }
   ],
   "source": [
    "# Checking for duplicates\n",
    "df.duplicated().sum()"
   ]
  },
  {
   "cell_type": "code",
   "execution_count": 3,
   "id": "6e159bac",
   "metadata": {},
   "outputs": [
    {
     "data": {
      "text/plain": [
       "Player Name        0\n",
       "Chances Created    0\n",
       "Assists            0\n",
       "Goals              0\n",
       "Club               0\n",
       "Manager            0\n",
       "Annual Salary      0\n",
       "dtype: int64"
      ]
     },
     "execution_count": 3,
     "metadata": {},
     "output_type": "execute_result"
    }
   ],
   "source": [
    "# Check for missing values\n",
    "df.isna().sum()"
   ]
  },
  {
   "cell_type": "code",
   "execution_count": 4,
   "id": "bf8002d4",
   "metadata": {},
   "outputs": [
    {
     "data": {
      "text/plain": [
       "Player Name        object\n",
       "Chances Created     int64\n",
       "Assists             int64\n",
       "Goals               int64\n",
       "Club               object\n",
       "Manager            object\n",
       "Annual Salary      object\n",
       "dtype: object"
      ]
     },
     "execution_count": 4,
     "metadata": {},
     "output_type": "execute_result"
    }
   ],
   "source": [
    "# Check for dtypes\n",
    "df.dtypes"
   ]
  },
  {
   "cell_type": "code",
   "execution_count": 5,
   "id": "84cc67d4",
   "metadata": {},
   "outputs": [
    {
     "data": {
      "text/plain": [
       "Player Name        0\n",
       "Chances Created    0\n",
       "Assists            0\n",
       "Goals              0\n",
       "Club               0\n",
       "Manager            0\n",
       "Annual Salary      0\n",
       "dtype: int64"
      ]
     },
     "execution_count": 5,
     "metadata": {},
     "output_type": "execute_result"
    }
   ],
   "source": [
    "# Checking for missing values\n",
    "df.isnull().sum()"
   ]
  },
  {
   "cell_type": "markdown",
   "id": "85952513",
   "metadata": {},
   "source": [
    "## 2\n",
    "#### Create a copy of the DataFrame. Using pandas, convert the 'Annual Salary' and 'conversion_rate' columns from object data type to integer data type ."
   ]
  },
  {
   "cell_type": "code",
   "execution_count": 6,
   "id": "2a2cb337",
   "metadata": {},
   "outputs": [
    {
     "data": {
      "text/html": [
       "<div>\n",
       "<style scoped>\n",
       "    .dataframe tbody tr th:only-of-type {\n",
       "        vertical-align: middle;\n",
       "    }\n",
       "\n",
       "    .dataframe tbody tr th {\n",
       "        vertical-align: top;\n",
       "    }\n",
       "\n",
       "    .dataframe thead th {\n",
       "        text-align: right;\n",
       "    }\n",
       "</style>\n",
       "<table border=\"1\" class=\"dataframe\">\n",
       "  <thead>\n",
       "    <tr style=\"text-align: right;\">\n",
       "      <th></th>\n",
       "      <th>Player Name</th>\n",
       "      <th>Chances Created</th>\n",
       "      <th>Assists</th>\n",
       "      <th>Goals</th>\n",
       "      <th>Club</th>\n",
       "      <th>Manager</th>\n",
       "      <th>Annual Salary</th>\n",
       "    </tr>\n",
       "  </thead>\n",
       "  <tbody>\n",
       "    <tr>\n",
       "      <th>0</th>\n",
       "      <td>Cristiano Ronaldo</td>\n",
       "      <td>85</td>\n",
       "      <td>20</td>\n",
       "      <td>35</td>\n",
       "      <td>Manchester United</td>\n",
       "      <td>Ole Gunnar Solskjær</td>\n",
       "      <td>35000000</td>\n",
       "    </tr>\n",
       "    <tr>\n",
       "      <th>1</th>\n",
       "      <td>Lionel Messi</td>\n",
       "      <td>90</td>\n",
       "      <td>25</td>\n",
       "      <td>30</td>\n",
       "      <td>Paris Saint-Germain</td>\n",
       "      <td>Mauricio Pochettino</td>\n",
       "      <td>40000000</td>\n",
       "    </tr>\n",
       "    <tr>\n",
       "      <th>2</th>\n",
       "      <td>Robert Lewandowski</td>\n",
       "      <td>70</td>\n",
       "      <td>15</td>\n",
       "      <td>40</td>\n",
       "      <td>Bayern Munich</td>\n",
       "      <td>Julian Nagelsmann</td>\n",
       "      <td>25000000</td>\n",
       "    </tr>\n",
       "    <tr>\n",
       "      <th>3</th>\n",
       "      <td>Erling Haaland</td>\n",
       "      <td>60</td>\n",
       "      <td>10</td>\n",
       "      <td>35</td>\n",
       "      <td>Borussia Dortmund</td>\n",
       "      <td>Marco Rose</td>\n",
       "      <td>20000000</td>\n",
       "    </tr>\n",
       "    <tr>\n",
       "      <th>4</th>\n",
       "      <td>Kylian Mbappé</td>\n",
       "      <td>80</td>\n",
       "      <td>18</td>\n",
       "      <td>25</td>\n",
       "      <td>Paris Saint-Germain</td>\n",
       "      <td>Mauricio Pochettino</td>\n",
       "      <td>30000000</td>\n",
       "    </tr>\n",
       "  </tbody>\n",
       "</table>\n",
       "</div>"
      ],
      "text/plain": [
       "          Player Name  Chances Created  Assists  Goals                 Club   \n",
       "0   Cristiano Ronaldo               85       20     35    Manchester United  \\\n",
       "1        Lionel Messi               90       25     30  Paris Saint-Germain   \n",
       "2  Robert Lewandowski               70       15     40        Bayern Munich   \n",
       "3      Erling Haaland               60       10     35    Borussia Dortmund   \n",
       "4       Kylian Mbappé               80       18     25  Paris Saint-Germain   \n",
       "\n",
       "               Manager  Annual Salary  \n",
       "0  Ole Gunnar Solskjær       35000000  \n",
       "1  Mauricio Pochettino       40000000  \n",
       "2    Julian Nagelsmann       25000000  \n",
       "3           Marco Rose       20000000  \n",
       "4  Mauricio Pochettino       30000000  "
      ]
     },
     "execution_count": 6,
     "metadata": {},
     "output_type": "execute_result"
    }
   ],
   "source": [
    "# Creating a copy of the DataFrame\n",
    "df2 = df.copy()\n",
    "\n",
    "# Creating a function to clean the data\n",
    "def clean_df(df):\n",
    "    df[\"Annual Salary\"] = df[\"Annual Salary\"].str.replace(\"$\", \"\")\n",
    "    df[\"Annual Salary\"] = df[\"Annual Salary\"].str.replace(\",\", \"\").astype(int)\n",
    "    return df\n",
    "\n",
    "clean_df(df2)\n",
    "\n",
    "df2.head()"
   ]
  },
  {
   "cell_type": "markdown",
   "id": "6f847d86",
   "metadata": {},
   "source": [
    "## 3.\n",
    "#### Which player has the highest goal conversion rate(goals scored as a percentage of chances created.)"
   ]
  },
  {
   "cell_type": "code",
   "execution_count": 7,
   "id": "560f63b1",
   "metadata": {},
   "outputs": [
    {
     "name": "stdout",
     "output_type": "stream",
     "text": [
      "Player with highest chance conversation rate is Erling Haaland with a rate of 58.33%\n"
     ]
    }
   ],
   "source": [
    "# Adding a chance conversion rate column\n",
    "df[\"Chance Conversion Rate\"] = df[\"Goals\"]/ df[\"Chances Created\"] *100\n",
    "\n",
    "# Sorting Dataframe by chance conversion rate\n",
    "sorted_df = df.sort_values(by=\"Chance Conversion Rate\", ascending=False)\n",
    "\n",
    "# Get the player with highest conversation rate\n",
    "player_name = sorted_df.loc[:,\"Player Name\"].head(1)\n",
    "# Get the conversion rate\n",
    "conversion_rate =  sorted_df.loc[:,\"Chance Conversion Rate\"].head(1)\n",
    "\n",
    "print(f'Player with highest chance conversation rate is {player_name.iloc[0]}'\n",
    "     f' with a rate of {conversion_rate.iloc[0]:.2f}%')"
   ]
  },
  {
   "cell_type": "markdown",
   "id": "fc4281f4",
   "metadata": {},
   "source": [
    "## 4.\t\n",
    "\n",
    "#### Create a hierarchical index for your DataFrame. Set the \"Player Name\" and the \"Club\" as index columns. Using the .loc attribute, filter the DataFrame to find the annual salary of Romelu Lukaku."
   ]
  },
  {
   "cell_type": "code",
   "execution_count": 8,
   "id": "86ae4e68",
   "metadata": {},
   "outputs": [
    {
     "data": {
      "text/html": [
       "<div>\n",
       "<style scoped>\n",
       "    .dataframe tbody tr th:only-of-type {\n",
       "        vertical-align: middle;\n",
       "    }\n",
       "\n",
       "    .dataframe tbody tr th {\n",
       "        vertical-align: top;\n",
       "    }\n",
       "\n",
       "    .dataframe thead th {\n",
       "        text-align: right;\n",
       "    }\n",
       "</style>\n",
       "<table border=\"1\" class=\"dataframe\">\n",
       "  <thead>\n",
       "    <tr style=\"text-align: right;\">\n",
       "      <th></th>\n",
       "      <th></th>\n",
       "      <th>Chances Created</th>\n",
       "      <th>Assists</th>\n",
       "      <th>Goals</th>\n",
       "      <th>Manager</th>\n",
       "      <th>Annual Salary</th>\n",
       "    </tr>\n",
       "    <tr>\n",
       "      <th>Player Name</th>\n",
       "      <th>Club</th>\n",
       "      <th></th>\n",
       "      <th></th>\n",
       "      <th></th>\n",
       "      <th></th>\n",
       "      <th></th>\n",
       "    </tr>\n",
       "  </thead>\n",
       "  <tbody>\n",
       "    <tr>\n",
       "      <th>Cristiano Ronaldo</th>\n",
       "      <th>Manchester United</th>\n",
       "      <td>85</td>\n",
       "      <td>20</td>\n",
       "      <td>35</td>\n",
       "      <td>Ole Gunnar Solskjær</td>\n",
       "      <td>35000000</td>\n",
       "    </tr>\n",
       "    <tr>\n",
       "      <th>Lionel Messi</th>\n",
       "      <th>Paris Saint-Germain</th>\n",
       "      <td>90</td>\n",
       "      <td>25</td>\n",
       "      <td>30</td>\n",
       "      <td>Mauricio Pochettino</td>\n",
       "      <td>40000000</td>\n",
       "    </tr>\n",
       "    <tr>\n",
       "      <th>Robert Lewandowski</th>\n",
       "      <th>Bayern Munich</th>\n",
       "      <td>70</td>\n",
       "      <td>15</td>\n",
       "      <td>40</td>\n",
       "      <td>Julian Nagelsmann</td>\n",
       "      <td>25000000</td>\n",
       "    </tr>\n",
       "    <tr>\n",
       "      <th>Erling Haaland</th>\n",
       "      <th>Borussia Dortmund</th>\n",
       "      <td>60</td>\n",
       "      <td>10</td>\n",
       "      <td>35</td>\n",
       "      <td>Marco Rose</td>\n",
       "      <td>20000000</td>\n",
       "    </tr>\n",
       "    <tr>\n",
       "      <th>Kylian Mbappé</th>\n",
       "      <th>Paris Saint-Germain</th>\n",
       "      <td>80</td>\n",
       "      <td>18</td>\n",
       "      <td>25</td>\n",
       "      <td>Mauricio Pochettino</td>\n",
       "      <td>30000000</td>\n",
       "    </tr>\n",
       "    <tr>\n",
       "      <th>Karim Benzema</th>\n",
       "      <th>Real Madrid</th>\n",
       "      <td>75</td>\n",
       "      <td>15</td>\n",
       "      <td>20</td>\n",
       "      <td>Carlo Ancelotti</td>\n",
       "      <td>28000000</td>\n",
       "    </tr>\n",
       "    <tr>\n",
       "      <th>Harry Kane</th>\n",
       "      <th>Tottenham Hotspur</th>\n",
       "      <td>65</td>\n",
       "      <td>20</td>\n",
       "      <td>30</td>\n",
       "      <td>Nuno Espírito Santo</td>\n",
       "      <td>32000000</td>\n",
       "    </tr>\n",
       "    <tr>\n",
       "      <th>Romelu Lukaku</th>\n",
       "      <th>Chelsea</th>\n",
       "      <td>70</td>\n",
       "      <td>15</td>\n",
       "      <td>28</td>\n",
       "      <td>Thomas Tuchel</td>\n",
       "      <td>27000000</td>\n",
       "    </tr>\n",
       "    <tr>\n",
       "      <th>Mohamed Salah</th>\n",
       "      <th>Liverpool</th>\n",
       "      <td>80</td>\n",
       "      <td>22</td>\n",
       "      <td>25</td>\n",
       "      <td>Jürgen Klopp</td>\n",
       "      <td>30000000</td>\n",
       "    </tr>\n",
       "    <tr>\n",
       "      <th>Antoine Griezmann</th>\n",
       "      <th>Barcelona</th>\n",
       "      <td>55</td>\n",
       "      <td>12</td>\n",
       "      <td>18</td>\n",
       "      <td>Ronald Koeman</td>\n",
       "      <td>24000000</td>\n",
       "    </tr>\n",
       "  </tbody>\n",
       "</table>\n",
       "</div>"
      ],
      "text/plain": [
       "                                        Chances Created  Assists  Goals   \n",
       "Player Name        Club                                                   \n",
       "Cristiano Ronaldo  Manchester United                 85       20     35  \\\n",
       "Lionel Messi       Paris Saint-Germain               90       25     30   \n",
       "Robert Lewandowski Bayern Munich                     70       15     40   \n",
       "Erling Haaland     Borussia Dortmund                 60       10     35   \n",
       "Kylian Mbappé      Paris Saint-Germain               80       18     25   \n",
       "Karim Benzema      Real Madrid                       75       15     20   \n",
       "Harry Kane         Tottenham Hotspur                 65       20     30   \n",
       "Romelu Lukaku      Chelsea                           70       15     28   \n",
       "Mohamed Salah      Liverpool                         80       22     25   \n",
       "Antoine Griezmann  Barcelona                         55       12     18   \n",
       "\n",
       "                                                    Manager  Annual Salary  \n",
       "Player Name        Club                                                     \n",
       "Cristiano Ronaldo  Manchester United    Ole Gunnar Solskjær       35000000  \n",
       "Lionel Messi       Paris Saint-Germain  Mauricio Pochettino       40000000  \n",
       "Robert Lewandowski Bayern Munich          Julian Nagelsmann       25000000  \n",
       "Erling Haaland     Borussia Dortmund             Marco Rose       20000000  \n",
       "Kylian Mbappé      Paris Saint-Germain  Mauricio Pochettino       30000000  \n",
       "Karim Benzema      Real Madrid              Carlo Ancelotti       28000000  \n",
       "Harry Kane         Tottenham Hotspur    Nuno Espírito Santo       32000000  \n",
       "Romelu Lukaku      Chelsea                    Thomas Tuchel       27000000  \n",
       "Mohamed Salah      Liverpool                   Jürgen Klopp       30000000  \n",
       "Antoine Griezmann  Barcelona                  Ronald Koeman       24000000  "
      ]
     },
     "execution_count": 8,
     "metadata": {},
     "output_type": "execute_result"
    }
   ],
   "source": [
    "# Setting website and month columns as hierarchical index\n",
    "df2.set_index(['Player Name', 'Club'], inplace=True)\n",
    "df2"
   ]
  },
  {
   "cell_type": "code",
   "execution_count": 9,
   "id": "615d1eaf",
   "metadata": {},
   "outputs": [
    {
     "name": "stdout",
     "output_type": "stream",
     "text": [
      " The Annual salary for Lukaku is: 27000000\n"
     ]
    }
   ],
   "source": [
    "lukaku_salary = df2.loc[('Romelu Lukaku', 'Chelsea'), 'Annual Salary']\n",
    "print(\" The Annual salary for Lukaku is:\",lukaku_salary)"
   ]
  },
  {
   "cell_type": "markdown",
   "id": "ec9db2ee",
   "metadata": {},
   "source": [
    "## 5.\t\n",
    "#### Using the pandas unstack() method, unstack the DataFrame with a hierarchical index (from question 4). The unstacked level should be the two columns: website and month. website is the outer index. Save this to a variable."
   ]
  },
  {
   "cell_type": "code",
   "execution_count": 10,
   "id": "be27b1c3",
   "metadata": {},
   "outputs": [
    {
     "data": {
      "text/plain": [
       "                 Player Name         Club               \n",
       "Chances Created  Cristiano Ronaldo   Manchester United      85\n",
       "                 Lionel Messi        Paris Saint-Germain    90\n",
       "                 Robert Lewandowski  Bayern Munich          70\n",
       "                 Erling Haaland      Borussia Dortmund      60\n",
       "                 Kylian Mbappé       Paris Saint-Germain    80\n",
       "dtype: object"
      ]
     },
     "execution_count": 10,
     "metadata": {},
     "output_type": "execute_result"
    }
   ],
   "source": [
    "# Unstacking the DataFrame on website and month\n",
    "df3 = df2.unstack(level=['Player Name', 'Club'])\n",
    "df3.head()"
   ]
  },
  {
   "cell_type": "markdown",
   "id": "4501ff2d",
   "metadata": {},
   "source": [
    "## 6 \n",
    "\n",
    "#### How many chances were created by Karim Benzema? Use the unstack DataFrame from question5."
   ]
  },
  {
   "cell_type": "code",
   "execution_count": 11,
   "id": "a448d84a",
   "metadata": {},
   "outputs": [
    {
     "data": {
      "text/plain": [
       "75"
      ]
     },
     "execution_count": 11,
     "metadata": {},
     "output_type": "execute_result"
    }
   ],
   "source": [
    "# Sorting the index\n",
    "df3.sort_index(inplace=True)\n",
    "\n",
    "# Using multindex to access the value\n",
    "df3.loc[(\"Chances Created\", \"Karim Benzema\")][0]"
   ]
  },
  {
   "cell_type": "markdown",
   "id": "512b8cf7",
   "metadata": {},
   "source": [
    "## 7.\n",
    "\n",
    "#### What is the combined salary of  Lionel Messi and Kylian Mbappé  "
   ]
  },
  {
   "cell_type": "code",
   "execution_count": 12,
   "id": "16ff9cb0",
   "metadata": {},
   "outputs": [
    {
     "name": "stdout",
     "output_type": "stream",
     "text": [
      "The combined total of Messi and Mbappe salary is 70000000\n"
     ]
    }
   ],
   "source": [
    "# Messi Annual Salary\n",
    "messi_salary = df3.loc[(\"Annual Salary\", \"Lionel Messi\")][0]\n",
    "\n",
    "# Mbappe Annual salary\n",
    "mbappe_salary = df3.loc[(\"Annual Salary\", \"Kylian Mbappé\")][0]\n",
    "\n",
    "combined_salary = messi_salary + mbappe_salary\n",
    "print(f\"The combined total of Messi and Mbappe salary is {combined_salary}\")"
   ]
  },
  {
   "cell_type": "code",
   "execution_count": null,
   "id": "0453b75b",
   "metadata": {},
   "outputs": [],
   "source": []
  }
 ],
 "metadata": {
  "kernelspec": {
   "display_name": "Python 3 (ipykernel)",
   "language": "python",
   "name": "python3"
  },
  "language_info": {
   "codemirror_mode": {
    "name": "ipython",
    "version": 3
   },
   "file_extension": ".py",
   "mimetype": "text/x-python",
   "name": "python",
   "nbconvert_exporter": "python",
   "pygments_lexer": "ipython3",
   "version": "3.10.5"
  }
 },
 "nbformat": 4,
 "nbformat_minor": 5
}
