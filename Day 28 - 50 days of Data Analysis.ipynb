{
 "cells": [
  {
   "cell_type": "markdown",
   "id": "933ce8c8",
   "metadata": {},
   "source": [
    "## 1.\n",
    "\n",
    "#### Using pandas, import csv of the countries data."
   ]
  },
  {
   "cell_type": "code",
   "execution_count": 1,
   "id": "b930545d",
   "metadata": {},
   "outputs": [
    {
     "data": {
      "text/html": [
       "<div>\n",
       "<style scoped>\n",
       "    .dataframe tbody tr th:only-of-type {\n",
       "        vertical-align: middle;\n",
       "    }\n",
       "\n",
       "    .dataframe tbody tr th {\n",
       "        vertical-align: top;\n",
       "    }\n",
       "\n",
       "    .dataframe thead th {\n",
       "        text-align: right;\n",
       "    }\n",
       "</style>\n",
       "<table border=\"1\" class=\"dataframe\">\n",
       "  <thead>\n",
       "    <tr style=\"text-align: right;\">\n",
       "      <th></th>\n",
       "      <th>Country</th>\n",
       "      <th>Population</th>\n",
       "      <th>GDP_per_capita</th>\n",
       "      <th>Unemployment_rate</th>\n",
       "      <th>Area</th>\n",
       "    </tr>\n",
       "  </thead>\n",
       "  <tbody>\n",
       "    <tr>\n",
       "      <th>0</th>\n",
       "      <td>United States</td>\n",
       "      <td>331002651</td>\n",
       "      <td>65298</td>\n",
       "      <td>6.10%</td>\n",
       "      <td>9629091</td>\n",
       "    </tr>\n",
       "    <tr>\n",
       "      <th>1</th>\n",
       "      <td>China</td>\n",
       "      <td>1439323776</td>\n",
       "      <td>16708</td>\n",
       "      <td>3.80%</td>\n",
       "      <td>9640011</td>\n",
       "    </tr>\n",
       "    <tr>\n",
       "      <th>2</th>\n",
       "      <td>Japan</td>\n",
       "      <td>126476461</td>\n",
       "      <td>39058</td>\n",
       "      <td>2.80%</td>\n",
       "      <td>377975</td>\n",
       "    </tr>\n",
       "    <tr>\n",
       "      <th>3</th>\n",
       "      <td>Germany</td>\n",
       "      <td>83783942</td>\n",
       "      <td>55803</td>\n",
       "      <td>3.20%</td>\n",
       "      <td>357022</td>\n",
       "    </tr>\n",
       "    <tr>\n",
       "      <th>4</th>\n",
       "      <td>United Kingdom</td>\n",
       "      <td>67886011</td>\n",
       "      <td>44177</td>\n",
       "      <td>4.80%</td>\n",
       "      <td>242500</td>\n",
       "    </tr>\n",
       "  </tbody>\n",
       "</table>\n",
       "</div>"
      ],
      "text/plain": [
       "          Country  Population  GDP_per_capita Unemployment_rate     Area\n",
       "0   United States   331002651           65298             6.10%  9629091\n",
       "1           China  1439323776           16708             3.80%  9640011\n",
       "2           Japan   126476461           39058             2.80%   377975\n",
       "3         Germany    83783942           55803             3.20%   357022\n",
       "4  United Kingdom    67886011           44177             4.80%   242500"
      ]
     },
     "execution_count": 1,
     "metadata": {},
     "output_type": "execute_result"
    }
   ],
   "source": [
    "import pandas as pd\n",
    "import warnings\n",
    "warnings.filterwarnings('ignore')\n",
    "\n",
    "df = pd.read_csv(\"countries_population_data.csv\")\n",
    "df.head()"
   ]
  },
  {
   "cell_type": "markdown",
   "id": "3421c883",
   "metadata": {},
   "source": [
    "## 2. \n",
    "\n",
    "#### You have decided to add another column to your DataFrame. The column will have capital cities of each country. Here is the data below:"
   ]
  },
  {
   "cell_type": "code",
   "execution_count": 2,
   "id": "c14f2b87",
   "metadata": {},
   "outputs": [],
   "source": [
    "# Creating a copy of the DataFrame\n",
    "df_copy = df.copy()"
   ]
  },
  {
   "cell_type": "code",
   "execution_count": 3,
   "id": "10e20b97",
   "metadata": {},
   "outputs": [
    {
     "data": {
      "text/html": [
       "<div>\n",
       "<style scoped>\n",
       "    .dataframe tbody tr th:only-of-type {\n",
       "        vertical-align: middle;\n",
       "    }\n",
       "\n",
       "    .dataframe tbody tr th {\n",
       "        vertical-align: top;\n",
       "    }\n",
       "\n",
       "    .dataframe thead th {\n",
       "        text-align: right;\n",
       "    }\n",
       "</style>\n",
       "<table border=\"1\" class=\"dataframe\">\n",
       "  <thead>\n",
       "    <tr style=\"text-align: right;\">\n",
       "      <th></th>\n",
       "      <th>Country</th>\n",
       "      <th>Capital_City</th>\n",
       "    </tr>\n",
       "  </thead>\n",
       "  <tbody>\n",
       "    <tr>\n",
       "      <th>0</th>\n",
       "      <td>United States</td>\n",
       "      <td>Washington, D.C.</td>\n",
       "    </tr>\n",
       "    <tr>\n",
       "      <th>1</th>\n",
       "      <td>China</td>\n",
       "      <td>Beijing</td>\n",
       "    </tr>\n",
       "    <tr>\n",
       "      <th>2</th>\n",
       "      <td>Japan</td>\n",
       "      <td>Tokyo</td>\n",
       "    </tr>\n",
       "    <tr>\n",
       "      <th>3</th>\n",
       "      <td>Germany</td>\n",
       "      <td>Berlin</td>\n",
       "    </tr>\n",
       "    <tr>\n",
       "      <th>4</th>\n",
       "      <td>United Kingdom</td>\n",
       "      <td>London</td>\n",
       "    </tr>\n",
       "  </tbody>\n",
       "</table>\n",
       "</div>"
      ],
      "text/plain": [
       "          Country      Capital_City\n",
       "0   United States  Washington, D.C.\n",
       "1           China           Beijing\n",
       "2           Japan             Tokyo\n",
       "3         Germany            Berlin\n",
       "4  United Kingdom            London"
      ]
     },
     "execution_count": 3,
     "metadata": {},
     "output_type": "execute_result"
    }
   ],
   "source": [
    "# Reading capital cities data\n",
    "df2 = pd.read_csv(\"Countries_data_capital_cities.csv\")\n",
    "df2.head()"
   ]
  },
  {
   "cell_type": "code",
   "execution_count": 4,
   "id": "cd14d299",
   "metadata": {},
   "outputs": [
    {
     "data": {
      "text/html": [
       "<div>\n",
       "<style scoped>\n",
       "    .dataframe tbody tr th:only-of-type {\n",
       "        vertical-align: middle;\n",
       "    }\n",
       "\n",
       "    .dataframe tbody tr th {\n",
       "        vertical-align: top;\n",
       "    }\n",
       "\n",
       "    .dataframe thead th {\n",
       "        text-align: right;\n",
       "    }\n",
       "</style>\n",
       "<table border=\"1\" class=\"dataframe\">\n",
       "  <thead>\n",
       "    <tr style=\"text-align: right;\">\n",
       "      <th></th>\n",
       "      <th>Country</th>\n",
       "      <th>Population</th>\n",
       "      <th>GDP_per_capita</th>\n",
       "      <th>Unemployment_rate</th>\n",
       "      <th>Area</th>\n",
       "      <th>Capital_City</th>\n",
       "    </tr>\n",
       "  </thead>\n",
       "  <tbody>\n",
       "    <tr>\n",
       "      <th>0</th>\n",
       "      <td>United States</td>\n",
       "      <td>331002651</td>\n",
       "      <td>65298</td>\n",
       "      <td>6.10%</td>\n",
       "      <td>9629091</td>\n",
       "      <td>Washington, D.C.</td>\n",
       "    </tr>\n",
       "    <tr>\n",
       "      <th>1</th>\n",
       "      <td>China</td>\n",
       "      <td>1439323776</td>\n",
       "      <td>16708</td>\n",
       "      <td>3.80%</td>\n",
       "      <td>9640011</td>\n",
       "      <td>Beijing</td>\n",
       "    </tr>\n",
       "    <tr>\n",
       "      <th>2</th>\n",
       "      <td>Japan</td>\n",
       "      <td>126476461</td>\n",
       "      <td>39058</td>\n",
       "      <td>2.80%</td>\n",
       "      <td>377975</td>\n",
       "      <td>Tokyo</td>\n",
       "    </tr>\n",
       "    <tr>\n",
       "      <th>3</th>\n",
       "      <td>Germany</td>\n",
       "      <td>83783942</td>\n",
       "      <td>55803</td>\n",
       "      <td>3.20%</td>\n",
       "      <td>357022</td>\n",
       "      <td>Berlin</td>\n",
       "    </tr>\n",
       "    <tr>\n",
       "      <th>4</th>\n",
       "      <td>United Kingdom</td>\n",
       "      <td>67886011</td>\n",
       "      <td>44177</td>\n",
       "      <td>4.80%</td>\n",
       "      <td>242500</td>\n",
       "      <td>London</td>\n",
       "    </tr>\n",
       "  </tbody>\n",
       "</table>\n",
       "</div>"
      ],
      "text/plain": [
       "          Country  Population  GDP_per_capita Unemployment_rate     Area   \n",
       "0   United States   331002651           65298             6.10%  9629091  \\\n",
       "1           China  1439323776           16708             3.80%  9640011   \n",
       "2           Japan   126476461           39058             2.80%   377975   \n",
       "3         Germany    83783942           55803             3.20%   357022   \n",
       "4  United Kingdom    67886011           44177             4.80%   242500   \n",
       "\n",
       "       Capital_City  \n",
       "0  Washington, D.C.  \n",
       "1           Beijing  \n",
       "2             Tokyo  \n",
       "3            Berlin  \n",
       "4            London  "
      ]
     },
     "execution_count": 4,
     "metadata": {},
     "output_type": "execute_result"
    }
   ],
   "source": [
    "# Using merge to merge DataFrame on 'Country'\n",
    "merged_df = df_copy.merge(df2, on='Country')\n",
    "merged_df.head()"
   ]
  },
  {
   "cell_type": "markdown",
   "id": "dd306b46",
   "metadata": {},
   "source": [
    "## 3. \n",
    "\n",
    "#### Using Matplotlib, create a bar chart to visualize the distribution of population among different continents.\n"
   ]
  },
  {
   "cell_type": "code",
   "execution_count": 5,
   "id": "f8c87466",
   "metadata": {},
   "outputs": [
    {
     "data": {
      "image/png": "[encoded data removed]",
      "text/plain": [
       "<Figure size 1080x576 with 1 Axes>"
      ]
     },
     "metadata": {
      "needs_background": "light"
     },
     "output_type": "display_data"
    }
   ],
   "source": [
    "import matplotlib.pyplot as plt\n",
    "\n",
    "merged_df.sort_values(by = [\"Population\"], axis=0, \n",
    "                      inplace=True, \n",
    "                      ascending=False)    \n",
    "fig = plt.figure(figsize = (15, 8))\n",
    "plt.bar(merged_df.Country, merged_df.Population,\n",
    "        color ='blue',\n",
    "        width = 0.6)\n",
    " \n",
    "plt.xlabel(\"Country\")\n",
    "plt.ylabel(\"Population\")\n",
    "plt.xticks(rotation = 90)\n",
    "plt.title(\"Countries Population\", fontsize = 20)\n",
    "plt.show()"
   ]
  },
  {
   "cell_type": "markdown",
   "id": "ab7c9984",
   "metadata": {},
   "source": [
    "## 4. \n",
    "\n",
    "#### Using NumPy, calculate the correlation between the population and GDP per capita for each country and create a scatter plot to visualize the relationship between the two variables (population and GDP per capita) using matplotlib."
   ]
  },
  {
   "cell_type": "code",
   "execution_count": 6,
   "id": "fcd4efc8",
   "metadata": {},
   "outputs": [
    {
     "data": {
      "text/plain": [
       "array([[ 1.        , -0.49159759],\n",
       "       [-0.49159759,  1.        ]])"
      ]
     },
     "execution_count": 6,
     "metadata": {},
     "output_type": "execute_result"
    }
   ],
   "source": [
    "import numpy as np\n",
    "\n",
    "population = merged_df[\"Population\"]\n",
    "gdp_per_capita = merged_df[\"GDP_per_capita\"]\n",
    "correlation = np.corrcoef(population, gdp_per_capita)\n",
    "correlation"
   ]
  },
  {
   "cell_type": "code",
   "execution_count": 7,
   "id": "054fb02f",
   "metadata": {},
   "outputs": [
    {
     "data": {
      "image/png": "[encoded data removed]",
      "text/plain": [
       "<Figure size 864x576 with 1 Axes>"
      ]
     },
     "metadata": {
      "needs_background": "light"
     },
     "output_type": "display_data"
    }
   ],
   "source": [
    "import matplotlib.pyplot as plt\n",
    "\n",
    "fig = plt.figure(figsize = (12, 8))\n",
    "plt.scatter(population, gdp_per_capita)\n",
    "plt.xlabel('Population')\n",
    "plt.ylabel('GDP Per Capita')\n",
    "plt.title(\"GDP Per Population\", fontsize= 20)\n",
    "plt.show()"
   ]
  },
  {
   "cell_type": "markdown",
   "id": "7cf5c5b0",
   "metadata": {},
   "source": [
    "## 5.\n",
    "\n",
    "#### Using pandas return the top 3 countries with the lowest GDP. Assign this to a variable.\n"
   ]
  },
  {
   "cell_type": "code",
   "execution_count": 8,
   "id": "ff2013b9",
   "metadata": {},
   "outputs": [
    {
     "data": {
      "text/html": [
       "<div>\n",
       "<style scoped>\n",
       "    .dataframe tbody tr th:only-of-type {\n",
       "        vertical-align: middle;\n",
       "    }\n",
       "\n",
       "    .dataframe tbody tr th {\n",
       "        vertical-align: top;\n",
       "    }\n",
       "\n",
       "    .dataframe thead th {\n",
       "        text-align: right;\n",
       "    }\n",
       "</style>\n",
       "<table border=\"1\" class=\"dataframe\">\n",
       "  <thead>\n",
       "    <tr style=\"text-align: right;\">\n",
       "      <th></th>\n",
       "      <th>Country</th>\n",
       "      <th>Population</th>\n",
       "      <th>GDP_per_capita</th>\n",
       "      <th>Unemployment_rate</th>\n",
       "      <th>Area</th>\n",
       "      <th>Capital_City</th>\n",
       "    </tr>\n",
       "  </thead>\n",
       "  <tbody>\n",
       "    <tr>\n",
       "      <th>16</th>\n",
       "      <td>India</td>\n",
       "      <td>1380004385</td>\n",
       "      <td>2252</td>\n",
       "      <td>6.10%</td>\n",
       "      <td>3287263</td>\n",
       "      <td>New Delhi</td>\n",
       "    </tr>\n",
       "    <tr>\n",
       "      <th>17</th>\n",
       "      <td>Brazil</td>\n",
       "      <td>212559417</td>\n",
       "      <td>8711</td>\n",
       "      <td>13.90%</td>\n",
       "      <td>8515767</td>\n",
       "      <td>Brasília</td>\n",
       "    </tr>\n",
       "    <tr>\n",
       "      <th>10</th>\n",
       "      <td>Mexico</td>\n",
       "      <td>128932753</td>\n",
       "      <td>9877</td>\n",
       "      <td>3.60%</td>\n",
       "      <td>1964375</td>\n",
       "      <td>Mexico City</td>\n",
       "    </tr>\n",
       "  </tbody>\n",
       "</table>\n",
       "</div>"
      ],
      "text/plain": [
       "   Country  Population  GDP_per_capita Unemployment_rate     Area Capital_City\n",
       "16   India  1380004385            2252             6.10%  3287263    New Delhi\n",
       "17  Brazil   212559417            8711            13.90%  8515767     Brasília\n",
       "10  Mexico   128932753            9877             3.60%  1964375  Mexico City"
      ]
     },
     "execution_count": 8,
     "metadata": {},
     "output_type": "execute_result"
    }
   ],
   "source": [
    "df_low_gdp_3 = merged_df.sort_values(by='GDP_per_capita', ascending=True, \n",
    "                                     inplace=False).head(3)\n",
    "df_low_gdp_3"
   ]
  },
  {
   "cell_type": "markdown",
   "id": "6c4550ff",
   "metadata": {},
   "source": [
    "## 6.\n",
    "\n",
    "#### Compare the unemployment rate of Switzerland, China and USA. Plot that on a bar plot."
   ]
  },
  {
   "cell_type": "code",
   "execution_count": 9,
   "id": "2dafcbc0",
   "metadata": {},
   "outputs": [
    {
     "data": {
      "text/html": [
       "<div>\n",
       "<style scoped>\n",
       "    .dataframe tbody tr th:only-of-type {\n",
       "        vertical-align: middle;\n",
       "    }\n",
       "\n",
       "    .dataframe tbody tr th {\n",
       "        vertical-align: top;\n",
       "    }\n",
       "\n",
       "    .dataframe thead th {\n",
       "        text-align: right;\n",
       "    }\n",
       "</style>\n",
       "<table border=\"1\" class=\"dataframe\">\n",
       "  <thead>\n",
       "    <tr style=\"text-align: right;\">\n",
       "      <th></th>\n",
       "      <th>Country</th>\n",
       "      <th>Population</th>\n",
       "      <th>GDP_per_capita</th>\n",
       "      <th>Unemployment_rate</th>\n",
       "      <th>Area</th>\n",
       "      <th>Capital_City</th>\n",
       "    </tr>\n",
       "  </thead>\n",
       "  <tbody>\n",
       "    <tr>\n",
       "      <th>1</th>\n",
       "      <td>China</td>\n",
       "      <td>1439323776</td>\n",
       "      <td>16708</td>\n",
       "      <td>3.80%</td>\n",
       "      <td>9640011</td>\n",
       "      <td>Beijing</td>\n",
       "    </tr>\n",
       "    <tr>\n",
       "      <th>0</th>\n",
       "      <td>United States</td>\n",
       "      <td>331002651</td>\n",
       "      <td>65298</td>\n",
       "      <td>6.10%</td>\n",
       "      <td>9629091</td>\n",
       "      <td>Washington, D.C.</td>\n",
       "    </tr>\n",
       "    <tr>\n",
       "      <th>13</th>\n",
       "      <td>Switzerland</td>\n",
       "      <td>8654622</td>\n",
       "      <td>82792</td>\n",
       "      <td>2.50%</td>\n",
       "      <td>41285</td>\n",
       "      <td>Bern</td>\n",
       "    </tr>\n",
       "  </tbody>\n",
       "</table>\n",
       "</div>"
      ],
      "text/plain": [
       "          Country  Population  GDP_per_capita Unemployment_rate     Area   \n",
       "1           China  1439323776           16708             3.80%  9640011  \\\n",
       "0   United States   331002651           65298             6.10%  9629091   \n",
       "13    Switzerland     8654622           82792             2.50%    41285   \n",
       "\n",
       "        Capital_City  \n",
       "1            Beijing  \n",
       "0   Washington, D.C.  \n",
       "13              Bern  "
      ]
     },
     "execution_count": 9,
     "metadata": {},
     "output_type": "execute_result"
    }
   ],
   "source": [
    "# Filtering the DataFrame for three countries\n",
    "countries = [\"Switzerland\", \"China\", \"United States\"]\n",
    "\n",
    "filtered_df = merged_df.query(\"Country==@countries\" )\n",
    "filtered_df"
   ]
  },
  {
   "cell_type": "code",
   "execution_count": 10,
   "id": "1ec40fd9",
   "metadata": {},
   "outputs": [
    {
     "data": {
      "text/html": [
       "<div>\n",
       "<style scoped>\n",
       "    .dataframe tbody tr th:only-of-type {\n",
       "        vertical-align: middle;\n",
       "    }\n",
       "\n",
       "    .dataframe tbody tr th {\n",
       "        vertical-align: top;\n",
       "    }\n",
       "\n",
       "    .dataframe thead th {\n",
       "        text-align: right;\n",
       "    }\n",
       "</style>\n",
       "<table border=\"1\" class=\"dataframe\">\n",
       "  <thead>\n",
       "    <tr style=\"text-align: right;\">\n",
       "      <th></th>\n",
       "      <th>Country</th>\n",
       "      <th>Population</th>\n",
       "      <th>GDP_per_capita</th>\n",
       "      <th>Unemployment_rate</th>\n",
       "      <th>Area</th>\n",
       "      <th>Capital_City</th>\n",
       "    </tr>\n",
       "  </thead>\n",
       "  <tbody>\n",
       "    <tr>\n",
       "      <th>1</th>\n",
       "      <td>China</td>\n",
       "      <td>1439323776</td>\n",
       "      <td>16708</td>\n",
       "      <td>3.8</td>\n",
       "      <td>9640011</td>\n",
       "      <td>Beijing</td>\n",
       "    </tr>\n",
       "    <tr>\n",
       "      <th>0</th>\n",
       "      <td>United States</td>\n",
       "      <td>331002651</td>\n",
       "      <td>65298</td>\n",
       "      <td>6.1</td>\n",
       "      <td>9629091</td>\n",
       "      <td>Washington, D.C.</td>\n",
       "    </tr>\n",
       "    <tr>\n",
       "      <th>13</th>\n",
       "      <td>Switzerland</td>\n",
       "      <td>8654622</td>\n",
       "      <td>82792</td>\n",
       "      <td>2.5</td>\n",
       "      <td>41285</td>\n",
       "      <td>Bern</td>\n",
       "    </tr>\n",
       "  </tbody>\n",
       "</table>\n",
       "</div>"
      ],
      "text/plain": [
       "          Country  Population  GDP_per_capita  Unemployment_rate     Area   \n",
       "1           China  1439323776           16708                3.8  9640011  \\\n",
       "0   United States   331002651           65298                6.1  9629091   \n",
       "13    Switzerland     8654622           82792                2.5    41285   \n",
       "\n",
       "        Capital_City  \n",
       "1            Beijing  \n",
       "0   Washington, D.C.  \n",
       "13              Bern  "
      ]
     },
     "execution_count": 10,
     "metadata": {},
     "output_type": "execute_result"
    }
   ],
   "source": [
    "# cleaning the unemployment_rate column\n",
    "filtered_df[\"Unemployment_rate\"] = filtered_df[\"Unemployment_rate\"].str.replace(\"%\", \"\").astype(float)\n",
    "filtered_df"
   ]
  },
  {
   "cell_type": "code",
   "execution_count": 11,
   "id": "045ee367",
   "metadata": {},
   "outputs": [
    {
     "data": {
      "image/png": "[encoded data removed]",
      "text/plain": [
       "<Figure size 864x576 with 1 Axes>"
      ]
     },
     "metadata": {
      "needs_background": "light"
     },
     "output_type": "display_data"
    }
   ],
   "source": [
    "plt.figure(figsize=(12, 8))\n",
    "plt.bar(filtered_df.Country, filtered_df.Unemployment_rate)\n",
    "plt.xlabel(\"Countries\")\n",
    "plt.ylabel(\"Unemployment Rate\")\n",
    "plt.title(\"Unemployment Rate of Switzerland, USA and China\",fontsize=20)\n",
    "plt.show()"
   ]
  }
 ],
 "metadata": {
  "kernelspec": {
   "display_name": "Python 3 (ipykernel)",
   "language": "python",
   "name": "python3"
  },
  "language_info": {
   "codemirror_mode": {
    "name": "ipython",
    "version": 3
   },
   "file_extension": ".py",
   "mimetype": "text/x-python",
   "name": "python",
   "nbconvert_exporter": "python",
   "pygments_lexer": "ipython3",
   "version": "3.10.5"
  }
 },
 "nbformat": 4,
 "nbformat_minor": 5
}
